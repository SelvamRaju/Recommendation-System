{
 "cells": [
  {
   "cell_type": "markdown",
   "metadata": {},
   "source": [
    "## Recommendation System Project"
   ]
  },
  {
   "cell_type": "markdown",
   "metadata": {},
   "source": [
    "### Electoronics - Smartphone domain"
   ]
  },
  {
   "cell_type": "code",
   "execution_count": 1,
   "metadata": {},
   "outputs": [],
   "source": [
    "#Importing packages\n",
    "import pandas as pd\n",
    "import numpy as np\n",
    "import seaborn as sns\n",
    "from surprise import Dataset,Reader\n",
    "from surprise.model_selection import cross_validate\n",
    "from surprise import NormalPredictor\n",
    "from surprise.model_selection import train_test_split\n",
    "from surprise import SVD, accuracy\n",
    "from surprise import KNNWithMeans\n",
    "from surprise import Prediction"
   ]
  },
  {
   "cell_type": "markdown",
   "metadata": {},
   "source": [
    "##### Importing all Datasets"
   ]
  },
  {
   "cell_type": "code",
   "execution_count": 2,
   "metadata": {},
   "outputs": [],
   "source": [
    "dfFile1 = pd.read_csv('phone_user_review_file_1.csv', engine='python')\n",
    "dfFile2 = pd.read_csv('phone_user_review_file_2.csv', engine='python')\n",
    "dfFile3 = pd.read_csv('phone_user_review_file_3.csv', engine='python')\n",
    "dfFile4 = pd.read_csv('phone_user_review_file_4.csv', engine='python')\n",
    "dfFile5 = pd.read_csv('phone_user_review_file_5.csv', engine='python')\n",
    "dfFile6 = pd.read_csv('phone_user_review_file_6.csv', engine='python')"
   ]
  },
  {
   "cell_type": "code",
   "execution_count": 3,
   "metadata": {},
   "outputs": [
    {
     "name": "stdout",
     "output_type": "stream",
     "text": [
      "Shape of file 1 :  (374910, 11)\n",
      "Shape of file 2 :  (114925, 11)\n",
      "Shape of file 3 :  (312961, 11)\n",
      "Shape of file 4 :  (98284, 11)\n",
      "Shape of file 5 :  (350216, 11)\n",
      "Shape of file 6 :  (163837, 11)\n"
     ]
    }
   ],
   "source": [
    "print('Shape of file 1 : ',dfFile1.shape);\n",
    "print('Shape of file 2 : ',dfFile2.shape);\n",
    "print('Shape of file 3 : ',dfFile3.shape);\n",
    "print('Shape of file 4 : ',dfFile4.shape);\n",
    "print('Shape of file 5 : ',dfFile5.shape);\n",
    "print('Shape of file 6 : ',dfFile6.shape);"
   ]
  },
  {
   "cell_type": "markdown",
   "metadata": {},
   "source": [
    "#### Merging all datasets and printing its shape"
   ]
  },
  {
   "cell_type": "code",
   "execution_count": 4,
   "metadata": {},
   "outputs": [
    {
     "data": {
      "text/plain": [
       "(1415133, 11)"
      ]
     },
     "execution_count": 4,
     "metadata": {},
     "output_type": "execute_result"
    }
   ],
   "source": [
    "mergedDF = pd.concat([dfFile1, dfFile2, dfFile3, dfFile4, dfFile5, dfFile6])\n",
    "mergedDF.shape"
   ]
  },
  {
   "cell_type": "code",
   "execution_count": 5,
   "metadata": {},
   "outputs": [
    {
     "name": "stdout",
     "output_type": "stream",
     "text": [
      "<class 'pandas.core.frame.DataFrame'>\n",
      "Int64Index: 1415133 entries, 0 to 163836\n",
      "Data columns (total 11 columns):\n",
      " #   Column     Non-Null Count    Dtype  \n",
      "---  ------     --------------    -----  \n",
      " 0   phone_url  1415133 non-null  object \n",
      " 1   date       1415133 non-null  object \n",
      " 2   lang       1415133 non-null  object \n",
      " 3   country    1415133 non-null  object \n",
      " 4   source     1415133 non-null  object \n",
      " 5   domain     1415133 non-null  object \n",
      " 6   score      1351644 non-null  float64\n",
      " 7   score_max  1351644 non-null  float64\n",
      " 8   extract    1395772 non-null  object \n",
      " 9   author     1351931 non-null  object \n",
      " 10  product    1415132 non-null  object \n",
      "dtypes: float64(2), object(9)\n",
      "memory usage: 129.6+ MB\n"
     ]
    }
   ],
   "source": [
    "# Info about dataset \n",
    "mergedDF.info()"
   ]
  },
  {
   "cell_type": "code",
   "execution_count": 6,
   "metadata": {},
   "outputs": [
    {
     "data": {
      "text/html": [
       "<div>\n",
       "<style scoped>\n",
       "    .dataframe tbody tr th:only-of-type {\n",
       "        vertical-align: middle;\n",
       "    }\n",
       "\n",
       "    .dataframe tbody tr th {\n",
       "        vertical-align: top;\n",
       "    }\n",
       "\n",
       "    .dataframe thead th {\n",
       "        text-align: right;\n",
       "    }\n",
       "</style>\n",
       "<table border=\"1\" class=\"dataframe\">\n",
       "  <thead>\n",
       "    <tr style=\"text-align: right;\">\n",
       "      <th></th>\n",
       "      <th>count</th>\n",
       "      <th>mean</th>\n",
       "      <th>std</th>\n",
       "      <th>min</th>\n",
       "      <th>25%</th>\n",
       "      <th>50%</th>\n",
       "      <th>75%</th>\n",
       "      <th>max</th>\n",
       "    </tr>\n",
       "  </thead>\n",
       "  <tbody>\n",
       "    <tr>\n",
       "      <th>score</th>\n",
       "      <td>1351644.0</td>\n",
       "      <td>8.00706</td>\n",
       "      <td>2.616121</td>\n",
       "      <td>0.2</td>\n",
       "      <td>7.2</td>\n",
       "      <td>9.2</td>\n",
       "      <td>10.0</td>\n",
       "      <td>10.0</td>\n",
       "    </tr>\n",
       "    <tr>\n",
       "      <th>score_max</th>\n",
       "      <td>1351644.0</td>\n",
       "      <td>10.00000</td>\n",
       "      <td>0.000000</td>\n",
       "      <td>10.0</td>\n",
       "      <td>10.0</td>\n",
       "      <td>10.0</td>\n",
       "      <td>10.0</td>\n",
       "      <td>10.0</td>\n",
       "    </tr>\n",
       "  </tbody>\n",
       "</table>\n",
       "</div>"
      ],
      "text/plain": [
       "               count      mean       std   min   25%   50%   75%   max\n",
       "score      1351644.0   8.00706  2.616121   0.2   7.2   9.2  10.0  10.0\n",
       "score_max  1351644.0  10.00000  0.000000  10.0  10.0  10.0  10.0  10.0"
      ]
     },
     "execution_count": 6,
     "metadata": {},
     "output_type": "execute_result"
    }
   ],
   "source": [
    "mergedDF.describe().T"
   ]
  },
  {
   "cell_type": "markdown",
   "metadata": {},
   "source": [
    "#### Rounding off to near integer"
   ]
  },
  {
   "cell_type": "code",
   "execution_count": 7,
   "metadata": {},
   "outputs": [
    {
     "data": {
      "text/plain": [
       "(1415133, 11)"
      ]
     },
     "execution_count": 7,
     "metadata": {},
     "output_type": "execute_result"
    }
   ],
   "source": [
    "mergedDF = mergedDF.copy()\n",
    "mergedDF.shape"
   ]
  },
  {
   "cell_type": "code",
   "execution_count": 8,
   "metadata": {},
   "outputs": [],
   "source": [
    "mergedDF['score'] = round(mergedDF['score'])"
   ]
  },
  {
   "cell_type": "code",
   "execution_count": 9,
   "metadata": {},
   "outputs": [
    {
     "data": {
      "text/html": [
       "<div>\n",
       "<style scoped>\n",
       "    .dataframe tbody tr th:only-of-type {\n",
       "        vertical-align: middle;\n",
       "    }\n",
       "\n",
       "    .dataframe tbody tr th {\n",
       "        vertical-align: top;\n",
       "    }\n",
       "\n",
       "    .dataframe thead th {\n",
       "        text-align: right;\n",
       "    }\n",
       "</style>\n",
       "<table border=\"1\" class=\"dataframe\">\n",
       "  <thead>\n",
       "    <tr style=\"text-align: right;\">\n",
       "      <th></th>\n",
       "      <th>phone_url</th>\n",
       "      <th>date</th>\n",
       "      <th>lang</th>\n",
       "      <th>country</th>\n",
       "      <th>source</th>\n",
       "      <th>domain</th>\n",
       "      <th>score</th>\n",
       "      <th>score_max</th>\n",
       "      <th>extract</th>\n",
       "      <th>author</th>\n",
       "      <th>product</th>\n",
       "    </tr>\n",
       "  </thead>\n",
       "  <tbody>\n",
       "    <tr>\n",
       "      <th>0</th>\n",
       "      <td>/cellphones/samsung-galaxy-s8/</td>\n",
       "      <td>5/2/2017</td>\n",
       "      <td>en</td>\n",
       "      <td>us</td>\n",
       "      <td>Verizon Wireless</td>\n",
       "      <td>verizonwireless.com</td>\n",
       "      <td>10.0</td>\n",
       "      <td>10.0</td>\n",
       "      <td>As a diehard Samsung fan who has had every Sam...</td>\n",
       "      <td>CarolAnn35</td>\n",
       "      <td>Samsung Galaxy S8</td>\n",
       "    </tr>\n",
       "    <tr>\n",
       "      <th>1</th>\n",
       "      <td>/cellphones/samsung-galaxy-s8/</td>\n",
       "      <td>4/28/2017</td>\n",
       "      <td>en</td>\n",
       "      <td>us</td>\n",
       "      <td>Phone Arena</td>\n",
       "      <td>phonearena.com</td>\n",
       "      <td>10.0</td>\n",
       "      <td>10.0</td>\n",
       "      <td>Love the phone. the phone is sleek and smooth ...</td>\n",
       "      <td>james0923</td>\n",
       "      <td>Samsung Galaxy S8</td>\n",
       "    </tr>\n",
       "    <tr>\n",
       "      <th>2</th>\n",
       "      <td>/cellphones/samsung-galaxy-s8/</td>\n",
       "      <td>5/4/2017</td>\n",
       "      <td>en</td>\n",
       "      <td>us</td>\n",
       "      <td>Amazon</td>\n",
       "      <td>amazon.com</td>\n",
       "      <td>6.0</td>\n",
       "      <td>10.0</td>\n",
       "      <td>Adequate feel. Nice heft. Processor's still sl...</td>\n",
       "      <td>R. Craig</td>\n",
       "      <td>Samsung Galaxy S8 (64GB) G950U 5.8\" 4G LTE Unl...</td>\n",
       "    </tr>\n",
       "    <tr>\n",
       "      <th>3</th>\n",
       "      <td>/cellphones/samsung-galaxy-s8/</td>\n",
       "      <td>5/2/2017</td>\n",
       "      <td>en</td>\n",
       "      <td>us</td>\n",
       "      <td>Samsung</td>\n",
       "      <td>samsung.com</td>\n",
       "      <td>9.0</td>\n",
       "      <td>10.0</td>\n",
       "      <td>Never disappointed. One of the reasons I've be...</td>\n",
       "      <td>Buster2020</td>\n",
       "      <td>Samsung Galaxy S8 64GB (AT&amp;T)</td>\n",
       "    </tr>\n",
       "    <tr>\n",
       "      <th>4</th>\n",
       "      <td>/cellphones/samsung-galaxy-s8/</td>\n",
       "      <td>5/11/2017</td>\n",
       "      <td>en</td>\n",
       "      <td>us</td>\n",
       "      <td>Verizon Wireless</td>\n",
       "      <td>verizonwireless.com</td>\n",
       "      <td>4.0</td>\n",
       "      <td>10.0</td>\n",
       "      <td>I've now found that i'm in a group of people t...</td>\n",
       "      <td>S Ate Mine</td>\n",
       "      <td>Samsung Galaxy S8</td>\n",
       "    </tr>\n",
       "  </tbody>\n",
       "</table>\n",
       "</div>"
      ],
      "text/plain": [
       "                        phone_url       date lang country            source  \\\n",
       "0  /cellphones/samsung-galaxy-s8/   5/2/2017   en      us  Verizon Wireless   \n",
       "1  /cellphones/samsung-galaxy-s8/  4/28/2017   en      us       Phone Arena   \n",
       "2  /cellphones/samsung-galaxy-s8/   5/4/2017   en      us            Amazon   \n",
       "3  /cellphones/samsung-galaxy-s8/   5/2/2017   en      us           Samsung   \n",
       "4  /cellphones/samsung-galaxy-s8/  5/11/2017   en      us  Verizon Wireless   \n",
       "\n",
       "                domain  score  score_max  \\\n",
       "0  verizonwireless.com   10.0       10.0   \n",
       "1       phonearena.com   10.0       10.0   \n",
       "2           amazon.com    6.0       10.0   \n",
       "3          samsung.com    9.0       10.0   \n",
       "4  verizonwireless.com    4.0       10.0   \n",
       "\n",
       "                                             extract       author  \\\n",
       "0  As a diehard Samsung fan who has had every Sam...   CarolAnn35   \n",
       "1  Love the phone. the phone is sleek and smooth ...    james0923   \n",
       "2  Adequate feel. Nice heft. Processor's still sl...     R. Craig   \n",
       "3  Never disappointed. One of the reasons I've be...  Buster2020    \n",
       "4  I've now found that i'm in a group of people t...   S Ate Mine   \n",
       "\n",
       "                                             product  \n",
       "0                                  Samsung Galaxy S8  \n",
       "1                                  Samsung Galaxy S8  \n",
       "2  Samsung Galaxy S8 (64GB) G950U 5.8\" 4G LTE Unl...  \n",
       "3                      Samsung Galaxy S8 64GB (AT&T)  \n",
       "4                                  Samsung Galaxy S8  "
      ]
     },
     "execution_count": 9,
     "metadata": {},
     "output_type": "execute_result"
    }
   ],
   "source": [
    "mergedDF.head()"
   ]
  },
  {
   "cell_type": "code",
   "execution_count": 10,
   "metadata": {},
   "outputs": [
    {
     "data": {
      "text/plain": [
       "phone_url    False\n",
       "date         False\n",
       "lang         False\n",
       "country      False\n",
       "source       False\n",
       "domain       False\n",
       "score         True\n",
       "score_max     True\n",
       "extract       True\n",
       "author        True\n",
       "product       True\n",
       "dtype: bool"
      ]
     },
     "execution_count": 10,
     "metadata": {},
     "output_type": "execute_result"
    }
   ],
   "source": [
    "#null check\n",
    "mergedDF.isnull().any()"
   ]
  },
  {
   "cell_type": "code",
   "execution_count": 11,
   "metadata": {},
   "outputs": [
    {
     "data": {
      "text/plain": [
       "phone_url        0\n",
       "date             0\n",
       "lang             0\n",
       "country          0\n",
       "source           0\n",
       "domain           0\n",
       "score        63489\n",
       "score_max    63489\n",
       "extract      19361\n",
       "author       63202\n",
       "product          1\n",
       "dtype: int64"
      ]
     },
     "execution_count": 11,
     "metadata": {},
     "output_type": "execute_result"
    }
   ],
   "source": [
    "mergedDF.isna().sum()"
   ]
  },
  {
   "cell_type": "code",
   "execution_count": 12,
   "metadata": {},
   "outputs": [
    {
     "data": {
      "text/plain": [
       "10.0    1351644\n",
       "Name: score_max, dtype: int64"
      ]
     },
     "execution_count": 12,
     "metadata": {},
     "output_type": "execute_result"
    }
   ],
   "source": [
    "mergedDF['score_max'].value_counts()"
   ]
  },
  {
   "cell_type": "code",
   "execution_count": 13,
   "metadata": {},
   "outputs": [],
   "source": [
    "mergedDF['score_max'] = mergedDF['score_max'].fillna(mergedDF['score_max'].mean())"
   ]
  },
  {
   "cell_type": "code",
   "execution_count": 14,
   "metadata": {},
   "outputs": [
    {
     "data": {
      "text/plain": [
       "10.0    1415133\n",
       "Name: score_max, dtype: int64"
      ]
     },
     "execution_count": 14,
     "metadata": {},
     "output_type": "execute_result"
    }
   ],
   "source": [
    "mergedDF['score_max'].value_counts()"
   ]
  },
  {
   "cell_type": "code",
   "execution_count": 15,
   "metadata": {},
   "outputs": [],
   "source": [
    "mergedDF['score'] = mergedDF['score'].fillna(mergedDF['score'].median())"
   ]
  },
  {
   "cell_type": "code",
   "execution_count": 16,
   "metadata": {},
   "outputs": [],
   "source": [
    "mergedDF.dropna(subset=['product'],inplace=True)"
   ]
  },
  {
   "cell_type": "code",
   "execution_count": 17,
   "metadata": {},
   "outputs": [
    {
     "data": {
      "text/plain": [
       "phone_url        0\n",
       "date             0\n",
       "lang             0\n",
       "country          0\n",
       "source           0\n",
       "domain           0\n",
       "score            0\n",
       "score_max        0\n",
       "extract      19361\n",
       "author       63201\n",
       "product          0\n",
       "dtype: int64"
      ]
     },
     "execution_count": 17,
     "metadata": {},
     "output_type": "execute_result"
    }
   ],
   "source": [
    "mergedDF.isna().sum()"
   ]
  },
  {
   "cell_type": "markdown",
   "metadata": {},
   "source": [
    "#### Removing Duplicates"
   ]
  },
  {
   "cell_type": "code",
   "execution_count": 18,
   "metadata": {},
   "outputs": [
    {
     "data": {
      "text/html": [
       "<div>\n",
       "<style scoped>\n",
       "    .dataframe tbody tr th:only-of-type {\n",
       "        vertical-align: middle;\n",
       "    }\n",
       "\n",
       "    .dataframe tbody tr th {\n",
       "        vertical-align: top;\n",
       "    }\n",
       "\n",
       "    .dataframe thead th {\n",
       "        text-align: right;\n",
       "    }\n",
       "</style>\n",
       "<table border=\"1\" class=\"dataframe\">\n",
       "  <thead>\n",
       "    <tr style=\"text-align: right;\">\n",
       "      <th></th>\n",
       "      <th>phone_url</th>\n",
       "      <th>date</th>\n",
       "      <th>lang</th>\n",
       "      <th>country</th>\n",
       "      <th>source</th>\n",
       "      <th>domain</th>\n",
       "      <th>score</th>\n",
       "      <th>score_max</th>\n",
       "      <th>extract</th>\n",
       "      <th>author</th>\n",
       "      <th>product</th>\n",
       "    </tr>\n",
       "  </thead>\n",
       "  <tbody>\n",
       "    <tr>\n",
       "      <th>342</th>\n",
       "      <td>/cellphones/samsung-galaxy-s8/</td>\n",
       "      <td>4/26/2017</td>\n",
       "      <td>nl</td>\n",
       "      <td>nl</td>\n",
       "      <td>Coolblue</td>\n",
       "      <td>coolblue.nl</td>\n",
       "      <td>10.0</td>\n",
       "      <td>10.0</td>\n",
       "      <td>Ik vind het tot nu toe een heel erg aangenaam ...</td>\n",
       "      <td>Stefanie Hinneman</td>\n",
       "      <td>Samsung Galaxy S8 Zwart</td>\n",
       "    </tr>\n",
       "    <tr>\n",
       "      <th>343</th>\n",
       "      <td>/cellphones/samsung-galaxy-s8/</td>\n",
       "      <td>4/26/2017</td>\n",
       "      <td>nl</td>\n",
       "      <td>nl</td>\n",
       "      <td>Coolblue</td>\n",
       "      <td>coolblue.nl</td>\n",
       "      <td>10.0</td>\n",
       "      <td>10.0</td>\n",
       "      <td>Ik vind het tot nu toe een heel erg aangenaam ...</td>\n",
       "      <td>Stefanie Hinneman</td>\n",
       "      <td>Samsung Galaxy S8 Zwart</td>\n",
       "    </tr>\n",
       "    <tr>\n",
       "      <th>371</th>\n",
       "      <td>/cellphones/samsung-galaxy-s8/</td>\n",
       "      <td>4/25/2017</td>\n",
       "      <td>nl</td>\n",
       "      <td>nl</td>\n",
       "      <td>Coolblue</td>\n",
       "      <td>coolblue.nl</td>\n",
       "      <td>10.0</td>\n",
       "      <td>10.0</td>\n",
       "      <td>Tot nu toe in de eerste dagen weinig tot geen ...</td>\n",
       "      <td>Robin Winckens</td>\n",
       "      <td>Samsung Galaxy S8 Zwart</td>\n",
       "    </tr>\n",
       "    <tr>\n",
       "      <th>452</th>\n",
       "      <td>/cellphones/samsung-galaxy-s8/</td>\n",
       "      <td>4/25/2017</td>\n",
       "      <td>nl</td>\n",
       "      <td>nl</td>\n",
       "      <td>Coolblue</td>\n",
       "      <td>coolblue.nl</td>\n",
       "      <td>10.0</td>\n",
       "      <td>10.0</td>\n",
       "      <td>Wat een huge scherm!</td>\n",
       "      <td>B Yapar</td>\n",
       "      <td>Samsung Galaxy S8 Zwart</td>\n",
       "    </tr>\n",
       "    <tr>\n",
       "      <th>3718</th>\n",
       "      <td>/cellphones/samsung-galaxy-s6-edgeplus/</td>\n",
       "      <td>10/4/2015</td>\n",
       "      <td>en</td>\n",
       "      <td>us</td>\n",
       "      <td>Amazon</td>\n",
       "      <td>amazon.com</td>\n",
       "      <td>10.0</td>\n",
       "      <td>10.0</td>\n",
       "      <td>For readers, my opinions on this device (ATT 3...</td>\n",
       "      <td>FrozenCloud</td>\n",
       "      <td>Samsung Galaxy S6 Edge+, Black 64GB (Verizon W...</td>\n",
       "    </tr>\n",
       "    <tr>\n",
       "      <th>...</th>\n",
       "      <td>...</td>\n",
       "      <td>...</td>\n",
       "      <td>...</td>\n",
       "      <td>...</td>\n",
       "      <td>...</td>\n",
       "      <td>...</td>\n",
       "      <td>...</td>\n",
       "      <td>...</td>\n",
       "      <td>...</td>\n",
       "      <td>...</td>\n",
       "      <td>...</td>\n",
       "    </tr>\n",
       "    <tr>\n",
       "      <th>158568</th>\n",
       "      <td>/cellphones/samsung-sgh-2400/</td>\n",
       "      <td>7/21/2000</td>\n",
       "      <td>en</td>\n",
       "      <td>gb</td>\n",
       "      <td>Ciao</td>\n",
       "      <td>ciao.co.uk</td>\n",
       "      <td>6.0</td>\n",
       "      <td>10.0</td>\n",
       "      <td>The more expensive of the Samsung series but l...</td>\n",
       "      <td>cellnetsms</td>\n",
       "      <td>Samsung SGH 2400</td>\n",
       "    </tr>\n",
       "    <tr>\n",
       "      <th>158911</th>\n",
       "      <td>/cellphones/samsung-sgh-600/</td>\n",
       "      <td>4/30/2015</td>\n",
       "      <td>tr</td>\n",
       "      <td>tr</td>\n",
       "      <td>Cepworld</td>\n",
       "      <td>cepworld.com</td>\n",
       "      <td>9.0</td>\n",
       "      <td>10.0</td>\n",
       "      <td>varsa satan 05312614607</td>\n",
       "      <td>muhsin</td>\n",
       "      <td>Samsung (936) SGH-600</td>\n",
       "    </tr>\n",
       "    <tr>\n",
       "      <th>159375</th>\n",
       "      <td>/cellphones/alcatel-ot-easy/</td>\n",
       "      <td>11/13/2009</td>\n",
       "      <td>es</td>\n",
       "      <td>es</td>\n",
       "      <td>Dooyoo</td>\n",
       "      <td>dooyoo.es</td>\n",
       "      <td>6.0</td>\n",
       "      <td>10.0</td>\n",
       "      <td>en la opi</td>\n",
       "      <td>NaN</td>\n",
       "      <td>Alcatel One Touch Easy</td>\n",
       "    </tr>\n",
       "    <tr>\n",
       "      <th>160164</th>\n",
       "      <td>/cellphones/philips-genie-2000/</td>\n",
       "      <td>8/20/2000</td>\n",
       "      <td>it</td>\n",
       "      <td>it</td>\n",
       "      <td>Ciao</td>\n",
       "      <td>ciao.it</td>\n",
       "      <td>8.0</td>\n",
       "      <td>10.0</td>\n",
       "      <td>Il Genie e' un buon telefono, scorrimente del ...</td>\n",
       "      <td>tonyblack</td>\n",
       "      <td>Philips Genie 2000</td>\n",
       "    </tr>\n",
       "    <tr>\n",
       "      <th>161654</th>\n",
       "      <td>/cellphones/motorola-m3888/</td>\n",
       "      <td>12/11/2000</td>\n",
       "      <td>it</td>\n",
       "      <td>it</td>\n",
       "      <td>Ciao</td>\n",
       "      <td>ciao.it</td>\n",
       "      <td>10.0</td>\n",
       "      <td>10.0</td>\n",
       "      <td>E' un telefonino qualitativamente ottimo sopra...</td>\n",
       "      <td>NaN</td>\n",
       "      <td>Motorola M3888</td>\n",
       "    </tr>\n",
       "  </tbody>\n",
       "</table>\n",
       "<p>8678 rows × 11 columns</p>\n",
       "</div>"
      ],
      "text/plain": [
       "                                      phone_url        date lang country  \\\n",
       "342              /cellphones/samsung-galaxy-s8/   4/26/2017   nl      nl   \n",
       "343              /cellphones/samsung-galaxy-s8/   4/26/2017   nl      nl   \n",
       "371              /cellphones/samsung-galaxy-s8/   4/25/2017   nl      nl   \n",
       "452              /cellphones/samsung-galaxy-s8/   4/25/2017   nl      nl   \n",
       "3718    /cellphones/samsung-galaxy-s6-edgeplus/   10/4/2015   en      us   \n",
       "...                                         ...         ...  ...     ...   \n",
       "158568            /cellphones/samsung-sgh-2400/   7/21/2000   en      gb   \n",
       "158911             /cellphones/samsung-sgh-600/   4/30/2015   tr      tr   \n",
       "159375             /cellphones/alcatel-ot-easy/  11/13/2009   es      es   \n",
       "160164          /cellphones/philips-genie-2000/   8/20/2000   it      it   \n",
       "161654              /cellphones/motorola-m3888/  12/11/2000   it      it   \n",
       "\n",
       "          source        domain  score  score_max  \\\n",
       "342     Coolblue   coolblue.nl   10.0       10.0   \n",
       "343     Coolblue   coolblue.nl   10.0       10.0   \n",
       "371     Coolblue   coolblue.nl   10.0       10.0   \n",
       "452     Coolblue   coolblue.nl   10.0       10.0   \n",
       "3718      Amazon    amazon.com   10.0       10.0   \n",
       "...          ...           ...    ...        ...   \n",
       "158568      Ciao    ciao.co.uk    6.0       10.0   \n",
       "158911  Cepworld  cepworld.com    9.0       10.0   \n",
       "159375    Dooyoo     dooyoo.es    6.0       10.0   \n",
       "160164      Ciao       ciao.it    8.0       10.0   \n",
       "161654      Ciao       ciao.it   10.0       10.0   \n",
       "\n",
       "                                                  extract             author  \\\n",
       "342     Ik vind het tot nu toe een heel erg aangenaam ...  Stefanie Hinneman   \n",
       "343     Ik vind het tot nu toe een heel erg aangenaam ...  Stefanie Hinneman   \n",
       "371     Tot nu toe in de eerste dagen weinig tot geen ...     Robin Winckens   \n",
       "452                                  Wat een huge scherm!            B Yapar   \n",
       "3718    For readers, my opinions on this device (ATT 3...        FrozenCloud   \n",
       "...                                                   ...                ...   \n",
       "158568  The more expensive of the Samsung series but l...         cellnetsms   \n",
       "158911                            varsa satan 05312614607             muhsin   \n",
       "159375                                          en la opi                NaN   \n",
       "160164  Il Genie e' un buon telefono, scorrimente del ...          tonyblack   \n",
       "161654  E' un telefonino qualitativamente ottimo sopra...                NaN   \n",
       "\n",
       "                                                  product  \n",
       "342                               Samsung Galaxy S8 Zwart  \n",
       "343                               Samsung Galaxy S8 Zwart  \n",
       "371                               Samsung Galaxy S8 Zwart  \n",
       "452                               Samsung Galaxy S8 Zwart  \n",
       "3718    Samsung Galaxy S6 Edge+, Black 64GB (Verizon W...  \n",
       "...                                                   ...  \n",
       "158568                                   Samsung SGH 2400  \n",
       "158911                              Samsung (936) SGH-600  \n",
       "159375                             Alcatel One Touch Easy  \n",
       "160164                                 Philips Genie 2000  \n",
       "161654                                     Motorola M3888  \n",
       "\n",
       "[8678 rows x 11 columns]"
      ]
     },
     "execution_count": 18,
     "metadata": {},
     "output_type": "execute_result"
    }
   ],
   "source": [
    "duplicatedData = mergedDF[mergedDF.duplicated(subset=['phone_url','date','lang','country','extract','author','product'])]\n",
    "duplicatedData"
   ]
  },
  {
   "cell_type": "code",
   "execution_count": 19,
   "metadata": {},
   "outputs": [
    {
     "data": {
      "text/plain": [
       "86780.0"
      ]
     },
     "execution_count": 19,
     "metadata": {},
     "output_type": "execute_result"
    }
   ],
   "source": [
    "duplicatedData.score_max.sum()"
   ]
  },
  {
   "cell_type": "code",
   "execution_count": 20,
   "metadata": {},
   "outputs": [
    {
     "data": {
      "text/plain": [
       "8678"
      ]
     },
     "execution_count": 20,
     "metadata": {},
     "output_type": "execute_result"
    }
   ],
   "source": [
    "mergedDF.duplicated(subset=['phone_url','date','lang','country','extract','author','product']).sum()"
   ]
  },
  {
   "cell_type": "code",
   "execution_count": 21,
   "metadata": {},
   "outputs": [
    {
     "data": {
      "text/plain": [
       "0"
      ]
     },
     "execution_count": 21,
     "metadata": {},
     "output_type": "execute_result"
    }
   ],
   "source": [
    "mergedDF.drop_duplicates(subset=['phone_url','date','lang','country','extract','author','product'],keep='first',inplace=True)\n",
    "mergedDF.duplicated(subset=['phone_url','date','lang','country','extract','author','product']).sum()"
   ]
  },
  {
   "cell_type": "markdown",
   "metadata": {},
   "source": [
    "#### Keeping 1000000 as data sample with random state = 612"
   ]
  },
  {
   "cell_type": "code",
   "execution_count": 22,
   "metadata": {},
   "outputs": [],
   "source": [
    "mergedDF = mergedDF.sample(n=1000000, random_state=612)"
   ]
  },
  {
   "cell_type": "markdown",
   "metadata": {},
   "source": [
    "#### Dropping irrelevant features"
   ]
  },
  {
   "cell_type": "code",
   "execution_count": 23,
   "metadata": {},
   "outputs": [
    {
     "data": {
      "text/plain": [
       "(1000000, 3)"
      ]
     },
     "execution_count": 23,
     "metadata": {},
     "output_type": "execute_result"
    }
   ],
   "source": [
    "processedDF = mergedDF[['author', 'product', 'score']]\n",
    "processedDF.shape"
   ]
  },
  {
   "cell_type": "markdown",
   "metadata": {},
   "source": [
    "#### Identify the most rated features."
   ]
  },
  {
   "cell_type": "code",
   "execution_count": 24,
   "metadata": {},
   "outputs": [
    {
     "data": {
      "text/plain": [
       "product\n",
       "Lenovo Vibe K4 Note (White,16GB)                                                                                       3681\n",
       "Lenovo Vibe K4 Note (Black, 16GB)                                                                                      3106\n",
       "OnePlus 3 (Graphite, 64 GB)                                                                                            2896\n",
       "OnePlus 3 (Soft Gold, 64 GB)                                                                                           2523\n",
       "Samsung Galaxy Express I8730                                                                                           1875\n",
       "                                                                                                                       ... \n",
       "NOKIA Lumia 820 - noir                                                                                                    1\n",
       "NOKIA Lumia 920 - svart                                                                                                   1\n",
       "NOKIA Lumia 925 Blanc                                                                                                     1\n",
       "NOKIA N76 CEP TELEFONU                                                                                                    1\n",
       "'Smartphone Meizu Pro 5, 5,7 pouces avec Exynos 7420 Octa 8 Core Processeur. mÃ©moire RAM 4 Go et 64 Go mÃ©moire...       1\n",
       "Name: score, Length: 56376, dtype: int64"
      ]
     },
     "execution_count": 24,
     "metadata": {},
     "output_type": "execute_result"
    }
   ],
   "source": [
    "processedDF.groupby('product')['score'].count().sort_values(ascending=False)"
   ]
  },
  {
   "cell_type": "markdown",
   "metadata": {},
   "source": [
    "#### Identify the users with most number of reviews."
   ]
  },
  {
   "cell_type": "code",
   "execution_count": 25,
   "metadata": {},
   "outputs": [
    {
     "data": {
      "text/plain": [
       "author\n",
       "Amazon Customer                 54621\n",
       "Cliente Amazon                  13670\n",
       "e-bit                            6025\n",
       "Client d'Amazon                  5461\n",
       "Amazon Kunde                     3387\n",
       "                                ...  \n",
       "achuck49                            1\n",
       "achultze49                          1\n",
       "achunn82                            1\n",
       "achurch09                           1\n",
       "!!!!!!!!!!!!!!!!!!!!!!!!!!!!        1\n",
       "Name: score, Length: 597157, dtype: int64"
      ]
     },
     "execution_count": 25,
     "metadata": {},
     "output_type": "execute_result"
    }
   ],
   "source": [
    "processedDF.groupby('author')['score'].count().sort_values(ascending=False)"
   ]
  },
  {
   "cell_type": "markdown",
   "metadata": {},
   "source": [
    "#### Select the data with products having more than 50 ratings and users who have given more than 50 ratings.\n",
    "#### Report the shape of the final dataset."
   ]
  },
  {
   "cell_type": "code",
   "execution_count": 26,
   "metadata": {},
   "outputs": [
    {
     "data": {
      "text/plain": [
       "(4096, 2)"
      ]
     },
     "execution_count": 26,
     "metadata": {},
     "output_type": "execute_result"
    }
   ],
   "source": [
    "groupedDF = pd.DataFrame(processedDF.groupby('product').count())\n",
    "author50DF = groupedDF['author'] > 50\n",
    "score50DF = groupedDF['score'] > 50\n",
    "groupedDF.where(author50DF & score50DF,inplace=False).dropna().shape"
   ]
  },
  {
   "cell_type": "code",
   "execution_count": 27,
   "metadata": {},
   "outputs": [
    {
     "data": {
      "text/html": [
       "<div>\n",
       "<style scoped>\n",
       "    .dataframe tbody tr th:only-of-type {\n",
       "        vertical-align: middle;\n",
       "    }\n",
       "\n",
       "    .dataframe tbody tr th {\n",
       "        vertical-align: top;\n",
       "    }\n",
       "\n",
       "    .dataframe thead th {\n",
       "        text-align: right;\n",
       "    }\n",
       "</style>\n",
       "<table border=\"1\" class=\"dataframe\">\n",
       "  <thead>\n",
       "    <tr style=\"text-align: right;\">\n",
       "      <th></th>\n",
       "      <th>author</th>\n",
       "      <th>score</th>\n",
       "    </tr>\n",
       "    <tr>\n",
       "      <th>product</th>\n",
       "      <th></th>\n",
       "      <th></th>\n",
       "    </tr>\n",
       "  </thead>\n",
       "  <tbody>\n",
       "    <tr>\n",
       "      <th>3100 / 3120</th>\n",
       "      <td>55.0</td>\n",
       "      <td>55.0</td>\n",
       "    </tr>\n",
       "    <tr>\n",
       "      <th>5.5-Inch Unlocked Lenovo A850 3G Smartphone-(960x540) Quad Core 4GB MT6582m 1331MHz Android 4.2 Dual Camera +Dual SIM -Black (Rooted + Google Play)</th>\n",
       "      <td>78.0</td>\n",
       "      <td>78.0</td>\n",
       "    </tr>\n",
       "    <tr>\n",
       "      <th>6126 / 6131 / 6133</th>\n",
       "      <td>88.0</td>\n",
       "      <td>88.0</td>\n",
       "    </tr>\n",
       "    <tr>\n",
       "      <th>6682 / 6681</th>\n",
       "      <td>63.0</td>\n",
       "      <td>65.0</td>\n",
       "    </tr>\n",
       "    <tr>\n",
       "      <th>AICEK Coque ASUS ZenFone 3 Max ZC520TL, AICEK Etui Silicone Gel ASUS ZenFone 3 Max Housse Antichoc ZenFone 3 Max Transparente Souple Coque de Protection pour ASUS ZenFone 3 Max(5.2 Pouces)</th>\n",
       "      <td>58.0</td>\n",
       "      <td>58.0</td>\n",
       "    </tr>\n",
       "  </tbody>\n",
       "</table>\n",
       "</div>"
      ],
      "text/plain": [
       "                                                    author  score\n",
       "product                                                          \n",
       "3100 / 3120                                           55.0   55.0\n",
       "5.5-Inch Unlocked Lenovo A850 3G Smartphone-(96...    78.0   78.0\n",
       "6126 / 6131 / 6133                                    88.0   88.0\n",
       "6682 / 6681                                           63.0   65.0\n",
       "AICEK Coque ASUS ZenFone 3 Max ZC520TL, AICEK E...    58.0   58.0"
      ]
     },
     "execution_count": 27,
     "metadata": {},
     "output_type": "execute_result"
    }
   ],
   "source": [
    "groupedDF.where(author50DF & score50DF,inplace=False).dropna().head()"
   ]
  },
  {
   "cell_type": "markdown",
   "metadata": {},
   "source": [
    "#### Build a popularity based model and recommend top 5 mobile phones."
   ]
  },
  {
   "cell_type": "code",
   "execution_count": 28,
   "metadata": {},
   "outputs": [
    {
     "data": {
      "text/html": [
       "<div>\n",
       "<style scoped>\n",
       "    .dataframe tbody tr th:only-of-type {\n",
       "        vertical-align: middle;\n",
       "    }\n",
       "\n",
       "    .dataframe tbody tr th {\n",
       "        vertical-align: top;\n",
       "    }\n",
       "\n",
       "    .dataframe thead th {\n",
       "        text-align: right;\n",
       "    }\n",
       "</style>\n",
       "<table border=\"1\" class=\"dataframe\">\n",
       "  <thead>\n",
       "    <tr style=\"text-align: right;\">\n",
       "      <th></th>\n",
       "      <th>score</th>\n",
       "      <th>ratingsCount</th>\n",
       "    </tr>\n",
       "    <tr>\n",
       "      <th>product</th>\n",
       "      <th></th>\n",
       "      <th></th>\n",
       "    </tr>\n",
       "  </thead>\n",
       "  <tbody>\n",
       "    <tr>\n",
       "      <th>'Smartphone Meizu Pro 5, 5,7 pouces avec Exynos 7420 Octa 8 Core Processeur. mÃ©moire RAM 4 Go et 64 Go mÃ©moire...</th>\n",
       "      <td>8.0</td>\n",
       "      <td>1</td>\n",
       "    </tr>\n",
       "    <tr>\n",
       "      <th>'Sony Xperia X (F5122) â€“ White â€“ Dual Sim (Google Android 6.0.1, 5 Display, 2 x CORTEX A72 1.8 GHz + 4 x cortex-a53...</th>\n",
       "      <td>10.0</td>\n",
       "      <td>1</td>\n",
       "    </tr>\n",
       "    <tr>\n",
       "      <th>'Sony Xperia X (F5122) â€“ rosa â€“ Dual Sim (Google Android 6.0.1, 5 Display, 2 x CORTEX A72 1.8 GHz + 4 x cortex-a53...</th>\n",
       "      <td>10.0</td>\n",
       "      <td>1</td>\n",
       "    </tr>\n",
       "    <tr>\n",
       "      <th>(7.62 cm (3 )Afficheur/Ã©cran, 2 MPixCamÃ©ra;blanc)-Smartphone</th>\n",
       "      <td>6.0</td>\n",
       "      <td>1</td>\n",
       "    </tr>\n",
       "    <tr>\n",
       "      <th>(CUBOT) GT88 5.5\" qHD 1.3GHz MTK6572 2-Core Android 4.2.2 3G Phone 8MP CAM 512MB RAM 4GB ROM</th>\n",
       "      <td>8.0</td>\n",
       "      <td>1</td>\n",
       "    </tr>\n",
       "  </tbody>\n",
       "</table>\n",
       "</div>"
      ],
      "text/plain": [
       "                                                    score  ratingsCount\n",
       "product                                                                \n",
       "'Smartphone Meizu Pro 5, 5,7 pouces avec Exynos...    8.0             1\n",
       "'Sony Xperia X (F5122) â€“ White â€“ Dual Sim (...   10.0             1\n",
       "'Sony Xperia X (F5122) â€“ rosa â€“ Dual Sim (G...   10.0             1\n",
       "(7.62 cm (3 )Afficheur/Ã©cran, 2 MPixCamÃ©ra;bl...    6.0             1\n",
       "(CUBOT) GT88 5.5\" qHD 1.3GHz MTK6572 2-Core And...    8.0             1"
      ]
     },
     "execution_count": 28,
     "metadata": {},
     "output_type": "execute_result"
    }
   ],
   "source": [
    "ratingsCount = pd.DataFrame(processedDF.groupby('product')['score'].mean())\n",
    "ratingsCount['ratingsCount'] = pd.DataFrame(processedDF.groupby('product')['score'].count())\n",
    "ratingsCount.head()"
   ]
  },
  {
   "cell_type": "code",
   "execution_count": 29,
   "metadata": {},
   "outputs": [
    {
     "data": {
      "text/html": [
       "<div>\n",
       "<style scoped>\n",
       "    .dataframe tbody tr th:only-of-type {\n",
       "        vertical-align: middle;\n",
       "    }\n",
       "\n",
       "    .dataframe tbody tr th {\n",
       "        vertical-align: top;\n",
       "    }\n",
       "\n",
       "    .dataframe thead th {\n",
       "        text-align: right;\n",
       "    }\n",
       "</style>\n",
       "<table border=\"1\" class=\"dataframe\">\n",
       "  <thead>\n",
       "    <tr style=\"text-align: right;\">\n",
       "      <th></th>\n",
       "      <th>score</th>\n",
       "      <th>ratingsCount</th>\n",
       "      <th>top</th>\n",
       "    </tr>\n",
       "    <tr>\n",
       "      <th>product</th>\n",
       "      <th></th>\n",
       "      <th></th>\n",
       "      <th></th>\n",
       "    </tr>\n",
       "  </thead>\n",
       "  <tbody>\n",
       "    <tr>\n",
       "      <th>Lenovo Vibe K4 Note (White,16GB)</th>\n",
       "      <td>7.186634</td>\n",
       "      <td>3681</td>\n",
       "      <td>26454.0</td>\n",
       "    </tr>\n",
       "    <tr>\n",
       "      <th>OnePlus 3 (Graphite, 64 GB)</th>\n",
       "      <td>8.698895</td>\n",
       "      <td>2896</td>\n",
       "      <td>25192.0</td>\n",
       "    </tr>\n",
       "    <tr>\n",
       "      <th>Lenovo Vibe K4 Note (Black, 16GB)</th>\n",
       "      <td>7.227946</td>\n",
       "      <td>3106</td>\n",
       "      <td>22450.0</td>\n",
       "    </tr>\n",
       "    <tr>\n",
       "      <th>OnePlus 3 (Soft Gold, 64 GB)</th>\n",
       "      <td>8.514467</td>\n",
       "      <td>2523</td>\n",
       "      <td>21482.0</td>\n",
       "    </tr>\n",
       "    <tr>\n",
       "      <th>Samsung Galaxy Express I8730</th>\n",
       "      <td>9.008000</td>\n",
       "      <td>1875</td>\n",
       "      <td>16890.0</td>\n",
       "    </tr>\n",
       "  </tbody>\n",
       "</table>\n",
       "</div>"
      ],
      "text/plain": [
       "                                      score  ratingsCount      top\n",
       "product                                                           \n",
       "Lenovo Vibe K4 Note (White,16GB)   7.186634          3681  26454.0\n",
       "OnePlus 3 (Graphite, 64 GB)        8.698895          2896  25192.0\n",
       "Lenovo Vibe K4 Note (Black, 16GB)  7.227946          3106  22450.0\n",
       "OnePlus 3 (Soft Gold, 64 GB)       8.514467          2523  21482.0\n",
       "Samsung Galaxy Express I8730       9.008000          1875  16890.0"
      ]
     },
     "execution_count": 29,
     "metadata": {},
     "output_type": "execute_result"
    }
   ],
   "source": [
    "#Top 5 smartphones\n",
    "ratingsCount['top'] = ratingsCount['ratingsCount'] * ratingsCount['score']\n",
    "ratingsCount.sort_values(by='top', ascending=False).head(5)"
   ]
  },
  {
   "cell_type": "markdown",
   "metadata": {},
   "source": [
    "#### Build a collaborative filtering model using SVD. You can use SVD from surprise or build it from scratch\n",
    "#### (Note: Incase you’re building it from scratch you can limit your data points to 5000 samples if you face memory issues). \n",
    "#### Build a collaborative filtering model using kNNWithMeans from surprise. \n",
    "#### You can try both user-based and item-based model"
   ]
  },
  {
   "cell_type": "code",
   "execution_count": 30,
   "metadata": {},
   "outputs": [
    {
     "data": {
      "text/plain": [
       "(5000, 3)"
      ]
     },
     "execution_count": 30,
     "metadata": {},
     "output_type": "execute_result"
    }
   ],
   "source": [
    "reader = Reader(rating_scale=(1, 10))\n",
    "\n",
    "sampleDF = processedDF.sample(n=5000, random_state=30)\n",
    "\n",
    "sampleDF.shape\n"
   ]
  },
  {
   "cell_type": "code",
   "execution_count": 31,
   "metadata": {},
   "outputs": [
    {
     "data": {
      "text/html": [
       "<div>\n",
       "<style scoped>\n",
       "    .dataframe tbody tr th:only-of-type {\n",
       "        vertical-align: middle;\n",
       "    }\n",
       "\n",
       "    .dataframe tbody tr th {\n",
       "        vertical-align: top;\n",
       "    }\n",
       "\n",
       "    .dataframe thead th {\n",
       "        text-align: right;\n",
       "    }\n",
       "</style>\n",
       "<table border=\"1\" class=\"dataframe\">\n",
       "  <thead>\n",
       "    <tr style=\"text-align: right;\">\n",
       "      <th></th>\n",
       "      <th>author</th>\n",
       "      <th>product</th>\n",
       "      <th>score</th>\n",
       "    </tr>\n",
       "  </thead>\n",
       "  <tbody>\n",
       "    <tr>\n",
       "      <th>172701</th>\n",
       "      <td>Alberto</td>\n",
       "      <td>Huawei Ascend Mate 7 Premium - Smartphone libr...</td>\n",
       "      <td>8.0</td>\n",
       "    </tr>\n",
       "    <tr>\n",
       "      <th>91792</th>\n",
       "      <td>nicname</td>\n",
       "      <td>Apple iPhone 4 32Gb</td>\n",
       "      <td>10.0</td>\n",
       "    </tr>\n",
       "    <tr>\n",
       "      <th>202413</th>\n",
       "      <td>Burkhard NiewÃ¶hner</td>\n",
       "      <td>Samsung DuoS B7722i Smartphone (8,1 cm (3,2 Zo...</td>\n",
       "      <td>10.0</td>\n",
       "    </tr>\n",
       "    <tr>\n",
       "      <th>273896</th>\n",
       "      <td>J. Grimm</td>\n",
       "      <td>Microsoft Lumia 950 Dual-SIM Smartphone (5,2 Z...</td>\n",
       "      <td>6.0</td>\n",
       "    </tr>\n",
       "    <tr>\n",
       "      <th>329712</th>\n",
       "      <td>RIKOPATO2005</td>\n",
       "      <td>Nokia N97</td>\n",
       "      <td>10.0</td>\n",
       "    </tr>\n",
       "    <tr>\n",
       "      <th>...</th>\n",
       "      <td>...</td>\n",
       "      <td>...</td>\n",
       "      <td>...</td>\n",
       "    </tr>\n",
       "    <tr>\n",
       "      <th>299926</th>\n",
       "      <td>Anonymous</td>\n",
       "      <td>Nokia N85 Copper Unlocked GSM Slider phones wi...</td>\n",
       "      <td>10.0</td>\n",
       "    </tr>\n",
       "    <tr>\n",
       "      <th>74770</th>\n",
       "      <td>L</td>\n",
       "      <td>Samsung N9005 Galaxy Note 3 Smartphone, 32 GB,...</td>\n",
       "      <td>10.0</td>\n",
       "    </tr>\n",
       "    <tr>\n",
       "      <th>72771</th>\n",
       "      <td>Amazon Customer</td>\n",
       "      <td>Samsung Galaxy Reverb (Virgin Mobile)</td>\n",
       "      <td>2.0</td>\n",
       "    </tr>\n",
       "    <tr>\n",
       "      <th>86745</th>\n",
       "      <td>CG</td>\n",
       "      <td>Microsoft Lumia 650 Smartphone da 16GB, Bianco...</td>\n",
       "      <td>10.0</td>\n",
       "    </tr>\n",
       "    <tr>\n",
       "      <th>91925</th>\n",
       "      <td>RATON8972</td>\n",
       "      <td>Motorola V400</td>\n",
       "      <td>8.0</td>\n",
       "    </tr>\n",
       "  </tbody>\n",
       "</table>\n",
       "<p>5000 rows × 3 columns</p>\n",
       "</div>"
      ],
      "text/plain": [
       "                     author  \\\n",
       "172701              Alberto   \n",
       "91792               nicname   \n",
       "202413  Burkhard NiewÃ¶hner   \n",
       "273896             J. Grimm   \n",
       "329712         RIKOPATO2005   \n",
       "...                     ...   \n",
       "299926            Anonymous   \n",
       "74770                     L   \n",
       "72771       Amazon Customer   \n",
       "86745                    CG   \n",
       "91925             RATON8972   \n",
       "\n",
       "                                                  product  score  \n",
       "172701  Huawei Ascend Mate 7 Premium - Smartphone libr...    8.0  \n",
       "91792                                 Apple iPhone 4 32Gb   10.0  \n",
       "202413  Samsung DuoS B7722i Smartphone (8,1 cm (3,2 Zo...   10.0  \n",
       "273896  Microsoft Lumia 950 Dual-SIM Smartphone (5,2 Z...    6.0  \n",
       "329712                                          Nokia N97   10.0  \n",
       "...                                                   ...    ...  \n",
       "299926  Nokia N85 Copper Unlocked GSM Slider phones wi...   10.0  \n",
       "74770   Samsung N9005 Galaxy Note 3 Smartphone, 32 GB,...   10.0  \n",
       "72771               Samsung Galaxy Reverb (Virgin Mobile)    2.0  \n",
       "86745   Microsoft Lumia 650 Smartphone da 16GB, Bianco...   10.0  \n",
       "91925                                       Motorola V400    8.0  \n",
       "\n",
       "[5000 rows x 3 columns]"
      ]
     },
     "execution_count": 31,
     "metadata": {},
     "output_type": "execute_result"
    }
   ],
   "source": [
    "userProductData = Dataset.load_from_df(sampleDF[['author','product','score']], reader = reader)\n",
    "userProductData.df"
   ]
  },
  {
   "cell_type": "code",
   "execution_count": 32,
   "metadata": {},
   "outputs": [
    {
     "data": {
      "text/plain": [
       "<surprise.prediction_algorithms.matrix_factorization.SVD at 0x1d09028f940>"
      ]
     },
     "execution_count": 32,
     "metadata": {},
     "output_type": "execute_result"
    }
   ],
   "source": [
    "# Applying SVD\n",
    "\n",
    "svd_model = SVD ()\n",
    "\n",
    "X, y = train_test_split(userProductData,test_size=0.30,random_state=30)\n",
    "\n",
    "svd_model.fit(X)"
   ]
  },
  {
   "cell_type": "code",
   "execution_count": 33,
   "metadata": {},
   "outputs": [
    {
     "name": "stdout",
     "output_type": "stream",
     "text": [
      "RMSE: 2.5816\n"
     ]
    },
    {
     "data": {
      "text/plain": [
       "2.581600140885078"
      ]
     },
     "execution_count": 33,
     "metadata": {},
     "output_type": "execute_result"
    }
   ],
   "source": [
    "y_pred = svd_model.test(y)\n",
    "accuracy.rmse(y_pred)"
   ]
  },
  {
   "cell_type": "code",
   "execution_count": 34,
   "metadata": {},
   "outputs": [
    {
     "name": "stdout",
     "output_type": "stream",
     "text": [
      "Y PRED :  [Prediction(uid='Tameka Stanley', iid='BLU Dash 5.5 - Unlocked Cell Phones - Retail Packaging - White', r_ui=10.0, est=8.040285714285714, details={'was_impossible': False}), Prediction(uid='Lechi', iid='Lenovo Motorola Defy mini Smartphone (8,1 cm (3,2 Zoll) HVGA-Touchscreen, 3 Megapixel Kamera, Android 2.3) schwarz', r_ui=10.0, est=8.040285714285714, details={'was_impossible': False}), Prediction(uid='funkydancer', iid='Samsung SGH J600', r_ui=8.0, est=8.040285714285714, details={'was_impossible': False}), Prediction(uid='Htou', iid='Samsung Galaxy S7 goud, roze / 32 GB', r_ui=9.0, est=8.040285714285714, details={'was_impossible': False}), Prediction(uid='Brumburum', iid='Sony Ericsson Xperia Pro (Red)', r_ui=10.0, est=8.040285714285714, details={'was_impossible': False}), Prediction(uid='Sergio', iid='Apple - Smartphone libre iphone 7 128gb negro brillante', r_ui=10.0, est=8.040285714285714, details={'was_impossible': False}), Prediction(uid='Pa0lito89', iid='Samsung ATIV S i8750', r_ui=10.0, est=8.191510727845573, details={'was_impossible': False}), Prediction(uid='johnson', iid='Lenovo Vibe K5 Plus (Dark Grey, 16 GB)', r_ui=2.0, est=8.224143036603312, details={'was_impossible': False}), Prediction(uid='Meenakshi Sundararajan', iid='Lenovo Vibe K5 (Gold, VoLTE update)', r_ui=8.0, est=7.1816578146734, details={'was_impossible': False}), Prediction(uid='Axelle', iid='Apple iPhone 5', r_ui=8.0, est=7.538568459830257, details={'was_impossible': False}), Prediction(uid='Felisha', iid='Apple iPhone 6 Plus, Space Gray, 16 GB (Verizon)', r_ui=10.0, est=8.040285714285714, details={'was_impossible': False}), Prediction(uid='gabber93', iid='LG A100', r_ui=10.0, est=8.040285714285714, details={'was_impossible': False}), Prediction(uid='kyef', iid='Samsung G800 1GB Cep Telefonu', r_ui=9.0, est=8.257709581734263, details={'was_impossible': False}), Prediction(uid='cheftomnev ', iid='Samsung Galaxy S6 32GB (Verizon)', r_ui=8.0, est=8.026672917245984, details={'was_impossible': False}), Prediction(uid='Geller Istvan', iid='ASUS Computer ZenFone5 A501CG-1G358GER Smartphone (Intel Atom Multi-Core Z2520, 1,6GHz, 12,7 cm (5 Zoll) Touchscreen, 2GB RAM, 16GB eMMC, 8 Megapixel Kamera, Android 4.3) gold', r_ui=10.0, est=8.200622865403016, details={'was_impossible': False}), Prediction(uid='Carlos Alberto Canga Sanchez', iid='Asus Zenfone 2 ZE551ML- Smartphone Android, Pantalla 5.5\", CÃ¡mara 13 Mp, 32 GB, Dual-Core 2.3 GHz, 4 GB RAM, Rojo (importado)', r_ui=10.0, est=8.040285714285714, details={'was_impossible': False}), Prediction(uid='Petv ', iid='Samsung Galaxy J5 â€�Android-puhelin, musta', r_ui=8.0, est=8.040285714285714, details={'was_impossible': False}), Prediction(uid='CORPORATIVOLIVEIRA', iid='BlackBerry Curve 8900', r_ui=8.0, est=8.196845702163374, details={'was_impossible': False}), Prediction(uid='aaaa', iid='Haier V100', r_ui=9.0, est=8.040285714285714, details={'was_impossible': False}), Prediction(uid='Cintia Ordonez', iid='LG Electronics Nexus 5X H791 32GB Carbon Black, Factory Unlocked EU GSM Smartphone, International Model, No Warranty', r_ui=8.0, est=8.040285714285714, details={'was_impossible': False}), Prediction(uid='mobimaks', iid='Nokia N82', r_ui=10.0, est=8.213681570438405, details={'was_impossible': False}), Prediction(uid='Fernando', iid='LG Optimus 4X HD (P880) - Smartphone libre Android (pantalla 4.7\", c??mara 8 Mp, 16 GB, Quad-Core 1.5 GHz, 1 GB RAM), negro (importado)', r_ui=8.0, est=8.040285714285714, details={'was_impossible': False}), Prediction(uid='knuepfer', iid='Alcatel One Touch Easy db', r_ui=6.0, est=7.706287821500376, details={'was_impossible': False}), Prediction(uid='naw-proff', iid='Samsung Wave 525 GT-S5250', r_ui=10.0, est=7.984098220359149, details={'was_impossible': False}), Prediction(uid='worCOhOLic', iid='Siemens S45i', r_ui=8.0, est=8.040285714285714, details={'was_impossible': False}), Prediction(uid='sunn', iid='LG H818N G4 GENUINE LEATHER BROWN', r_ui=10.0, est=8.040285714285714, details={'was_impossible': False}), Prediction(uid='Anonymous', iid='Nokia E75 Black 3G unlocked GSM Smart phone with Full Qwerty Keyboard', r_ui=10.0, est=8.603788695817697, details={'was_impossible': False}), Prediction(uid='Javi', iid='ZTE Blade S6 - Smartphone de 5\" (3G, 4G, LTE, IPS, HD, Qualcomm MSM8939 a 1.5 GHz, Octa Core, dual SIM, 2 GB RAM, 16 de GB ROM, WiFi, Bluetooth, Android 5.0 Lollipop) plateado', r_ui=10.0, est=7.876534709630759, details={'was_impossible': False}), Prediction(uid='safonowa.anuta2012', iid='Nokia 5610 XpressMusic', r_ui=10.0, est=8.128132552314543, details={'was_impossible': False}), Prediction(uid=nan, iid='Nokia 5800 XpressMusic', r_ui=10.0, est=9.512582717232835, details={'was_impossible': False}), Prediction(uid='J.Mag', iid='Huawei Ascend P6 - Smartphone libre Android (pantalla 4.7\", cÃ¡mara 8 Mp, 8 GB, 1.5 GHz, 2 GB RAM), blanco', r_ui=8.0, est=8.040285714285714, details={'was_impossible': False}), Prediction(uid='A. J. Manley', iid='Huawei Ascend Y550 UK SIM-Free Smartphone - Black (4G, 4.5-inch, 1.2 GHz quad core, 5MP and 2MP cameras, Android 4.4, 4 GB Storage + MicroSD)', r_ui=10.0, est=8.040285714285714, details={'was_impossible': False}), Prediction(uid='judith barlow', iid='Microsoft Nokia Lumia 635 4G UK SIM-Free Smartphone - Black (Windows, 4.5-inch, 512MB RAM and 8GB storage)', r_ui=10.0, est=8.040285714285714, details={'was_impossible': False}), Prediction(uid='[BakLAGAn]', iid='Samsung GT-S5230 La Fleur', r_ui=8.0, est=8.370064664264923, details={'was_impossible': False}), Prediction(uid='Ð�Ð½Ð´Ñ€ÐµÐ¹ ÐŸÐµÑ‚Ñ€Ð¾Ð²Ñ�ÐºÐ¸Ð¹', iid='Ð¡Ð¾Ñ‚Ð¾Ð²Ñ‹Ð¹ Ñ‚ÐµÐ»ÐµÑ„Ð¾Ð½ Huawei Y6', r_ui=6.0, est=8.040285714285714, details={'was_impossible': False}), Prediction(uid='paco50', iid='Sony Ericsson K530i', r_ui=10.0, est=8.040285714285714, details={'was_impossible': False}), Prediction(uid=\"Client d'Amazon\", iid='Lenovo Moto Z Play Smartphone DÃ©bloquÃ© 4G (Ecran: 5,5 pouces - 32 Go - Double Nano-SIM - Android) Blanc Or', r_ui=8.0, est=7.452012250606444, details={'was_impossible': False}), Prediction(uid='ServethTuk', iid='HTC Wildfire S', r_ui=8.0, est=8.038777494406057, details={'was_impossible': False}), Prediction(uid='Prylen', iid='Samsung Galaxy Note', r_ui=10.0, est=8.040285714285714, details={'was_impossible': False}), Prediction(uid='serova', iid='Nokia 5800', r_ui=10.0, est=8.79009382951801, details={'was_impossible': False}), Prediction(uid='Antesberger Horst', iid='Doogee Y6 Max Smartphone - 6.5 Zoll FHD 4G FDD-LTE Ohne Vertrag Android 6.0 Octa-Core 3GB RAM+32GB ROM 13.0MP HauptKamera 4300mAh Akku Fingerabdrucksensor MetallkÃ¶rper-Handy', r_ui=10.0, est=8.040285714285714, details={'was_impossible': False}), Prediction(uid='Istedha', iid='Sony Ericsson W300i Walkman', r_ui=10.0, est=8.040285714285714, details={'was_impossible': False}), Prediction(uid='Piepies', iid='Huawei Honor 3C 5,0\" Android 4.2 Quad Core 1,3GHz 3G Dual Sim 2GB RAM Bluetooth', r_ui=6.0, est=8.040285714285714, details={'was_impossible': False}), Prediction(uid='E. P.', iid='LG G4 H818P 4G LTE Factory Unlocked Cellphone International Version No Warranty 32GB Black Leather', r_ui=8.0, est=8.057089892252272, details={'was_impossible': False}), Prediction(uid='Hunloggi', iid='Nokia 5800 XpressMusic', r_ui=10.0, est=8.146475706336465, details={'was_impossible': False}), Prediction(uid='BaneBaks', iid='Samsung Galaxy Note GT-N7000', r_ui=10.0, est=8.346376399591778, details={'was_impossible': False}), Prediction(uid='Manish LA', iid='OnePlus 3 (Graphite, 64 GB)', r_ui=10.0, est=8.431746037319861, details={'was_impossible': False}), Prediction(uid='raritetnyi mobilko', iid='Nokia X2', r_ui=2.0, est=8.040285714285714, details={'was_impossible': False}), Prediction(uid='Beccaf92', iid='Apple iPhone 4 16 GB', r_ui=6.0, est=8.040285714285714, details={'was_impossible': False}), Prediction(uid='Jennacat ', iid='Samsung Galaxy S6 128GB (Verizon)', r_ui=9.0, est=8.040285714285714, details={'was_impossible': False}), Prediction(uid='S. Pecina', iid='HTC Wildfire S Smartphone (8.1 cm (3.2 Zoll) Touchscreen, WiFi (b/g/n), Android OS 2.3.3) weiÃŸ/silber', r_ui=10.0, est=8.040285714285714, details={'was_impossible': False}), Prediction(uid=nan, iid='3285', r_ui=9.0, est=8.052756803013382, details={'was_impossible': False}), Prediction(uid='Heiko Gutzeit', iid='Lenovo Motorola Moto G Smartphone (11,4 cm (4,5 Zoll) HD-Display, 5 Megapixel Kamera, 1,2 GHz Quad-Core-Prozessor, 16 GB interner Speicher, Android 4.3 OS) schwarz', r_ui=8.0, est=8.330487382705561, details={'was_impossible': False}), Prediction(uid='TECHTREST', iid='Huawei Ascend Y300 Smartphone (10,2 cm (4,0 Zoll) Touchscreen, 5 Megapixel, 4 GB Interner Speicher, Android 4.1.1 (Jelly Bean)) weiÃŸ', r_ui=10.0, est=8.040285714285714, details={'was_impossible': False}), Prediction(uid='Amazon Customer', iid='Lenovo Zuk Z1 (White, Cyanogen OS)', r_ui=2.0, est=6.174278880410771, details={'was_impossible': False}), Prediction(uid='Ð’Ð¸Ñ…Ñ€ÑŽÐº ÐŸÐ°Ð²ÐµÐ»', iid='HTC Desire 310 Dual Sim', r_ui=10.0, est=8.040285714285714, details={'was_impossible': False}), Prediction(uid='Chandresh Patel', iid='Xolo Q900 - White', r_ui=10.0, est=8.207117212881322, details={'was_impossible': False}), Prediction(uid='Florence-Gaillard', iid='Acer Liquid S100', r_ui=1.0, est=8.040285714285714, details={'was_impossible': False}), Prediction(uid='Shannon Rearick', iid='Verizon LG Ally VS740 3G WiFi Camera Android Smartphone No Contract EXCELLENT', r_ui=8.0, est=8.040285714285714, details={'was_impossible': False}), Prediction(uid='Jose R. Sumoza', iid='Huawei Impulse 4G U8800 Unlocked GSM Phone with Android 2.2 OS, Touchscreen, 5MP Camera, HD Video, GPS, Wi-Fi and Bluetooth - Black', r_ui=8.0, est=8.040285714285714, details={'was_impossible': False}), Prediction(uid='middkid87', iid='6650 fold', r_ui=9.0, est=8.040285714285714, details={'was_impossible': False}), Prediction(uid='Amazon Customer', iid='Sanyo Innuendo Prepaid Phone (Boost Mobile)', r_ui=10.0, est=7.393381251049339, details={'was_impossible': False}), Prediction(uid=nan, iid='Motorola C113', r_ui=10.0, est=8.052756803013382, details={'was_impossible': False}), Prediction(uid='Geraldine', iid='Samsung Gt-i8190 L Galaxy S3 Mini GRAY 3G - 850 / 1900 / 2100 Mhz factory Unlocked International Verison', r_ui=10.0, est=8.040285714285714, details={'was_impossible': False}), Prediction(uid='ATLANTICO88', iid='Apple iPhone 3G', r_ui=10.0, est=8.040285714285714, details={'was_impossible': False}), Prediction(uid='Amazon Customer', iid='Sony Xperia XA Dual (Lime Gold)', r_ui=6.0, est=3.137040527481302, details={'was_impossible': False}), Prediction(uid='Assassins creed3', iid='Nokia X3-02 Touch and Type', r_ui=8.0, est=8.040285714285714, details={'was_impossible': False}), Prediction(uid='Rob', iid='Samsung SCH-i760', r_ui=8.0, est=8.201094796474989, details={'was_impossible': False}), Prediction(uid='nani', iid='Nokia 108 (Dual SIM, Black)', r_ui=4.0, est=8.040285714285714, details={'was_impossible': False}), Prediction(uid='Cliente Amazon', iid=\"Desconocido Xiaomi Redmi Note 2 - Smartphone libre (Android, pantalla 5.5'' FHD, cÃ¡mara 13MP, 16GB, 4G LTE, Dual Sim, MIUI 6 Octa Core 2.0GHz, 2GB RAM), blanco\", r_ui=4.0, est=9.275321535786473, details={'was_impossible': False}), Prediction(uid='Xman', iid='Samsung a157 GoPhone (AT&T)', r_ui=10.0, est=8.207303203433188, details={'was_impossible': False}), Prediction(uid='Amazon Customer', iid='Nokia Lumia 521 Pre-paid Phone (T-mobile, Brightspot)', r_ui=2.0, est=7.393381251049339, details={'was_impossible': False}), Prediction(uid='MARIANITO_ENANO', iid='Motorola KRZR K1', r_ui=4.0, est=8.217348400590877, details={'was_impossible': False}), Prediction(uid='iloveit86', iid='SGH-D500', r_ui=9.0, est=8.040285714285714, details={'was_impossible': False}), Prediction(uid='Krishna Prasad S', iid='Lenovo Vibe K4 Note (Black, 16GB)', r_ui=4.0, est=7.628517705146331, details={'was_impossible': False}), Prediction(uid='Luis Arrieta', iid='Samsung Galaxy Ace S5830 GSM Unlocked Android Smartphone- White', r_ui=8.0, est=8.040285714285714, details={'was_impossible': False}), Prediction(uid='Paulo da Silva Junior', iid='Smartphone Sony Xperia Z3+ E6533 Desbloqueado Preto', r_ui=9.0, est=8.040285714285714, details={'was_impossible': False}), Prediction(uid='Claudel', iid='Qialino Huawei Ascend Mate 8 Ã©tui Ã\\xa0 rabat en cuir vÃ©ritable, qialino Smart Ã‰tui pour tÃ©lÃ©phone portable Â£ Â¬ avec contrÃ´le Smart Big vue fenÃªtre (et) et fonction veille et rÃ©veil automatique pour mate8 Housse', r_ui=8.0, est=8.040285714285714, details={'was_impossible': False}), Prediction(uid='Amazon Kunde', iid='Samsung Galaxy S III Neo Smartphone (4,8 Zoll (12,2 cm) Touch-Display, 16 GB Speicher, Android 4.4) schwarz', r_ui=2.0, est=6.327795601970731, details={'was_impossible': False}), Prediction(uid='Peter Schneider', iid='Alcatel onetouch 991D Smartphone (10,2 cm (4 Zoll) Touchscreen, 3,2 Megapixel Kamera, Dual SIM, Android 2.3) schwarz', r_ui=2.0, est=8.040285714285714, details={'was_impossible': False}), Prediction(uid='timofei94', iid='Sony Ericsson K800i', r_ui=8.0, est=8.040285714285714, details={'was_impossible': False}), Prediction(uid='Amazon Customer', iid='Virgin Mobile Samsung Galaxy S7 Black 32GB (Virgin Mobile)', r_ui=10.0, est=7.393381251049339, details={'was_impossible': False}), Prediction(uid='sarahsaleh', iid='Samsung Galaxy S5 goud / 16 GB', r_ui=10.0, est=8.250879063961317, details={'was_impossible': False}), Prediction(uid='RV', iid='Samsung Transform Ultra (Boost Mobile)', r_ui=10.0, est=8.040285714285714, details={'was_impossible': False}), Prediction(uid='Sylvia F.', iid='Sony Ericsson W995 Handy (UMTS, 8.1 MP, UKW-Radio, 8GB) Energetic Red', r_ui=10.0, est=8.040285714285714, details={'was_impossible': False}), Prediction(uid='Ð�Ð»ÐµÐºÑ�', iid='Samsung S5610', r_ui=6.0, est=7.879224702622557, details={'was_impossible': False}), Prediction(uid='queenie88', iid='Huawei Ascend Y530, 4GB, Factory Unlocked GSM Android Smartphone - White', r_ui=8.0, est=8.208359458926761, details={'was_impossible': False}), Prediction(uid='Amazon Kunde', iid='Microsoft Lumia 640 XL Dual-SIM Smartphone (5,7 Zoll (14,5 cm) Touch-Display, 8 GB Speicher, Windows 8.1) orange', r_ui=10.0, est=6.10389770059578, details={'was_impossible': False}), Prediction(uid='Otasha', iid='BLU Vivo Air LTE Smartphone - GSM Unlocked - Black', r_ui=10.0, est=8.040285714285714, details={'was_impossible': False}), Prediction(uid='hotdocparis', iid='Coque Nokia Lumia 1520 Etui Blanc PU Cuir Portefeuille Housse Avec Stylet', r_ui=10.0, est=8.040285714285714, details={'was_impossible': False}), Prediction(uid='Claudio Collavin', iid='Lenovo Motorola Moto G XT1541 3a Generazione Smartphone, 5-Inch, 4G/LTE, Fotocamera 13 MP, 16 GB, 2 GB RAM, Bianco', r_ui=2.0, est=8.189319419171234, details={'was_impossible': False}), Prediction(uid='mdsaquib338', iid='Samsung Galaxy J3 (8GB)', r_ui=10.0, est=8.46090953450722, details={'was_impossible': False}), Prediction(uid='Ð’Ð°Ð»ÐµÑ€Ð°', iid='ASUS ZenFone 3 Max ZC520TL 16GB (Ñ�ÐµÑ€ÐµÐ±Ñ€Ð¸Ñ�Ñ‚Ñ‹Ð¹)', r_ui=9.0, est=8.040285714285714, details={'was_impossible': False}), Prediction(uid='shqiptar', iid='Nokia 3210', r_ui=10.0, est=8.272956769183425, details={'was_impossible': False}), Prediction(uid='Shreya', iid='Microsoft Lumia 535 (Dual SIM, Bright Orange, 1GB RAM)', r_ui=10.0, est=8.040285714285714, details={'was_impossible': False}), Prediction(uid='nakita87', iid='Samsung Ch@t 357 Duos', r_ui=8.0, est=8.040285714285714, details={'was_impossible': False}), Prediction(uid='Luis F. Bascaran', iid='LG Optimus L5 II (E460) - Smartphone libre Android (pantalla 4\", cÃ¡mara 5 Mp, 4 GB, 1 GHz, 512 MB RAM), blanco', r_ui=6.0, est=8.040285714285714, details={'was_impossible': False}), Prediction(uid='ELVIS JOSE MARTINEZ DAVILA', iid='Motorola BlackBerry Pearl 8100 Unlocked Phone with Quad-Band GSM,GPRS, EDGE, 1 MP Camera, Camcorder and bluetooth v2.0 compatible - International Version with No Warranty (Black with Silver)', r_ui=10.0, est=8.040285714285714, details={'was_impossible': False}), Prediction(uid='Sb136 ', iid='Samsung Galaxy S7 edge 32GB (Verizon)', r_ui=10.0, est=8.577992347436304, details={'was_impossible': False}), Prediction(uid='Pierre MASSIP', iid='Samsung Galaxy S4 Smartphone dÃ©bloquÃ© 4G (Ecran: 4.99 pouces - 16 Go - Android 4.2 Jelly Bean) Blanc', r_ui=2.0, est=8.196889784904123, details={'was_impossible': False}), Prediction(uid='Zaka', iid='Sony Ericsson C510', r_ui=9.0, est=8.040285714285714, details={'was_impossible': False}), Prediction(uid='rasnil93', iid='HTC Desire HD', r_ui=10.0, est=8.199763125404825, details={'was_impossible': False}), Prediction(uid='Rebecca', iid='Lenovo Motorola Moto G 2. Generation Dual-Sim Smartphone (5 Zoll (12,7 cm) Touch-Display, 8 GB Speicher, Android 5.02) weiÃŸ', r_ui=10.0, est=7.876993395494541, details={'was_impossible': False}), Prediction(uid='Anne-Lique', iid='Huawei P8 Lite wit / 16 GB', r_ui=9.0, est=8.20223179433487, details={'was_impossible': False}), Prediction(uid='Quipbw', iid='EVO V 4G / EVO 3D (CDMA)', r_ui=10.0, est=8.040285714285714, details={'was_impossible': False}), Prediction(uid='Olislava97', iid='Samsung Diva S7070', r_ui=8.0, est=8.040285714285714, details={'was_impossible': False}), Prediction(uid='F. Kunze', iid='Samsung Galaxy S III i9300 Smartphone (4,8 Zoll (12,2 cm) Touch-Display, 16 GB Speicher, Android 4.0) pebble-blue', r_ui=2.0, est=8.202379852126153, details={'was_impossible': False}), Prediction(uid='Daniel WeiÃŸ', iid='Microsoft Nokia Lumia 830 Smartphone (5 Zoll (12,7 cm) Touch-Display, 16 GB Speicher, Windows 8.1) orange', r_ui=10.0, est=8.040285714285714, details={'was_impossible': False}), Prediction(uid='Amazon Customer', iid='Samsung Galaxy Note 3 Smartphone (14,5 cm (5,7 Zoll) AMOLED-Touchscreen, 2,3GHz, Quad-Core, 3GB RAM, 13 Megapixel Kamera, Android 4.3) pink', r_ui=10.0, est=6.456564355599553, details={'was_impossible': False}), Prediction(uid=nan, iid='Samsung Galaxy Note II GT-N7100 16Gb', r_ui=4.0, est=9.57181064622744, details={'was_impossible': False}), Prediction(uid='LAZ LIBRE', iid='Samsung E2120', r_ui=8.0, est=8.040285714285714, details={'was_impossible': False}), Prediction(uid='ÐšÐ¸Ð¼ ÐžÐ»ÐµÐ³', iid='Sony Xperia Z3+ Dual', r_ui=8.0, est=8.040285714285714, details={'was_impossible': False}), Prediction(uid='SRINJOY GUHA', iid='Samsung Galaxy J2 SM-J200G/DD (Black)', r_ui=8.0, est=8.040285714285714, details={'was_impossible': False}), Prediction(uid='Rachael Edwards', iid='Sony Xperia E5 UK SIM-Free Smartphone - Black', r_ui=8.0, est=8.040285714285714, details={'was_impossible': False}), Prediction(uid='Roland', iid='Samsung Galaxy S III i9300 Smartphone 16 GB (12,2 cm (4,8 Zoll) HD Super-AMOLED-Touchscreen, 8 Megapixel Kamera, Micro-SIM, Android 4.0) schwarz', r_ui=8.0, est=8.33643986619318, details={'was_impossible': False}), Prediction(uid='The Jazzman', iid='BlackBerry Curve 8900 Sim Free Smartphone', r_ui=10.0, est=8.199947161608769, details={'was_impossible': False}), Prediction(uid='FuriousMrPiinchy', iid='Strobe K612 / SwitchBack', r_ui=9.0, est=8.040285714285714, details={'was_impossible': False}), Prediction(uid='davide', iid='Nokia C2-03 golden white dual sim', r_ui=4.0, est=8.036295570594753, details={'was_impossible': False}), Prediction(uid='Amazon Kunde', iid='LG Electronics G Flex 2 Smartphone (13,97 cm (5,5 Zoll) Full-HD-POLED-Display, Qualcomm Snapdragon 810 2-GHz-Octa-Core-Prozessor, 13-Megapixelkamera, 16 GB interner Speicher, Android 5.0) Platinum Silver', r_ui=10.0, est=6.10389770059578, details={'was_impossible': False}), Prediction(uid='joaquin cardoso', iid='Smartphone Samsung Galaxy S4 GT-I9500 Libre', r_ui=10.0, est=8.040285714285714, details={'was_impossible': False}), Prediction(uid='christ971', iid='Samsung Galaxy J5', r_ui=8.0, est=8.040285714285714, details={'was_impossible': False}), Prediction(uid='yyoyyoyyo', iid='Huawei Honor U8860', r_ui=10.0, est=8.040285714285714, details={'was_impossible': False}), Prediction(uid='Dave', iid='Samsung Galaxy Ace 2 Smartphone Android Wifi 4 GB, Nero [Germania]', r_ui=10.0, est=8.040285714285714, details={'was_impossible': False}), Prediction(uid=nan, iid='Nokia Asha 501', r_ui=10.0, est=8.052756803013382, details={'was_impossible': False}), Prediction(uid='kaseem lewis', iid='Apple iPhone 5c 16GB (Blue) - Sprint', r_ui=10.0, est=8.040285714285714, details={'was_impossible': False}), Prediction(uid='TITOGALLINA_31', iid='Motorola ROKR E1', r_ui=6.0, est=8.182351878520475, details={'was_impossible': False}), Prediction(uid='Amazon Customer', iid='Apple iPhone 6 16GB Factory Unlocked GSM 4G LTE Internal Smartphone - Space Gray', r_ui=8.0, est=1.7518186418581232, details={'was_impossible': False}), Prediction(uid='Ð˜Ð²Ð°Ð½Ð¾Ð² Ð�Ð½Ð´Ñ€ÐµÐ¹ Ð¡ÐµÑ€Ð³ÐµÐµÐ²Ð¸Ñ‡', iid='Ð¡Ð¾Ñ‚Ð¾Ð²Ñ‹Ð¹ Ñ‚ÐµÐ»ÐµÑ„Ð¾Ð½ Nokia Asha 305 Grey', r_ui=9.0, est=8.040285714285714, details={'was_impossible': False}), Prediction(uid='orlince', iid='HTC 8S Windows Phone - Atlantic Blue', r_ui=8.0, est=8.040285714285714, details={'was_impossible': False}), Prediction(uid='RIZR ROX 1212', iid='RIZR Z3', r_ui=10.0, est=8.040285714285714, details={'was_impossible': False}), Prediction(uid='Udaiya kumar', iid='SAMSUNG Galaxy On7 (Black, 8 GB)', r_ui=2.0, est=8.196770497698585, details={'was_impossible': False}), Prediction(uid='CL Smooth', iid='Samsung Galaxy Note, i717 16GB Unlocked GSM 4G LTE 8MP Camera Smartphone with S Pen Stylus - White', r_ui=2.0, est=8.040285714285714, details={'was_impossible': False}), Prediction(uid='Chutzpah', iid='HTC S620', r_ui=8.0, est=8.040285714285714, details={'was_impossible': False}), Prediction(uid='Robert Schinkel', iid='Apple iPhone 4S Smartphone (8,9 cm (3,5 Zoll) Touchscreen Display, 8 Megapixel Kamera, 16GB, UMTS, iOS 5) wei??', r_ui=8.0, est=8.040285714285714, details={'was_impossible': False}), Prediction(uid='L', iid='Samsung N9005 Galaxy Note 3 Smartphone, 32 GB, Bianco [Italia]', r_ui=10.0, est=8.040285714285714, details={'was_impossible': False}), Prediction(uid='Ð“Ð¾Ñ�Ñ‚ÑŒ', iid='Apple iPhone 4 32Gb', r_ui=9.0, est=8.596318398109974, details={'was_impossible': False}), Prediction(uid='Adasat beruby', iid='Motorola Dext', r_ui=8.0, est=8.040285714285714, details={'was_impossible': False}), Prediction(uid='Cliente Amazon', iid='Huawei P8 Lite-AM08 - Pack Smartphone Huawei P8 Lite negro con Altavoz portÃ¡til AM08 Gold (2 GB de RAM, 16 GB de memoria interna, cÃ¡mara 13 Mpxs/8Mpx), color negro', r_ui=10.0, est=8.661053555646017, details={'was_impossible': False}), Prediction(uid='guillermo marrero blanco', iid='LG G2 - Smartphone libre Android (pantalla 5.2\", cÃ¡mara 13 Mp, 16 GB, Quad-Core 2.3 GHz), negro', r_ui=10.0, est=8.040285714285714, details={'was_impossible': False}), Prediction(uid='Daniel', iid='Samsung GT S5830 Galaxy Ace Smartphone GSM/EDGE/3G Bluetooth GPS Noir', r_ui=8.0, est=7.6730713081677715, details={'was_impossible': False}), Prediction(uid='Ruth Beninga', iid='Huawei U8860 Smartphone (10,2 cm (4 Zoll) Display, 8 Megapixel Kamera, UMTS, Android 2.3) wei??', r_ui=10.0, est=8.040285714285714, details={'was_impossible': False}), Prediction(uid='Amazon Customer', iid='Sony Xperia C4 Dual E5363 (White)', r_ui=2.0, est=7.393381251049339, details={'was_impossible': False}), Prediction(uid='himanshugupta', iid='Sony Ericsson XPERIA X1', r_ui=10.0, est=8.040285714285714, details={'was_impossible': False}), Prediction(uid='angarali', iid='Apple iPHONE 4 32 GB CEP TELEFONU - SÄ°YAH', r_ui=9.0, est=8.040285714285714, details={'was_impossible': False}), Prediction(uid='Lrez', iid='BlackBerry Storm2 9520', r_ui=4.0, est=8.040285714285714, details={'was_impossible': False}), Prediction(uid='Alaeddine BADRA', iid='Samsung Galaxy S6 Smartphone dÃ©bloquÃ© 4G (5.1 pouces - 32 Go - Android 5.0 Lollipop) Bleu (import Allemagne)', r_ui=6.0, est=8.040285714285714, details={'was_impossible': False}), Prediction(uid='Amazon Customer', iid='Lenovo Vibe K4 Note (White,16GB)', r_ui=6.0, est=7.516072726089246, details={'was_impossible': False}), Prediction(uid='Tiziano', iid='Samsung GT-I8750ALADBT ATIV S Smartphone, Display Super AMOLED da 12.2 cm (4.8 Pollici), Fotocamera 8 Megapixel, Full HD, Win 8, Colore Alluminio/Argento [Germania]', r_ui=8.0, est=8.207474110095704, details={'was_impossible': False}), Prediction(uid='Gianluca', iid='Sony Xperia X Performance (12,7 cm (5 Zoll) FHD IPS-Display, Interner Speicher 32 GB, Android) lime-gold', r_ui=10.0, est=8.040285714285714, details={'was_impossible': False}), Prediction(uid='Berlio', iid='Nokia 2720 Fold TÃ©lÃ©phone portable Ecran 1,8\" Bluetooth Appareil photo 1,3 Mpix mp3 Radio FM Noir', r_ui=8.0, est=8.040285714285714, details={'was_impossible': False}), Prediction(uid='Daisy543 ', iid='Samsung Galaxy S5 16GB (AT&T)', r_ui=10.0, est=8.241680072039, details={'was_impossible': False}), Prediction(uid='iskenderatm', iid='SAMSUNG OMNIA i900 16 GB CEP TELEFONU', r_ui=2.0, est=8.040285714285714, details={'was_impossible': False}), Prediction(uid='cadmiumred11', iid='Pantech Hotshot (Verizon Wireless)', r_ui=2.0, est=8.040285714285714, details={'was_impossible': False}), Prediction(uid='Ivan_K', iid='Google Pixel XL, Phone by Google', r_ui=10.0, est=8.040285714285714, details={'was_impossible': False}), Prediction(uid='Cliente Amazon', iid='Meizu MX5 Smartphone, 32 GB, Dual SIM, Grigio [EU]', r_ui=10.0, est=8.661053555646017, details={'was_impossible': False}), Prediction(uid=nan, iid='Samsung Star II GT-S5260', r_ui=8.0, est=8.052756803013382, details={'was_impossible': False}), Prediction(uid='VD', iid=\"Samsung Galaxy A5 2016 Smartphone dÃ©bloquÃ© 4G (Ecran: 5,2 pouces - 16 Go - Simple Nano-SIM - Android) Rose d'Or\", r_ui=2.0, est=8.040285714285714, details={'was_impossible': False}), Prediction(uid='Rainer G. \"RG\"', iid='BenQ-Siemens EL71 Handy quartz anthracite', r_ui=8.0, est=8.040285714285714, details={'was_impossible': False}), Prediction(uid='sensor59', iid='Nokia 3330 Bleu', r_ui=10.0, est=8.040285714285714, details={'was_impossible': False}), Prediction(uid=nan, iid='Sony Ericsson K700i Handy', r_ui=10.0, est=8.052756803013382, details={'was_impossible': False}), Prediction(uid='mario Oswald', iid='Samsung Star 3 S5220 Smartphone (7,6 cm (3 Zoll) Touchscreen, 3,2 Megapixel Kamera) weiÃŸ', r_ui=8.0, est=8.040285714285714, details={'was_impossible': False}), Prediction(uid='Jo Floyd', iid='HTC Desire 310 UK Sim-Free Smartphone - Navy', r_ui=10.0, est=7.8794327708109755, details={'was_impossible': False}), Prediction(uid='???€???????????? ?€????????', iid='HTC One S', r_ui=4.0, est=7.876213699673954, details={'was_impossible': False}), Prediction(uid='Ð�Ð¸ÐºÐ¾Ð»Ð°Ð¹ Ð�Ð¸ÐºÐ¾Ð»Ð°ÐµÐ²Ð¸Ñ‡', iid='Samsung Galaxy S5 SM-G900F 16Gb', r_ui=10.0, est=8.040285714285714, details={'was_impossible': False}), Prediction(uid='ultraconsumatore', iid='LG Electronics U8180', r_ui=10.0, est=8.040285714285714, details={'was_impossible': False}), Prediction(uid='zokan', iid='Nokia N8', r_ui=10.0, est=8.30652444894963, details={'was_impossible': False}), Prediction(uid='Cliente Amazon', iid='Cubot S308 - Smartphone libre (pantalla de 5\", Android 4.2, 3G, 1.3GHz, Quad Core 2GB,16GB, doble cÃ¡maras), Blanco', r_ui=2.0, est=8.661053555646017, details={'was_impossible': False}), Prediction(uid='c??dric NICOLAS', iid='Apple iPhone 5 16Go / GB noir d??bloqu??', r_ui=10.0, est=8.040285714285714, details={'was_impossible': False}), Prediction(uid='valentin_obolensky', iid='Samsung GT-C3300 Chic White', r_ui=6.0, est=8.040285714285714, details={'was_impossible': False}), Prediction(uid='Roderick Hilborne', iid='TTfone Venus 2 - Big Button Flip Mobile Phone Dual Screen Bluetooth Camera SOS Button Sim Free Black', r_ui=10.0, est=7.879490308179462, details={'was_impossible': False}), Prediction(uid='S5guy ', iid='Samsung Galaxy S5 16GB (Sprint)', r_ui=10.0, est=8.040285714285714, details={'was_impossible': False}), Prediction(uid='gorgias1976', iid='Samsung SGH-J700', r_ui=6.0, est=7.8652214897071495, details={'was_impossible': False}), Prediction(uid='pvspb', iid='Samsung C3322', r_ui=6.0, est=8.19443083325053, details={'was_impossible': False}), Prediction(uid='A Regular', iid='Nokia Asha 202 Dual SIM Capable SIM Free Mobile Phone - Silver/White', r_ui=8.0, est=8.040285714285714, details={'was_impossible': False}), Prediction(uid='Devang Kapadia', iid='Apple iPhone 5c (White, 8GB)', r_ui=10.0, est=8.040285714285714, details={'was_impossible': False}), Prediction(uid='Abhijeet Chakraborty', iid='Motorola Moto G - Black', r_ui=10.0, est=8.040285714285714, details={'was_impossible': False}), Prediction(uid='Dominique MOREL', iid='Nokia 108 TÃ©lÃ©phone portable Compact Dual SIM Noir', r_ui=10.0, est=8.040285714285714, details={'was_impossible': False}), Prediction(uid='TeÃ³clito GonÃ§alves Fialho de Souza', iid='Smartphone Asus Zenfone 2 Dual 16GB ZE551ML Desbloqueado Prata', r_ui=9.0, est=8.040285714285714, details={'was_impossible': False}), Prediction(uid='Amazon Customer', iid='Microsoft Lumia 640 XL (Dual SIM, LTE, Black)', r_ui=2.0, est=7.393381251049339, details={'was_impossible': False}), Prediction(uid='Bjorn De Muynck', iid='Huawei P8 Lite Zwart', r_ui=10.0, est=8.040285714285714, details={'was_impossible': False}), Prediction(uid='Nishit Nath', iid='Sony Xperia U - Black', r_ui=10.0, est=8.040285714285714, details={'was_impossible': False}), Prediction(uid='Diver311', iid='Sim Free Apple iPhone 5S 16GB Mobile Phone - Space Grey', r_ui=10.0, est=8.19947042463793, details={'was_impossible': False}), Prediction(uid='nathan', iid='Motorola Moto X Pure Edition Unlocked Smartphone, 64 GB Black XT1575, 5.7\" Quad HD display, 21 MP Camera, Quad-core 1.8GHz', r_ui=10.0, est=7.980076516519705, details={'was_impossible': False}), Prediction(uid='Fabio Andres', iid='Samsung Galaxy Note 3 N9005 Unlocked Cellphone, International Version, 32GB, Black', r_ui=2.0, est=8.040285714285714, details={'was_impossible': False}), Prediction(uid='Amazon Customer', iid='Samsung Giorgio Armani Galaxy S I9010 Smartphone (10,2 cm (4 Zoll) Super Amoled-Touchscreen, HD Video, 1 GHz-Prozessor, 16 GB interner Speicher, Android 2.2) Armani-Edition', r_ui=10.0, est=7.393381251049339, details={'was_impossible': False}), Prediction(uid='Keith', iid='Apple iPhone 7 Plus, 32Gb - Rose Gold', r_ui=10.0, est=8.040285714285714, details={'was_impossible': False}), Prediction(uid='Mukkish', iid='Samsung Galaxy S4 Mini GT-I9192 (Black Mist)', r_ui=10.0, est=8.040285714285714, details={'was_impossible': False}), Prediction(uid='Frederico Costa Campos', iid='Smartphone Nokia Lumia 730 Dual Sim Desbloqueado Preto', r_ui=9.0, est=8.040285714285714, details={'was_impossible': False}), Prediction(uid='Amber Wendorff', iid='Straight Talk iPhone 5 Prepaid Cell Phone, 16 GB, Black', r_ui=10.0, est=8.040285714285714, details={'was_impossible': False}), Prediction(uid='Labrok', iid='Samsung Galaxy S6 Edge 32gb Black (6750A)', r_ui=10.0, est=8.040285714285714, details={'was_impossible': False}), Prediction(uid='Jan Veraert', iid='Samsung Galaxy Ace S5830 Onyx Black', r_ui=10.0, est=8.040285714285714, details={'was_impossible': False}), Prediction(uid='pestu', iid='SONY ERICSSON Xperia X10', r_ui=9.0, est=8.113392485318368, details={'was_impossible': False}), Prediction(uid='Tuxie', iid='Sony Ericsson T700', r_ui=8.0, est=8.17308238043501, details={'was_impossible': False}), Prediction(uid='leeshawn', iid='Samsung Galaxy S7 edge SM-G935F 32GB Smartphone (Unlocked, Blue)', r_ui=10.0, est=8.341785299389212, details={'was_impossible': False}), Prediction(uid='Chandresh Shukla', iid='Honor 6X (Grey, 32GB)', r_ui=2.0, est=8.19717035970703, details={'was_impossible': False}), Prediction(uid='KÃ¤ufer59901', iid='Honor 8 Smartphone (13,2 cm (5,2 Zoll) Touchscreen, 32GB interner Speicher, Android OS) schwarz', r_ui=10.0, est=8.040285714285714, details={'was_impossible': False}), Prediction(uid='ajay', iid='Motorola Moto G Turbo (White, 16GB)', r_ui=8.0, est=8.024979793197083, details={'was_impossible': False}), Prediction(uid='Ronald Reed', iid='Alcatel OneTouch Idol 3 Global Unlocked 4G LTE Smartphone, 5.5 HD IPS Display, 16GB (GSM - US Warranty)', r_ui=10.0, est=7.8878825895927465, details={'was_impossible': False}), Prediction(uid='Aatman Abhay Mishra', iid='Lenovo Vibe K4 Note (White,16GB)', r_ui=10.0, est=8.013382259866184, details={'was_impossible': False}), Prediction(uid='reddjen1 ', iid='Samsung Galaxy S6 edge+ 32GB (AT&T)', r_ui=9.0, est=8.040285714285714, details={'was_impossible': False}), Prediction(uid='Pressnitzer Gil', iid='Doro Matra Phone EASY 622 TÃ©lÃ©phone Mobile Clapet Actif Noir', r_ui=6.0, est=8.040285714285714, details={'was_impossible': False}), Prediction(uid='Hans-J', iid='Sony Ericsson P1i', r_ui=2.0, est=8.209812048337001, details={'was_impossible': False}), Prediction(uid='christian', iid='DORO PhoneEasy 612 Aubergine', r_ui=10.0, est=8.038019884380462, details={'was_impossible': False}), Prediction(uid='Amazon Kunde', iid='Samsung Galaxy A3 Smartphone (4,5 Zoll (11,4 cm) Touch-Display, 16 GB Speicher, Android 4.4) champagne-gold', r_ui=10.0, est=6.10389770059578, details={'was_impossible': False}), Prediction(uid='e.ba', iid='Microsoft Lumia 650 Smartphone (5 Zoll (12,7 cm) Touch-Display, 16 GB Speicher, Windows 10) schwarz', r_ui=8.0, est=8.203628039924055, details={'was_impossible': False}), Prediction(uid='C Bickerton', iid='Samsung I8160 Galaxy Ace 2 Sim Free Mobile Phone', r_ui=10.0, est=8.040285714285714, details={'was_impossible': False}), Prediction(uid='ÐºÐ°ÑˆÑƒÑ€Ð¸Ð½ Ð°Ð»ÐµÐºÑ�ÐµÐ¹', iid='Apple iPhone 5S 64Gb', r_ui=8.0, est=8.040285714285714, details={'was_impossible': False}), Prediction(uid='Amazon Customer', iid='MMOBIEL SAMSUNG GALAXY S3 i9300 I747 T999 I535 BLUE DISPLAY TOUCHSCREEN REPLACEMENT KIT 12 PIECES INCLUDING 1 REPLACEMENT FRONT GLASS FOR SAMSUNG GALAXY S3 / 1 PAIR OF TWEEZERS / 1 ROLL OF 2MM ADHESIVE TAPE / 1 TOOL KIT / 1 MICROFIBER CLEANING CLOTH / WIRE', r_ui=2.0, est=7.393381251049339, details={'was_impossible': False}), Prediction(uid='kuzeykizi', iid='Nokia 8800 Arte Cep Telefonu', r_ui=9.0, est=8.3842697167593, details={'was_impossible': False}), Prediction(uid='CÃ©lian MÃ©nard', iid='Apple iPhone 6 Smartphone dÃ©bloquÃ© 4G (Ecran : 4.7 pouces - 16 Go - iOS 8) Argent', r_ui=6.0, est=8.040285714285714, details={'was_impossible': False}), Prediction(uid='Kostas', iid='Sony Xperia Z5 SIM-Free Smartphone (German Version) - Graphite Black', r_ui=10.0, est=8.040285714285714, details={'was_impossible': False}), Prediction(uid='Fatablue', iid='Siemens A55', r_ui=10.0, est=8.195279161917743, details={'was_impossible': False}), Prediction(uid='Samuele', iid='WIKO Rainbow Smartphone 4G, 8 GB', r_ui=10.0, est=8.040285714285714, details={'was_impossible': False}), Prediction(uid='hunathetuna', iid='OnePlus One', r_ui=10.0, est=8.040285714285714, details={'was_impossible': False}), Prediction(uid='Amosthecoolboy', iid='Samsung Hero E3213', r_ui=10.0, est=8.040285714285714, details={'was_impossible': False}), Prediction(uid=nan, iid='Sony Ericsson W995', r_ui=10.0, est=8.720350228910133, details={'was_impossible': False}), Prediction(uid='Emelda S', iid='Samsung N920C Factory Unlocked GSM Galaxy Note 5, 32GB - International Version (Black)', r_ui=10.0, est=8.040285714285714, details={'was_impossible': False}), Prediction(uid='DitchbankBootlegger', iid='Apple iPhone 5c 32GB (Green) - Verizon Wireless', r_ui=10.0, est=8.04237790403173, details={'was_impossible': False}), Prediction(uid='Wolfgang Vieweg', iid='Alcatel One Touch Easy db', r_ui=8.0, est=7.706287821500376, details={'was_impossible': False}), Prediction(uid='Colin Fry', iid='Nokia Asha 210 SIM-Free Mobile Phone - Black', r_ui=10.0, est=8.046715850223757, details={'was_impossible': False}), Prediction(uid='VITORHSF', iid='Nokia N900', r_ui=10.0, est=8.040285714285714, details={'was_impossible': False}), Prediction(uid=nan, iid='NOKIA E6 CEP TELEFONU', r_ui=9.0, est=8.052756803013382, details={'was_impossible': False}), Prediction(uid='vallandigham77', iid='Microsoft Nokia Lumia 822 - black (Verizon Wireless)', r_ui=9.0, est=8.040285714285714, details={'was_impossible': False}), Prediction(uid='federico', iid='OPPO R7 Plus Smartphone, Display 6 pollici, 4G, Memoria 32 GB, Double Nano SIM, Android 5.1 Lollipop, Oro Rosa [EU]', r_ui=10.0, est=8.040285714285714, details={'was_impossible': False}), Prediction(uid='chiarina89', iid='Siemens A36', r_ui=6.0, est=8.040285714285714, details={'was_impossible': False}), Prediction(uid='celular muito bom', iid='LG Smartphone LG Optimus L1 II E410 Desbloqueado Claro Preto Android 4.1, 3G, CÃ¢mera 2MP, MemÃ³ria Interna 4GB, GPS', r_ui=10.0, est=8.040285714285714, details={'was_impossible': False}), Prediction(uid='susana', iid='Nokia Lumia 530, UK SIM-Free Smartphone - Orange', r_ui=10.0, est=8.202882721341219, details={'was_impossible': False}), Prediction(uid='DJ Bobby', iid='Sony Xperia ZL LTE Smartphone (12,7 cm (5 Zoll) Touchscreen, 1,5GHz, Quad-Core, 2GB RAM, 16GB HDD, 13 Megapixel Kamera, Android 4.1) schwarz', r_ui=6.0, est=8.040285714285714, details={'was_impossible': False}), Prediction(uid='parazyte', iid='Apple iPhone 3GS 16GB', r_ui=7.0, est=8.040285714285714, details={'was_impossible': False}), Prediction(uid='Elma63', iid='Samsung Galaxy S4 mini 4G', r_ui=8.0, est=8.040285714285714, details={'was_impossible': False}), Prediction(uid='Kate', iid='Motorola RAZR V3 satin pink ohne Vertrag', r_ui=2.0, est=8.040285714285714, details={'was_impossible': False}), Prediction(uid='joohansson', iid='Apple iPhone 3GS 32GB', r_ui=10.0, est=8.262817365648827, details={'was_impossible': False}), Prediction(uid='kuzeykizi', iid='Nokia A 3600 SLIDE CEP TELEFONU (PINK)', r_ui=9.0, est=8.27376365668698, details={'was_impossible': False}), Prediction(uid='Arup K Roy', iid='OnePlus One (Sandstone Black, 64GB)', r_ui=4.0, est=7.924647679053428, details={'was_impossible': False}), Prediction(uid=nan, iid='Sony Ericsson Xperia X10', r_ui=6.0, est=7.919429310679937, details={'was_impossible': False}), Prediction(uid='KHCK512', iid='OnePlus One Plus One FDD LTE 4g Mobile Phone 5.5\" 1080p Snapdragon 801 3gb RAM 64gb ROM Android 4.4 NFC Cyanogenmod Cm11s (Standard)', r_ui=10.0, est=8.040285714285714, details={'was_impossible': False}), Prediction(uid='PoziTiFFF', iid='Samsung S7562 Galaxy S Duos (Black)', r_ui=10.0, est=8.040285714285714, details={'was_impossible': False}), Prediction(uid='chandan porwal', iid='Lenovo Vibe K5 (Gold, VoLTE update)', r_ui=2.0, est=7.1816578146734, details={'was_impossible': False}), Prediction(uid='Amazon Customer', iid='LG G4 Unlocked Smartphone with 32GB Internal Memory, 16 MP Camera and 5.5-Inch IPS Quantum Display for GSM and CDMA, US Warranty (Black Leather)', r_ui=4.0, est=7.144525266171701, details={'was_impossible': False}), Prediction(uid='Stephanie', iid='Samsung Intercept Prepaid Android Phone (Virgin Mobile)', r_ui=8.0, est=8.040285714285714, details={'was_impossible': False}), Prediction(uid='Anthony', iid='BLU Jenny TV 2.8 T276T Unlocked GSM Dual-SIM Cell Phone w/ 1.3MP Camera - Unlocked Cell Phones - Retail Packaging - Black Blue', r_ui=8.0, est=8.040285714285714, details={'was_impossible': False}), Prediction(uid='IronAyden', iid='Nokia 6210', r_ui=8.0, est=8.040285714285714, details={'was_impossible': False}), Prediction(uid='einer Kundin', iid='Samsung Galaxy S7 edge Smartphone, 13,9 cm (5,5 Zoll) Display, LTE (4G)', r_ui=10.0, est=8.865777272020283, details={'was_impossible': False}), Prediction(uid='Domenica Terracciano', iid=\"Huawei P9 Lite Smartphone, LTE, Display 5.2'' FHD, Processore Octa-Core Kirin 650, 16 GB Memoria Interna, 3GB RAM, Fotocamera 13 MP, Single-SIM, Android 6.0 Marshmallow, Bianco [Italia]\", r_ui=8.0, est=8.382786551925168, details={'was_impossible': False}), Prediction(uid='Alexico', iid='Apple iPhone 7 Plus 128GB Silver', r_ui=10.0, est=8.040285714285714, details={'was_impossible': False}), Prediction(uid='hayleyhorn ', iid='Samsung Galaxy S6 64GB (AT&T)', r_ui=10.0, est=8.135465037449624, details={'was_impossible': False}), Prediction(uid='shanesama', iid='SÃƒÂ\\xad : SÃƒÂ\\xad Motorola RAZR V3', r_ui=8.0, est=8.040285714285714, details={'was_impossible': False}), Prediction(uid='Gordon Comstock', iid='Nokia X6 16GB Sim Free Mobile Phone - Black', r_ui=8.0, est=8.039712409788242, details={'was_impossible': False}), Prediction(uid='Jason', iid='Samsung Galaxy S DUOS GT-S7562 Unlocked GSM Phone Dual SIM, 4\" Touchscreen, 5MP Camera, Video, GPS, Wi-Fi, Bluetooth No Warranty - Black', r_ui=4.0, est=8.040285714285714, details={'was_impossible': False}), Prediction(uid=nan, iid='Samsung SGH-D500 Handy', r_ui=10.0, est=8.052756803013382, details={'was_impossible': False}), Prediction(uid='Luis', iid='Huawei Ascend Y635', r_ui=10.0, est=8.228737950695539, details={'was_impossible': False}), Prediction(uid='CTaylor', iid='Samsung D840 Silver Sim Free Mobile Phone', r_ui=6.0, est=8.040285714285714, details={'was_impossible': False}), Prediction(uid='Amazon Customer', iid='Motorola Moto G 3rd Generation (Black, 8GB)', r_ui=2.0, est=4.502586202375406, details={'was_impossible': False}), Prediction(uid='Ben Heijenk', iid='Huawei P8 Lite Black', r_ui=9.0, est=8.040285714285714, details={'was_impossible': False}), Prediction(uid='sameer chavan', iid='Gionee M2 (White, 8GB)', r_ui=8.0, est=8.166468157094325, details={'was_impossible': False}), Prediction(uid='einer Kundin', iid='Samsung Galaxy S7 edge Smartphone, 13,9 cm (5,5 Zoll) Display, LTE (4G)', r_ui=10.0, est=8.865777272020283, details={'was_impossible': False}), Prediction(uid='Giovanni', iid='Samsung C3520I Telefono Cellulare, Argento [Italia]', r_ui=10.0, est=8.202329397093674, details={'was_impossible': False}), Prediction(uid='Burning_Darkness', iid='HTC Desire S', r_ui=10.0, est=8.327059509240309, details={'was_impossible': False}), Prediction(uid='giacomo Zaccagnino', iid='LG Optimus E460 L5 II Smartphone, Nero lucido [Germania]', r_ui=8.0, est=8.040285714285714, details={'was_impossible': False}), Prediction(uid='tauar', iid='Samsung Champ E2652', r_ui=4.0, est=8.040285714285714, details={'was_impossible': False}), Prediction(uid='fooxman', iid='Samsung SGH-D500 - Sim Free Mobile Phone', r_ui=8.0, est=8.040285714285714, details={'was_impossible': False}), Prediction(uid='patio door locks', iid='LG Invision', r_ui=9.0, est=8.040285714285714, details={'was_impossible': False}), Prediction(uid='Venkatesan Subramanian', iid='Samsung Galaxy S5 SM-G900F 16GB Factory Unlocked Cellphone International Version, Retail Packaging, Black', r_ui=10.0, est=8.040285714285714, details={'was_impossible': False}), Prediction(uid='Dallas Caskey', iid='Apple iPhone 4 16GB SIM-Free - Black', r_ui=10.0, est=8.057765614333903, details={'was_impossible': False}), Prediction(uid='lauran', iid='Apple iPhone 5 16GB Verizon Wireless CDMA 4G LTE Cell Phone - Black.', r_ui=10.0, est=8.040285714285714, details={'was_impossible': False}), Prediction(uid='colibris', iid='Samsung - Telephones mobiles sans abonnement GALAXY GRAND+ NOIR -', r_ui=8.0, est=8.040285714285714, details={'was_impossible': False}), Prediction(uid='Olivier cineole', iid='Wiko Rainbow Lite Smartphone dÃ©bloquÃ© 4G (Ecran: 5 pouces - 4 Go - Double SIM - Android 5.1 Lollippo) Blanc', r_ui=4.0, est=7.887130530403806, details={'was_impossible': False}), Prediction(uid='anton048', iid='Nokia 6233', r_ui=10.0, est=8.16500519359436, details={'was_impossible': False}), Prediction(uid=nan, iid='ThL W8', r_ui=10.0, est=8.052756803013382, details={'was_impossible': False}), Prediction(uid='Salman Dawood', iid='Sony Xperia Z3 Compact (White)', r_ui=2.0, est=8.040285714285714, details={'was_impossible': False}), Prediction(uid='Paola', iid='Samsung Galaxy J510 Smartphone, Dual SIM, 16 GB, Oro [Italia]', r_ui=10.0, est=8.040285714285714, details={'was_impossible': False}), Prediction(uid='Frank', iid='Sony Xperia SP Smartphone (11,7 cm (4,6 Zoll) Touchscreen, 1,7GHz, Dual-Core, 1GB RAM, 8GB interner Speicher, 8 Megapixel Kamera, NFC, Android 4.1) weiÃŸ', r_ui=4.0, est=8.133519739886463, details={'was_impossible': False}), Prediction(uid='asdi4', iid='Samsung SGH-E720', r_ui=8.0, est=8.040285714285714, details={'was_impossible': False}), Prediction(uid='JoÃ£o Freitas Neto', iid='Samsung Galaxy J5 SM-J500H/DS GSM Factory Unlocked Smartphone, International Version (White)', r_ui=10.0, est=8.040285714285714, details={'was_impossible': False}), Prediction(uid='Peter59', iid='Samsung Galaxy A3 Smartphone (2016) guld', r_ui=10.0, est=8.040285714285714, details={'was_impossible': False}), Prediction(uid='iPhone 7 plus', iid='Apple iPhone 7 Plus 256 Gt â€�puhelin, kulta', r_ui=10.0, est=8.040285714285714, details={'was_impossible': False}), Prediction(uid='Konfuzius', iid='Motorola Charm MB502 Unlocked Android Quad Band GSM Phone with 3 MP Camera--No Warranty (Bronze)', r_ui=10.0, est=8.040285714285714, details={'was_impossible': False}), Prediction(uid='Mark Peters', iid='Sony Xperia E Smartphone (8,9 cm (3,5 Zoll) Touchscreen, Qualcomm, 1GHz, 512MB RAM, 4GB HDD, 3,2 Megapixel Kamera, Android 4.1) wei??', r_ui=10.0, est=8.040285714285714, details={'was_impossible': False}), Prediction(uid='Haus1502', iid='Microsoft Nokia N97 Smartphone (QWERTZ-Tastatur, GPS, W-Lan, Ovi Karten, Kamera mit 5 MP) black', r_ui=2.0, est=8.040285714285714, details={'was_impossible': False}), Prediction(uid='rafiduck', iid='Sony Ericsson P900', r_ui=10.0, est=8.053765846286588, details={'was_impossible': False}), Prediction(uid='joseph a. williamson', iid='Samsung Galaxy S3 SGH-i747 4G LTE GSM Unlocked 16GB No Warranty (White)', r_ui=6.0, est=8.040285714285714, details={'was_impossible': False}), Prediction(uid='JOSEMARCIOBRITODEALMEIDA', iid='LG Cookie KP570', r_ui=10.0, est=8.197128254296448, details={'was_impossible': False}), Prediction(uid='Catalina', iid='Honor 4X - Smartphone libre Android (pantalla 5.5\", cÃ¡mara 13 Mp, 8 GB, Octa Core 1.2 GHz, 2 GB de RAM), color negro', r_ui=10.0, est=8.040285714285714, details={'was_impossible': False}), Prediction(uid='LGE', iid='Nokia Lumia 735 UK SIM-Free Smartphone - Orange (4.7-inch)', r_ui=10.0, est=8.193605391304349, details={'was_impossible': False}), Prediction(uid='Safi Sherrif', iid='Lenovo S850 (Dark Blue, 16GB)', r_ui=4.0, est=8.040285714285714, details={'was_impossible': False}), Prediction(uid='David W. Batterson', iid='HTC Desire Black (Virgin Mobile)', r_ui=10.0, est=8.040285714285714, details={'was_impossible': False}), Prediction(uid='Ð²Ð»Ð°Ð´Ð¸Ðº', iid='Sony Xperia Z1 (Ñ‡ÐµÑ€Ð½Ñ‹Ð¹)', r_ui=9.0, est=7.960270845374493, details={'was_impossible': False}), Prediction(uid='Amazon Customer', iid='Microsoft Nokia 1112 dunkelblau Handy', r_ui=10.0, est=7.393381251049339, details={'was_impossible': False}), Prediction(uid='Amazon Customer', iid='Samsung Galaxy Reverb (Virgin Mobile)', r_ui=2.0, est=7.393381251049339, details={'was_impossible': False}), Prediction(uid='ursprung68', iid='Sony Xperia T (LT30p) Smartphone (11,6 cm (4,6 Zoll) Touchscreen, Qualcomm Krait, Dual-Core, 1,5GHz, 1GB RAM, 13 Megapixel Kamera, Android 4.0) schwarz', r_ui=10.0, est=8.040285714285714, details={'was_impossible': False}), Prediction(uid='Frank S.', iid='Samsung SGH-E250 Handy (VGA-Kamera, Bluetooth, uTrack) silber', r_ui=4.0, est=8.040285714285714, details={'was_impossible': False}), Prediction(uid='carlos', iid='LG G3 S', r_ui=8.0, est=8.040285714285714, details={'was_impossible': False}), Prediction(uid='GermÃ¡n', iid='Samsung Galaxy A5 - Smartphone libre Android (pantalla 5\", cÃ¡mara 13 Mp, 16 GB, Quad-Core 1.2 GHz, 2 GB RAM), plateado (importado de Italia)', r_ui=8.0, est=8.040285714285714, details={'was_impossible': False}), Prediction(uid='kergroix', iid='Huawei Ascend Mate 7 Smartphone DÃ©bloquÃ© 4G Noir', r_ui=8.0, est=8.040285714285714, details={'was_impossible': False}), Prediction(uid='Haydar Menekseli', iid='Samsung Galaxy S6 edge zwart / 32 GB', r_ui=9.0, est=8.18107144323013, details={'was_impossible': False}), Prediction(uid='Kevin Saunders', iid='LG G3 D855 Factory Unlocked Cellphone, International Version, 16GB, Black', r_ui=10.0, est=8.040285714285714, details={'was_impossible': False}), Prediction(uid='Cliente Amazon', iid='Apple iPhone 6 - Smartphone - Display 4.7\" (dual-core 1.4 GHz, 1GB di RAM, 16 GB Memoria interna, 8 MP fotocamera, iOS), Grigio - (Ricondizionato Certificato) [include spina europea]', r_ui=6.0, est=8.661053555646017, details={'was_impossible': False}), Prediction(uid='Ermetic', iid='LG Electronics U8120', r_ui=10.0, est=8.040285714285714, details={'was_impossible': False}), Prediction(uid='myfirst70', iid='BLACKBERRY BOLD 9780 CEP TELEFONU', r_ui=10.0, est=8.040285714285714, details={'was_impossible': False}), Prediction(uid='JM', iid='Motorola Moto E SIM-Free Smartphone - White', r_ui=10.0, est=8.040285714285714, details={'was_impossible': False}), Prediction(uid='ÐœÐ°Ñ€Ð¸ÑˆÐºÐ°', iid='Samsung Galaxy S4 GT-I9500 16GB (Ð±ÐµÐ»Ñ‹Ð¹)', r_ui=10.0, est=8.030284244834492, details={'was_impossible': False}), Prediction(uid='Argelia Moctezuma', iid='BLU Studio X - US GSM - Unlocked Cell Phone (Gold)', r_ui=10.0, est=8.040285714285714, details={'was_impossible': False}), Prediction(uid='?????????€?????? ????????????', iid='?????????????? ?????????????? Sony Xperia E C1605 Black', r_ui=9.0, est=8.040285714285714, details={'was_impossible': False}), Prediction(uid=nan, iid='v60t', r_ui=9.0, est=8.052756803013382, details={'was_impossible': False}), Prediction(uid='agazda', iid='Huawei Honor 7 Lite dual-sim smarttelefon 16 GB (gull)', r_ui=10.0, est=8.040285714285714, details={'was_impossible': False}), Prediction(uid='hector Danilo Ventura', iid='Motorola Droid RAZR 4G LTE Android Smartphone Verizon (black)', r_ui=2.0, est=8.040285714285714, details={'was_impossible': False}), Prediction(uid='Sandra Leischner', iid='Samsung Galaxy Ace Plus S7500 Smartphone (9,3 cm (3,7 Zoll) Touchscreen, 5 Megapixel Kamera, Android 2.3) chic-white', r_ui=10.0, est=8.040285714285714, details={'was_impossible': False}), Prediction(uid='Gaurav', iid='Motorola Moto G, 4th Gen (White, 16GB) - Android 7.0 Nougat Update Available Now', r_ui=10.0, est=8.040285714285714, details={'was_impossible': False}), Prediction(uid='nicknov17', iid='Nokia 6230i', r_ui=8.0, est=8.034661982047261, details={'was_impossible': False}), Prediction(uid='Mathias', iid='Samsung Galaxy S4 Plus I9506 LTE 4G White Frost', r_ui=10.0, est=8.040285714285714, details={'was_impossible': False}), Prediction(uid='Bobbyrex', iid='Sony Xperia Z2 D6503', r_ui=10.0, est=7.455693071785123, details={'was_impossible': False}), Prediction(uid='Patrice83', iid='LG Viewty Smile', r_ui=9.0, est=8.040285714285714, details={'was_impossible': False}), Prediction(uid='Kalix89', iid='Apple iPhone 4 8GB', r_ui=5.0, est=8.040285714285714, details={'was_impossible': False}), Prediction(uid='TomboRambo', iid='HTC One (M8)', r_ui=10.0, est=8.364477526905205, details={'was_impossible': False}), Prediction(uid='gowdamanrat', iid='Samsung Galaxy J3 (8GB)', r_ui=10.0, est=8.46090953450722, details={'was_impossible': False}), Prediction(uid='Gessica Battisti', iid='Samsung G900 Galaxy S5 Smartphone, 16 GB, Marchio TIM, Bianco [Italia]', r_ui=10.0, est=8.040285714285714, details={'was_impossible': False}), Prediction(uid='rbkbz ', iid='Samsung Galaxy S6 32GB (AT&T)', r_ui=8.0, est=8.521503598434599, details={'was_impossible': False}), Prediction(uid='Laura', iid='Samsung Galaxy S III (S3) (Virgin Mobile)', r_ui=6.0, est=8.341344668423405, details={'was_impossible': False}), Prediction(uid='GeneL', iid='Palm Centro White Phone (AT&T)', r_ui=8.0, est=8.040285714285714, details={'was_impossible': False}), Prediction(uid='com.riker', iid='Nokia 8810', r_ui=10.0, est=8.040285714285714, details={'was_impossible': False}), Prediction(uid='Scazuk', iid='Sony Xperia Z1 - Smartphone libre Android (pantalla 5\", cÃ¡mara 20.7 Mp, 16 GB, Quad-Core 2.2 GHz, 2 GB RAM), negro (versiÃ³n europea)', r_ui=4.0, est=8.040285714285714, details={'was_impossible': False}), Prediction(uid='Patrick Wendt', iid='Microsoft Lumia 640 Smartphone (5 Zoll (12,7 cm) Touch-Display, 8 GB Speicher, Windows 8.1) orange', r_ui=10.0, est=8.040285714285714, details={'was_impossible': False}), Prediction(uid='Mac Guffin', iid='Sony Ericsson Mobile Communications Xperia J - Blanco', r_ui=6.0, est=8.040285714285714, details={'was_impossible': False}), Prediction(uid='Ken C.', iid='Apple iPhone 5 A1428 Factory Unlocked Cellphone, 16GB, Black', r_ui=10.0, est=7.911991157487785, details={'was_impossible': False}), Prediction(uid='girlsluvtoys2 ', iid='Samsung Galaxy S4 16GB (Verizon)', r_ui=9.0, est=8.618913016146411, details={'was_impossible': False}), Prediction(uid='AnalogJ', iid='BlackBerry Bb-storm-9530-pb-r', r_ui=8.0, est=8.040285714285714, details={'was_impossible': False}), Prediction(uid='ol5556', iid='HTC One 32Gb', r_ui=10.0, est=8.19903557714345, details={'was_impossible': False}), Prediction(uid='IAR', iid='Alcatel Onetouch 2004G - MÃ³vil libre (pantalla 2.4\", 512 MB RAM, teclas grandes), blanco', r_ui=10.0, est=8.040285714285714, details={'was_impossible': False}), Prediction(uid='ANDRE LEVASSOR Elisabeth', iid='Samsung Galaxy J5 Smartphone dÃ©bloquÃ© 4G (Ecran: 5 pouces - 8 Go - Simple Micro-SIM - Android 5.1 Lollipop) Blanc', r_ui=8.0, est=8.199922756385298, details={'was_impossible': False}), Prediction(uid='gganderson', iid='Samsung S7582 Galaxy S DuoS 2 Smartphone (10,16 cm (4 Zoll) TFT-Touchscreen, 1,2 GHz Dual-Core-Prozessor, 5 Megapixel Kamera, Android 4.2) schwarz', r_ui=10.0, est=8.040285714285714, details={'was_impossible': False}), Prediction(uid='gennaro larocca', iid='Microsoft Lumia 640 XL Smartphone, 8 GB, Arancione [Italia]', r_ui=10.0, est=8.040285714285714, details={'was_impossible': False}), Prediction(uid='Antonio', iid='WIKO Fever 4G Smartphone, 16 GB, Dual SIM, Nero/Antracite', r_ui=8.0, est=8.358717228980503, details={'was_impossible': False}), Prediction(uid='Mariana Kalix', iid='Sony Ericsson W380i Handy (Triband, EDGE, MP3-Player, Bluetooth, MemoryStickMicro-Slot) Tangerine Black ohne Branding', r_ui=10.0, est=8.040285714285714, details={'was_impossible': False}), Prediction(uid=nan, iid='HTC HD2', r_ui=10.0, est=9.403275163285233, details={'was_impossible': False}), Prediction(uid=nan, iid='Samsung Galaxy Gio GT-S5660', r_ui=8.0, est=8.556376805688613, details={'was_impossible': False}), Prediction(uid='MITHUN CHAKRABORTY', iid='Samsung Guru GT-E1200 (Indigo Blue)', r_ui=10.0, est=8.193554134740266, details={'was_impossible': False}), Prediction(uid='LucaM.', iid='Archos 35 Home Connect Radio web Ecran tactile 3,5\" (9 cm) 4 Go Android', r_ui=10.0, est=8.040285714285714, details={'was_impossible': False}), Prediction(uid='Raghavendra Hallur', iid='Samsung Galaxy Grand Prime SM-G530H (Grey, 8GB)', r_ui=8.0, est=8.040285714285714, details={'was_impossible': False}), Prediction(uid='Laura', iid='Alcatel Pop C7', r_ui=4.0, est=8.341344668423405, details={'was_impossible': False}), Prediction(uid='txbountyman', iid='Samsung GSM Unlocked Samsung i847 Rugby Smart 4G 5MP Android 2.3.5 Military Standard MIL-STD 81F Touchscreen', r_ui=10.0, est=7.8700030089470445, details={'was_impossible': False}), Prediction(uid='Bina', iid='Samsung Galaxy S3 mini I8190 Smartphone (10,2 cm (4 Zoll) AMOLED Display, Dual-Core, 1GHz, 1GB RAM, 5 Megapixel Kamera, Android 4.1) garnet-red', r_ui=8.0, est=8.229324544966659, details={'was_impossible': False}), Prediction(uid='Saurabh Dey Sarkar', iid='Apple iPhone 5s (Silver, 16GB)', r_ui=10.0, est=8.05806790435431, details={'was_impossible': False}), Prediction(uid='Fernanda Farias', iid='Smartphone Nokia Lumia 630 Windows 8.1 Tela 4.5 8GB 3G Wi Fi CÃ¢mera 5MP GPS TV Digital - Branco', r_ui=10.0, est=8.040285714285714, details={'was_impossible': False}), Prediction(uid='Thomas E Sykes Jr', iid='Samsung Galaxy S III 4G Android Phone, Blue 32GB (Verizon Wireless)', r_ui=10.0, est=8.040285714285714, details={'was_impossible': False}), Prediction(uid='e-bit', iid='Smartphone Motorola Moto X 2Âª GeraÃ§Ã£o XT1097 32 GB', r_ui=10.0, est=8.930506351579707, details={'was_impossible': False}), Prediction(uid='Muglurmat', iid='Nokia 130 Dual SIM (Red)', r_ui=10.0, est=8.023028455553694, details={'was_impossible': False}), Prediction(uid='RadianceNL', iid='Samsung Galaxy S6 goud / 32 GB', r_ui=9.0, est=8.126663247290876, details={'was_impossible': False}), Prediction(uid='G Man', iid='Samsung Galaxy S7 32GB UK SIM-Free Smartphone - Gold', r_ui=8.0, est=8.212281088249995, details={'was_impossible': False}), Prediction(uid='William Drake', iid='Lenovo Phab 2 Pro Unlocked Android Smartphone - Cellphone with Tango for Augmented Reality, 64 GB Grey (U.S. Warranty)', r_ui=10.0, est=8.040285714285714, details={'was_impossible': False}), Prediction(uid='stole38', iid='Nokia N79', r_ui=8.0, est=8.180541073462727, details={'was_impossible': False}), Prediction(uid='Gottfried Stumpf', iid='Sony Xperia Z1 Compact Smartphone (4,3 Zoll (10,9 cm) Touch-Display, 16 GB Speicher, Android 4.3) pink', r_ui=4.0, est=8.573392710775954, details={'was_impossible': False}), Prediction(uid='CJ of the UK', iid='Nokia N70 Smart Phone - Sim Free With 2MP Camera', r_ui=4.0, est=8.040285714285714, details={'was_impossible': False}), Prediction(uid='danke', iid='HTC One S Smartphone (10,9 cm (4,3 Zoll) AMOLED-Tochscreen, 8 Megapixel Kamera, Android OS) grau', r_ui=8.0, est=7.533608944400059, details={'was_impossible': False}), Prediction(uid=\"Client d'Amazon\", iid='Samsung Chargeur Original Samsung 2A ETA-U90EWE Blanc compatible Samsung GT-i9505 Galaxy S4', r_ui=2.0, est=7.452012250606444, details={'was_impossible': False}), Prediction(uid='Ð�Ð»ÐµÐºÑ�Ð°Ð½Ð´Ñ€', iid='Samsung Galaxy A7 (2017) (Ð·Ð¾Ð»Ð¾Ñ‚Ð¸Ñ�Ñ‚Ñ‹Ð¹)', r_ui=9.0, est=8.311792049677752, details={'was_impossible': False}), Prediction(uid='Amazon Customer', iid='OnePlus X (Onyx, 16GB)', r_ui=10.0, est=7.3613938937289225, details={'was_impossible': False}), Prediction(uid='granny6x ', iid='Samsung Galaxy S5 16GB (T-Mobile)', r_ui=10.0, est=8.466966873128069, details={'was_impossible': False}), Prediction(uid='Simon Lim', iid='Motorola RAZR2 V9', r_ui=4.0, est=8.040285714285714, details={'was_impossible': False}), Prediction(uid='brombin gianfranco', iid='Nokia Asha 302, Rosso [Italia]', r_ui=10.0, est=8.040285714285714, details={'was_impossible': False}), Prediction(uid='Jaimila', iid='Sony Ericsson K770i brown UMTS Handy', r_ui=2.0, est=8.040285714285714, details={'was_impossible': False}), Prediction(uid='Ca', iid='BLU Dash X Plus - Unlocked 5.5\" Smartphone - US GMS -White', r_ui=2.0, est=8.040285714285714, details={'was_impossible': False}), Prediction(uid='Mata', iid='Alcatel One Touch Aero Etui Ã\\xa0 rabat pour TÃ©lÃ©phone portable gris foncÃ©', r_ui=10.0, est=8.040285714285714, details={'was_impossible': False}), Prediction(uid='toff73 ', iid='LG H815', r_ui=10.0, est=8.180195637414416, details={'was_impossible': False}), Prediction(uid='Skipper', iid='Microsoft Nokia 5230 Navigation Edition Smartphone (UMTS, Bluetooth, GPS, 2 MP, Ovi Karten) [EU-Version] all black', r_ui=10.0, est=8.040285714285714, details={'was_impossible': False}), Prediction(uid='TIFONCITO', iid='Nokia 5800 Xpress Music', r_ui=10.0, est=8.040285714285714, details={'was_impossible': False}), Prediction(uid='Bezlikiy_Djo', iid='Nokia C5', r_ui=8.0, est=8.038777646915243, details={'was_impossible': False}), Prediction(uid='jjcross', iid='Nokia Lumia 930', r_ui=10.0, est=8.040285714285714, details={'was_impossible': False}), Prediction(uid='Fahober', iid='Nokia Smartphone Nokia Lumia 520 Desbloqueado Oi Preto Windows Phone 8 CÃ¢mera 5MP 3G Wi-Fi MemÃ³ria Interna 8G GPS', r_ui=10.0, est=8.040285714285714, details={'was_impossible': False}), Prediction(uid='Nik Heckman', iid='LG Optimus Zone 2 (Verizon Prepaid)', r_ui=10.0, est=8.040285714285714, details={'was_impossible': False}), Prediction(uid='Uewi', iid='Elephone P6000 Pro - Smartphone libre Android (pantalla 5\", cÃ¡mara 13 Mp, 16 GB, Octa-Core 1.3 GHz, 3 GB RAM), color negro', r_ui=10.0, est=7.990098406190039, details={'was_impossible': False}), Prediction(uid='Happyhour', iid='LG P698 Optimus Net Dual', r_ui=2.0, est=8.040285714285714, details={'was_impossible': False}), Prediction(uid='Harry A.', iid='Samsung GALAXY SIII S3 GT-I9300 16 GB TITANIUM GREY', r_ui=4.0, est=8.040285714285714, details={'was_impossible': False}), Prediction(uid='Cliente Amazon', iid='Huawei P9 lite Smartphone [Versione EU Ovest] Oro', r_ui=8.0, est=8.661053555646017, details={'was_impossible': False}), Prediction(uid='karen baigrie', iid='Nokia N6303 Classic Sim Free Mobile Phone - Silver/Black', r_ui=10.0, est=8.040285714285714, details={'was_impossible': False}), Prediction(uid='wslsousa', iid='Motorola Smartphone Motorola Novo Moto G Dual Chip XT 1068 Desbloqueado Android 4.4 Tela 5 8GB 3G Wi-Fi CÃ¢mera de 8MP - Preto', r_ui=10.0, est=8.040285714285714, details={'was_impossible': False}), Prediction(uid='amanda', iid='Sim Free iPhone 7 32GB Mobile Phone - Black', r_ui=10.0, est=8.189361509488917, details={'was_impossible': False}), Prediction(uid='R. Anliker', iid='Samsung Galaxy Y Duos S6102 Smartphone (8 cm (3,14 Zoll) Touchscreen, 3,2 Megapixel Kamera, Android 2.3) strong-black', r_ui=10.0, est=7.991122272223227, details={'was_impossible': False}), Prediction(uid='Adele', iid='Samsung Galaxy Centura Android Prepaid Phone (TracFone)', r_ui=10.0, est=8.040285714285714, details={'was_impossible': False}), Prediction(uid=nan, iid='HTC Sensation', r_ui=2.0, est=8.052756803013382, details={'was_impossible': False}), Prediction(uid='Ð˜Ð³Ð¾Ñ€ÑŒ', iid='Samsung Galaxy S7', r_ui=10.0, est=7.5532816742647215, details={'was_impossible': False}), Prediction(uid='kiac67', iid='SONY ERICSSON Vivaz', r_ui=9.0, est=8.126109703075981, details={'was_impossible': False}), Prediction(uid='lufarida', iid='Motorola RAZR V3i', r_ui=8.0, est=8.040285714285714, details={'was_impossible': False}), Prediction(uid=nan, iid='Samsung S5220R REX80 indigo blue', r_ui=10.0, est=8.052756803013382, details={'was_impossible': False}), Prediction(uid='Master Opera', iid='Samsung E1200 Telefono Cellulare, Nero [Italia]', r_ui=10.0, est=8.21077547763345, details={'was_impossible': False}), Prediction(uid=nan, iid='Nokia X6 16Gb', r_ui=9.0, est=8.052756803013382, details={'was_impossible': False}), Prediction(uid='JP', iid='Samsung Galaxy Centura Android Prepaid Phone with 600 Minutes and Triple Minutes (Tracfone)', r_ui=6.0, est=8.545451160852863, details={'was_impossible': False}), Prediction(uid='Cliente Amazon', iid='Huawei P9 Smartphone, LTE, Display 5.2\" FHD, Memoria Interna 32 GB, 3 GB RAM, Processore Kirin 955, Fotocamera 12 MP, Argento [Versione EU Ovest]', r_ui=8.0, est=8.661053555646017, details={'was_impossible': False}), Prediction(uid='einer Kundin', iid='ZTE Blade A452 Smartphone, 12,7 cm (5 Zoll) Display, LTE (4G), Android 5.1 Lollipop, 13,0 Megapixel', r_ui=8.0, est=8.176887309903012, details={'was_impossible': False}), Prediction(uid='Juan Bandeira', iid='Apple iPhone 5S 32GB Prateado Desbloqueado iOS 7 4G Wi-Fi CÃ¢mera 8MP ...', r_ui=10.0, est=8.040285714285714, details={'was_impossible': False}), Prediction(uid='RAJA', iid='SAMSUNG Galaxy On7 (Black, 8 GB)', r_ui=10.0, est=8.196770497698585, details={'was_impossible': False}), Prediction(uid='kawazx10', iid='Samsung SGH E760', r_ui=8.0, est=8.040285714285714, details={'was_impossible': False}), Prediction(uid='Michael Pierce', iid='LG G Flex L23 Unlocked Cellphone, International Version, 32GB, Black', r_ui=2.0, est=8.040285714285714, details={'was_impossible': False}), Prediction(uid='Fellkapuze', iid='Nokia E66', r_ui=4.0, est=7.86521976197742, details={'was_impossible': False}), Prediction(uid='Anonymous ', iid='Samsung Galaxy S5 16GB (AT&T)', r_ui=10.0, est=8.558980948727942, details={'was_impossible': False}), Prediction(uid='tox77', iid='Sony Ericsson W900i', r_ui=10.0, est=8.155967095178344, details={'was_impossible': False}), Prediction(uid='Osmary Romero', iid='BLU Tank II T193 Unlocked GSM Dual-SIM Cell Phone w/ Camera and 1900 mAh Big Battery, Unlocked Cell Phones - Black Blue', r_ui=10.0, est=8.040285714285714, details={'was_impossible': False}), Prediction(uid='go6pbiukot', iid='Nokia X2-00', r_ui=8.0, est=8.04116082580527, details={'was_impossible': False}), Prediction(uid='PIWASKA', iid='Motorola C155', r_ui=10.0, est=8.040285714285714, details={'was_impossible': False}), Prediction(uid='ECTORY BAUSEN', iid='BlackBerry Bold 9000', r_ui=10.0, est=8.040285714285714, details={'was_impossible': False}), Prediction(uid='total1total', iid='Blackberry Z30 Sim Free Smartphone - White', r_ui=10.0, est=8.040285714285714, details={'was_impossible': False}), Prediction(uid='Yash Agarwal', iid='Lenovo Vibe K4 Note (White,16GB)', r_ui=2.0, est=8.013382259866184, details={'was_impossible': False}), Prediction(uid='????????????', iid='HTC Desire SV T326e Black 4710937389005 UACRF', r_ui=10.0, est=8.040285714285714, details={'was_impossible': False}), Prediction(uid='giorgio', iid='LG Optimus L5 II E460 Smartphone, Nero [Italia]', r_ui=10.0, est=8.040285714285714, details={'was_impossible': False}), Prediction(uid='Iwan', iid='Sony Xperia X zwart / 32 GB', r_ui=8.0, est=8.040285714285714, details={'was_impossible': False}), Prediction(uid='Rense', iid='HTC Desire X Wit', r_ui=9.0, est=8.123153338512742, details={'was_impossible': False}), Prediction(uid='phoenix5711', iid='SONY ERICSSON Xperia X10', r_ui=9.0, est=8.113392485318368, details={'was_impossible': False}), Prediction(uid='ceren2006', iid='Samsung S8530 Cep Telefonu (PlatÄ±num-Slv)', r_ui=9.0, est=8.19339650569726, details={'was_impossible': False}), Prediction(uid='Simpotkaru', iid='Nokia 500', r_ui=8.0, est=7.430710964436853, details={'was_impossible': False}), Prediction(uid='BrandstÃ¤tter Markus', iid='Nokia 1208 red (Farbdisplay, Organizer, Spiele) Handy', r_ui=8.0, est=8.040285714285714, details={'was_impossible': False}), Prediction(uid='Cassandra Journigan', iid='Samsung Straight Talk Samsung Galaxy S5 \"White\" run\\'s on Verizon\\'s 4G XLTE Towers via Straight Talk\\'s $45 unlimited 5GB Plan', r_ui=10.0, est=8.040285714285714, details={'was_impossible': False}), Prediction(uid='Amazon Customer', iid='Apple iPhone 5s GSM Unlocked Cellphone, 16 GB, Space Gray', r_ui=2.0, est=9.472502464937183, details={'was_impossible': False}), Prediction(uid='star11210', iid='Motorola Photon 4G MB855 Sprint CDMA Android Cell Phone - Black', r_ui=2.0, est=8.040285714285714, details={'was_impossible': False}), Prediction(uid='Vincenzo', iid='Lenovo Motorola Moto G 4G (2 Generazione) Smartphone, Display 5 Pollici, LTE, Fotocamera 8 MP, Memoria 8 GB, Android 5 Lollipop, Nero [Italia]', r_ui=10.0, est=8.12816661521817, details={'was_impossible': False}), Prediction(uid='Cliente Amazon', iid='Microsoft Lumia 640 XL - Smartphone libre Windows Phone (pantalla 5.7\", 8 GB, Quad-Core 1.2 GHz, 1 GB RAM), blanco', r_ui=10.0, est=8.661053555646017, details={'was_impossible': False}), Prediction(uid='mkavanessen', iid='Samsung Galaxy S7 Edge zwart / 32 GB', r_ui=10.0, est=8.285229088096452, details={'was_impossible': False}), Prediction(uid='Amazon Customer', iid='Apple iPhone 5s GSM Unlocked Cellphone, 16 GB, Space Gray', r_ui=10.0, est=9.472502464937183, details={'was_impossible': False}), Prediction(uid='Amazon Customer', iid='Motorola Moto G 3rd Generation (Black, 8GB)', r_ui=2.0, est=4.502586202375406, details={'was_impossible': False}), Prediction(uid=\"Client d'Amazon\", iid='Samsung Galaxy Core Prime Value Edition Smartphone dÃ©bloquÃ© 4G (Ecran : 4,5 pouces - 8 Go - Simple MicroSIM - Android 5.1 Lollipop) Blanc', r_ui=8.0, est=7.452012250606444, details={'was_impossible': False}), Prediction(uid='Andriy', iid='Nokia 101 Premium Black', r_ui=8.0, est=8.197536820085395, details={'was_impossible': False}), Prediction(uid='Mathilde', iid='Buyus Coque Gel transparent INVISIBLE Samsung Galaxy A3 (2016) SM-A310F + Stylet + 3 Films OFFERTS', r_ui=8.0, est=8.040285714285714, details={'was_impossible': False}), Prediction(uid='Amazon Customer', iid='LG Electronics E610 Optimus L5 Smartphone (10,2 cm (4 Zoll) Touchscreen, 5 Megapixel Kamera, UMTS, WiFi, Android 4.0) schwarz', r_ui=10.0, est=7.467397297435193, details={'was_impossible': False}), Prediction(uid='Wendi Rost', iid='BLU Win HD 5-Inch Windows Phone 8.1, 8MP Camera Unlocked Cell Phones - Orange', r_ui=2.0, est=7.865289766367982, details={'was_impossible': False}), Prediction(uid='Jarno0404', iid='Samsung Galaxy XCover 3', r_ui=8.0, est=8.040285714285714, details={'was_impossible': False}), Prediction(uid='Jordan', iid='Motorola V325i Cell Phone', r_ui=6.0, est=8.040285714285714, details={'was_impossible': False}), Prediction(uid='colo', iid='SCP-7200 / RL-2000', r_ui=9.0, est=8.040285714285714, details={'was_impossible': False}), Prediction(uid='laroots22', iid='SAGEM MyZ-5', r_ui=10.0, est=8.040285714285714, details={'was_impossible': False}), Prediction(uid=nan, iid='Samsung Galaxy Grand GT-I9082', r_ui=6.0, est=7.80866636474077, details={'was_impossible': False}), Prediction(uid='Vikash', iid='VIVO V3 (Gold)', r_ui=10.0, est=7.921260835549793, details={'was_impossible': False}), Prediction(uid='Amos Pierre', iid='LG Prime GS390 Feature SmartPhone (Unlocked)', r_ui=2.0, est=8.040285714285714, details={'was_impossible': False}), Prediction(uid='Clarissa.Angeline', iid='K322 / K323', r_ui=7.0, est=8.040285714285714, details={'was_impossible': False}), Prediction(uid='jalucine', iid='Siemens S25', r_ui=8.0, est=8.049227416343776, details={'was_impossible': False}), Prediction(uid=nan, iid='Samsung SGH-i520', r_ui=10.0, est=8.052756803013382, details={'was_impossible': False}), Prediction(uid='??????????9924', iid='Samsung GT-C3322', r_ui=10.0, est=8.02411979132286, details={'was_impossible': False}), Prediction(uid='john', iid='Pantech BRAND NEW VERIZON PANTECH BREAKOUT 4G BLACK WIFI 5MP SMARTPHONE (WITHOUT CONTRACT PHONE)', r_ui=10.0, est=7.392848733226909, details={'was_impossible': False}), Prediction(uid='Amazon Customer', iid='Asus Zenfone Max ZC550KL-6A068IN (Black, 2GB, 16GB)', r_ui=8.0, est=7.124217957662226, details={'was_impossible': False}), Prediction(uid='MARISOLVENTASBUENAS', iid='Samsung SGH-E256', r_ui=8.0, est=8.183584971768909, details={'was_impossible': False}), Prediction(uid='John', iid='Huawei Honor 5X Unlocked Smartphone, 16GB Dark Grey (US Warranty)', r_ui=8.0, est=8.220106674452317, details={'was_impossible': False}), Prediction(uid='Antonio Cavallaro', iid='Honor 4X Smartphone 4G, Display 5.5 Pollici, Processore 64-bit Octa-Core Kirin 620, Fotocamera 13 MP, Memoria 8 GB, Android 4.4, Nero', r_ui=10.0, est=8.040285714285714, details={'was_impossible': False}), Prediction(uid='Laulila', iid='Samsung B3410 Handy (QWERTZ-Tastatur, Social-Networking-Dienste, 2MP Kamera) black', r_ui=10.0, est=8.040285714285714, details={'was_impossible': False}), Prediction(uid='Ð“Ð¾Ñ�Ñ‚ÑŒ', iid='Nokia 6700 Classic', r_ui=8.0, est=8.063156578441111, details={'was_impossible': False}), Prediction(uid='djperez13', iid='Nokia 2300', r_ui=8.0, est=8.040285714285714, details={'was_impossible': False}), Prediction(uid='ki', iid='LG Optimus 4X HD P880 Black Factory Unlocked International Version by New Generation Products LLC.,', r_ui=8.0, est=8.040285714285714, details={'was_impossible': False}), Prediction(uid='rdmktn', iid='Samsung (936) S8530 Wave II', r_ui=9.0, est=8.040285714285714, details={'was_impossible': False}), Prediction(uid='Myraleea', iid='HTC Radar C110E Unlocked GSM Phone - White/Silver', r_ui=10.0, est=8.040285714285714, details={'was_impossible': False}), Prediction(uid='Charliers', iid='HTC Desire C Zwart Beats ed.', r_ui=10.0, est=8.040285714285714, details={'was_impossible': False}), Prediction(uid='karlingen', iid='Apple iPhone 4 16GB', r_ui=10.0, est=8.040285714285714, details={'was_impossible': False}), Prediction(uid='Samantha', iid='Samsung Galaxy S3 Neo - Smartphone libre Android (pantalla 4.8\", cÃ¡mara 8 Mp, 16 GB, Quad-Core 1.4 GHz, 1.5 GB RAM), blanco', r_ui=6.0, est=8.040285714285714, details={'was_impossible': False}), Prediction(uid='cathryn gibbs', iid='Vodafone 155 Big Button Easy to use Senior / Pay as you go / Pre-Pay / PAYG / Mobile Phone / SOS button and large easy to read Display - Black', r_ui=10.0, est=8.040285714285714, details={'was_impossible': False}), Prediction(uid='Cable buyer', iid='LG G FLEX LG-F340 Real Round Curved Display smart phone Factory unlocked 6\" screen International Version No Warranty', r_ui=10.0, est=8.040285714285714, details={'was_impossible': False}), Prediction(uid='ÐšÑ�ÐµÐ½Ð¸Ñ�', iid='Sony Xperia Z (Ð±ÐµÐ»Ñ‹Ð¹)', r_ui=9.0, est=8.353236717544874, details={'was_impossible': False}), Prediction(uid='cementfrog ', iid='Samsung Galaxy S III 16GB (Straight Talk)', r_ui=10.0, est=8.199227540558217, details={'was_impossible': False}), Prediction(uid='P. Schneider', iid='Samsung Galaxy Note 3 Smartphone (14,5 cm (5,7 Zoll) AMOLED-Touchscreen, 2,3GHz, Quad-Core, 3GB RAM, 13 Megapixel Kamera, Android 4.3) weiÃŸ/gold', r_ui=2.0, est=8.205965660330541, details={'was_impossible': False}), Prediction(uid='SABELETA', iid='Sonim XP1300 Core', r_ui=10.0, est=8.040285714285714, details={'was_impossible': False}), Prediction(uid='Sabine HÃ¼bner', iid='HTC Hero Smartphone (Android, 5MP Kamera, GPS, WLAN) weiÃŸ', r_ui=10.0, est=7.703649015598413, details={'was_impossible': False}), Prediction(uid='Amazon Customer', iid='HTC Desire 828 Dual SIM 32GB (CDMA/4G + GSM) Pearl White', r_ui=6.0, est=7.393381251049339, details={'was_impossible': False}), Prediction(uid='Anne Shirley', iid='Samsung Galaxy S II 4G Prepaid Android Phone, Titanium (Virgin Mobile)', r_ui=8.0, est=8.040285714285714, details={'was_impossible': False}), Prediction(uid='andrey.malets', iid='Nokia E63', r_ui=10.0, est=8.206578884299846, details={'was_impossible': False}), Prediction(uid='Denzel1', iid='Lenovo K900 (16Gb)', r_ui=10.0, est=8.040285714285714, details={'was_impossible': False}), Prediction(uid='Javier Segura', iid='Sony Xperia X Compact - Unlocked Smartphone - 32GB - Black (US Warranty)', r_ui=10.0, est=7.716669845182283, details={'was_impossible': False}), Prediction(uid='sarah l murray', iid='Apple - Iphone 5c A1532 Verizon 16 GB Cell Phone - Green', r_ui=2.0, est=8.040285714285714, details={'was_impossible': False}), Prediction(uid='Teun', iid='Huawei P8 Lite goud, wit / 16 GB', r_ui=7.0, est=7.945219119744047, details={'was_impossible': False}), Prediction(uid='Amazon Customer', iid='OnePlus 2 (Sandstone Black, 16GB)', r_ui=4.0, est=7.111311479872735, details={'was_impossible': False}), Prediction(uid='Cliente Amazon', iid='Alcatel One Touch 20-04G Telefono Cellulare, Nero', r_ui=8.0, est=9.035255419603061, details={'was_impossible': False}), Prediction(uid='ÐŸÐ¾Ð»ÑŒÐ·Ð¾Ð²Ð°Ñ‚ÐµÐ»ÑŒ Ñ�ÐºÑ€Ñ‹Ð» Ñ�Ð²Ð¾Ð¸ Ð´Ð°Ð½Ð½Ñ‹Ðµ', iid='Microsoft Lumia 950 XL Dual Sim', r_ui=10.0, est=8.205134458449095, details={'was_impossible': False}), Prediction(uid='DJ', iid='Apple iPhone 5s - Smartphone libre iOS (pantalla 4\", cÃ¡mara 8 Mp, 16 GB, Dual-Core 1.3 GHz, 1 GB RAM), dorado', r_ui=8.0, est=8.040285714285714, details={'was_impossible': False}), Prediction(uid='ANGEL', iid='Nokia X3', r_ui=9.0, est=8.20054921499245, details={'was_impossible': False}), Prediction(uid='Claudio68', iid='Honor 7 Smartphone 4G, Display Full HD 5.2 Pollici, Processore Kirin 935 Octa Core 2.2 GHz, 16 GB Memoria Interna, 3 GB RAM, Fotocamera 20 MP, Argento', r_ui=10.0, est=8.19773915263953, details={'was_impossible': False}), Prediction(uid='Kate', iid='Apple iPhone 4S Smartphone (8,9 cm (3,5 Zoll) Touchscreen Display, 8 Megapixel Kamera, 32GB, UMTS, iOS 5) schwarz', r_ui=10.0, est=8.040285714285714, details={'was_impossible': False}), Prediction(uid='Milson Mateus', iid='Smartphone Samsung Galaxy J7 Duos SM-J700M, Octa Core, Android 5.1, Tela 5.5, 16GB, 13MP, 4G, Dourado', r_ui=10.0, est=8.040285714285714, details={'was_impossible': False}), Prediction(uid='scialpi28', iid='Sony C5303 Xperia SP Smartphone, Fotocamera da 8 Megapixel, Bianco [Italia]', r_ui=8.0, est=8.040285714285714, details={'was_impossible': False}), Prediction(uid='Fran??oise', iid='Sony Xperia E Smartphone (8,9 cm (3,5 Zoll) Touchscreen, Qualcomm, 1GHz, 512MB RAM, 4GB HDD, 3,2 Megapixel Kamera, Android 4.1) pink/rot', r_ui=10.0, est=8.040285714285714, details={'was_impossible': False}), Prediction(uid='rowes', iid='Nokia 1200', r_ui=10.0, est=8.040285714285714, details={'was_impossible': False}), Prediction(uid='T. Lange', iid='Huawei P8 Smartphone (5,2 Zoll (13,2 cm) Touch-Display, 16 GB Speicher, Android 5.0) grau', r_ui=2.0, est=8.040285714285714, details={'was_impossible': False}), Prediction(uid='Ujwal', iid='Samsung Galaxy S7', r_ui=10.0, est=7.5532816742647215, details={'was_impossible': False}), Prediction(uid='Tatyana', iid='Samsung S5660 Galaxy Gio', r_ui=8.0, est=8.040285714285714, details={'was_impossible': False}), Prediction(uid='Andrey.78', iid='ZTE Grand Era (V985)', r_ui=4.0, est=8.040285714285714, details={'was_impossible': False}), Prediction(uid='Alberto', iid='Huawei Ascend Mate 7 Premium - Smartphone libre Android (pantalla 6\", cÃ¡mara 13 Mp, 32 GB, 3 GB RAM), dorado', r_ui=8.0, est=8.203495144832202, details={'was_impossible': False}), Prediction(uid=nan, iid='Nokia 2700 Classic', r_ui=10.0, est=7.957506963870479, details={'was_impossible': False}), Prediction(uid='ARDILAC', iid='Motorola V9', r_ui=10.0, est=8.217321925694872, details={'was_impossible': False}), Prediction(uid='Cliente Amazon', iid=\"LG D605 Optimus L9II - Smartphone (11,9 cm (4,7''), pantalla tÃ¡ctil, procesador Dual-Core de 1,4 GHz, cÃ¡mara de 8 Mpx, memoria interna de 8 GB, 1 GB de RAM, Android 4.1)\", r_ui=4.0, est=8.661053555646017, details={'was_impossible': False}), Prediction(uid='orlando guerra', iid='Nokia Lumia 900 16GB Unlocked GSM 4G LTE Windows 7.5 Smartphone w/ 8MP Camera - White', r_ui=10.0, est=8.040285714285714, details={'was_impossible': False}), Prediction(uid='Markus Frey', iid='Samsung â€‹Samsung Galaxy A3 Smartphone (12 cm (4,71 Zoll) HD Super AMOLED Touch-Display, 16 GB, Android 5.1) pink-gold', r_ui=10.0, est=8.040285714285714, details={'was_impossible': False}), Prediction(uid='Abhiraj Prasad', iid='Lenovo Used Lenovo Zuk Z1 (Space Grey, 64GB)', r_ui=10.0, est=6.883599247543481, details={'was_impossible': False}), Prediction(uid='e-bit', iid='Samsung Galaxy S6 SM-G920 32GB', r_ui=4.0, est=8.803800858726696, details={'was_impossible': False}), Prediction(uid='Roberto Vasco', iid='Sony Smartphone Sony Xperia Z3 Compact Desbloqueado Android 4.4 Tela...', r_ui=10.0, est=8.21668641932943, details={'was_impossible': False}), Prediction(uid='Capyto', iid='Motorola RAZR2 V9 Cep Telefonu', r_ui=9.0, est=8.040285714285714, details={'was_impossible': False}), Prediction(uid='Marka4ka', iid='Nokia 5800 XpressMusic', r_ui=8.0, est=8.146475706336465, details={'was_impossible': False}), Prediction(uid='imnod', iid='Nokia 7310 Supernova', r_ui=8.0, est=8.21253615870427, details={'was_impossible': False}), Prediction(uid='ÐšÑƒÐ´Ñ€Ñ�ÑˆÐ¾Ð²Ð° Ð”Ð°Ñ€ÑŒÑ�', iid='Sony Ericsson K550i', r_ui=10.0, est=8.113883192728657, details={'was_impossible': False}), Prediction(uid='gazila162', iid='LG A290', r_ui=10.0, est=8.040285714285714, details={'was_impossible': False}), Prediction(uid='Amazon Customer', iid='Caterpillar B100 UK Sim Free Rugged Mobile Phone', r_ui=2.0, est=7.393381251049339, details={'was_impossible': False}), Prediction(uid='luiz henrique sak...', iid='Smartphone Samsung Galaxy Note 4 SM-N910C', r_ui=10.0, est=8.040285714285714, details={'was_impossible': False}), Prediction(uid='derp', iid='Sony Xperia Z5 Premium E6853 5.5-Inch 4K UHD Display Factory Unlocked (BLACK) - International Stock No Warranty', r_ui=2.0, est=7.54574718503727, details={'was_impossible': False}), Prediction(uid='ManuelK', iid='Motorola M3188', r_ui=6.0, est=8.040285714285714, details={'was_impossible': False}), Prediction(uid=nan, iid='Nokia 6700 classic Gold Edition', r_ui=10.0, est=4.745900167965282, details={'was_impossible': False}), Prediction(uid=nan, iid='Samsung S5830i Galaxy Ace Pure White [Android 2.3, 5-Megapixel-Kamera, GPS-Navigation, Touchwiz]', r_ui=10.0, est=8.052756803013382, details={'was_impossible': False}), Prediction(uid=nan, iid='Samsung Galaxy S scLCD GT-I9003', r_ui=10.0, est=8.155523892368866, details={'was_impossible': False}), Prediction(uid='enes', iid='HTC (187) Desire C', r_ui=9.0, est=8.040285714285714, details={'was_impossible': False}), Prediction(uid=nan, iid='Siemens A75', r_ui=6.0, est=8.052756803013382, details={'was_impossible': False}), Prediction(uid='Edessa!', iid='Sony Ericsson W580', r_ui=9.0, est=8.122355230223988, details={'was_impossible': False}), Prediction(uid='lwswy', iid='Samsung Star II DUOS GT-C6712', r_ui=6.0, est=8.040285714285714, details={'was_impossible': False}), Prediction(uid='nht', iid='LG G2 D802 32GB White', r_ui=10.0, est=8.040285714285714, details={'was_impossible': False}), Prediction(uid='kasturi birje', iid='Lenovo Vibe P1 Turbo (Sliver)', r_ui=4.0, est=8.040285714285714, details={'was_impossible': False}), Prediction(uid='hansdarajib7', iid='Samsung Guru E1200', r_ui=10.0, est=8.040285714285714, details={'was_impossible': False}), Prediction(uid='Juan Carlos N. Cliente Amazon', iid='Meizu M2 Note - Smartphone libre Flyme (pantalla de 5.5\", cÃ¡mara de 13 Mp, 16 GB, Octa-Core de 1.3 GHz, 2 GB RAM), gris', r_ui=6.0, est=8.220032097373748, details={'was_impossible': False}), Prediction(uid='GOGO ELECTRONICS', iid='Samsung P850', r_ui=8.0, est=8.040285714285714, details={'was_impossible': False}), Prediction(uid='Ð‘Ð°ÐºÐ°Ð½Ð¾Ð² Ð�Ð»ÐµÐºÑ�ÐµÐ¹', iid='HTC One SV', r_ui=10.0, est=8.040285714285714, details={'was_impossible': False}), Prediction(uid='Laura G.', iid='Asus Zenfone 2 Laser (ZE550KL) - Smartphone libre Android (pantalla 5.5\", cÃ¡mara 13 Mp, 16 GB, Quad-Core 1.2 GHz, 2 GB RAM, dual SIM), blanco', r_ui=8.0, est=8.040285714285714, details={'was_impossible': False}), Prediction(uid='RomarioD', iid='LG P705 Optimus L7', r_ui=10.0, est=8.040285714285714, details={'was_impossible': False}), Prediction(uid='The S6', iid='Samsung Galaxy S6 zwart / 32 GB', r_ui=10.0, est=8.331799664842698, details={'was_impossible': False}), Prediction(uid='Lucqbecks', iid='Motorola KRAVE ZN4 Cell Phone(Verizon Wireless) No Contract', r_ui=2.0, est=8.040285714285714, details={'was_impossible': False}), Prediction(uid='garde', iid='Asus ZenFone 2 Laser 5.5\" Smartphone, 16 GB, Dual SIM, Nero [Italia]', r_ui=2.0, est=7.818604632105187, details={'was_impossible': False}), Prediction(uid='Erkek', iid='Samsung Galaxy Ace S5830i ( 2 GB HafÄ±za KartÄ± Hediye )', r_ui=8.0, est=8.040285714285714, details={'was_impossible': False}), Prediction(uid='Kosmachevskiy Nikita', iid='Sony Xperia Z1 Compact', r_ui=10.0, est=8.214327191452131, details={'was_impossible': False}), Prediction(uid='Sajmon', iid='LG P970 Optimus Black', r_ui=10.0, est=8.035402153589644, details={'was_impossible': False}), Prediction(uid='jose carlos garcia garcia', iid='LG Optimus L5 - Smartphone libre Android (pantalla t??ctil de 4\") color negro [Importado de Alemania]', r_ui=6.0, est=8.040285714285714, details={'was_impossible': False}), Prediction(uid='Sergio Sanchez', iid='HTC Vivid X710a 16GB Unlocked GSM Android Dual-Core Smartphone - White (No Warranty)', r_ui=10.0, est=8.040285714285714, details={'was_impossible': False}), Prediction(uid='Amazon Customer', iid='Lenovo Zuk Z1 (White, Cyanogen OS)', r_ui=4.0, est=6.174278880410771, details={'was_impossible': False}), Prediction(uid='optimusblackisthenewblack ', iid='LG P970', r_ui=10.0, est=8.040285714285714, details={'was_impossible': False}), Prediction(uid='Cristian', iid='Alcatel One Touch Pop C3 Smartphone, Dual SIM, 4 GB, Nero [Italia]', r_ui=6.0, est=8.047338836623142, details={'was_impossible': False}), Prediction(uid=nan, iid='Nokia 5800 XpressMusic', r_ui=8.0, est=9.512582717232835, details={'was_impossible': False}), Prediction(uid='Linda', iid='Samsung Galaxy S5 Mini G800H Unlocked Cellphone, International Version, 16GB, White', r_ui=10.0, est=8.040285714285714, details={'was_impossible': False}), Prediction(uid=nan, iid='Nokia 5310 XpressMusic', r_ui=6.0, est=7.046914734851215, details={'was_impossible': False}), Prediction(uid='Amazon Customer', iid='Lenovo Vibe K4 Note (Black, 16GB)', r_ui=6.0, est=6.1761739486320835, details={'was_impossible': False}), Prediction(uid='Danny', iid='HTC Desire 516 Wit', r_ui=9.0, est=8.040285714285714, details={'was_impossible': False}), Prediction(uid='DP', iid='Samsung Galaxy S III i9300 Smartphone 16 GB (12,2 cm (4,8 Zoll) HD Super-AMOLED-Touchscreen, 8 Megapixel Kamera, Micro-SIM, Android 4.0) schwarz', r_ui=8.0, est=7.772342204725561, details={'was_impossible': False}), Prediction(uid='roshantp', iid='OnePlus X (Onyx, 16GB)', r_ui=8.0, est=8.171468402648546, details={'was_impossible': False}), Prediction(uid='Monika', iid='Samsung Galaxy S5 Neo', r_ui=10.0, est=8.040285714285714, details={'was_impossible': False}), Prediction(uid='miguell andres', iid='BlackBerry 9100 Pearl 3G Unlocked Phone with 3 MP Camera, Wi-Fi, Bluetooth, Optical Trackpad and GPS No Warranty Black', r_ui=10.0, est=8.040285714285714, details={'was_impossible': False}), Prediction(uid=nan, iid='Nokia 6303 Classic', r_ui=10.0, est=8.128613788281914, details={'was_impossible': False}), Prediction(uid='Anand Ramakrishnan', iid='Samsung Galaxy Note 4 4G SIM-Free Smartphone - Black', r_ui=10.0, est=8.202606034494034, details={'was_impossible': False}), Prediction(uid='Pavel, Praha 9', iid='Lenovo VIBE P1m Onyx Black Dual SIM', r_ui=8.0, est=8.040285714285714, details={'was_impossible': False}), Prediction(uid='abraxassa', iid='Sony Ericsson Vivaz', r_ui=6.0, est=7.758338206776317, details={'was_impossible': False}), Prediction(uid='Georgia', iid='Samsung B2100 Solid Extreme Sim Free Mobile Phone - Black', r_ui=8.0, est=8.040285714285714, details={'was_impossible': False}), Prediction(uid='Ð�Ð¸ÐºÐ¾Ð»Ð°Ð¹', iid='Sony Xperia M (Ð±ÐµÐ»Ñ‹Ð¹)', r_ui=10.0, est=8.333500831035867, details={'was_impossible': False}), Prediction(uid='Linda Z', iid='Apple iPhone 4 8GB (Black) - AT&T', r_ui=2.0, est=8.040285714285714, details={'was_impossible': False}), Prediction(uid='bimbetta_87', iid='Motorola W220', r_ui=10.0, est=8.040285714285714, details={'was_impossible': False}), Prediction(uid='tolsty2010', iid='Nokia 6303 Classic', r_ui=10.0, est=8.032656411457989, details={'was_impossible': False}), Prediction(uid='Jeffrey Young', iid='LG enV Touch', r_ui=10.0, est=8.040285714285714, details={'was_impossible': False}), Prediction(uid='mikerev', iid='Nokia E63', r_ui=8.0, est=8.206578884299846, details={'was_impossible': False}), Prediction(uid='Jan', iid='Huawei P8lite zwart / 16 GB', r_ui=9.0, est=8.19332762420382, details={'was_impossible': False}), Prediction(uid='Carl G.', iid='Huawei Honor 5X Unlocked Smartphone, 16GB Dark Grey (US Warranty)', r_ui=10.0, est=8.049400568799625, details={'was_impossible': False}), Prediction(uid='Cliente Amazon', iid='Asus ZenFone Go 5\" Smartphone, 8 GB, Dual SIM, Nero [Italia]', r_ui=10.0, est=8.661053555646017, details={'was_impossible': False}), Prediction(uid='Keshia F.', iid='Motorola Moto E (Verizon LTE Prepaid)', r_ui=2.0, est=8.040285714285714, details={'was_impossible': False}), Prediction(uid='Theresa C.', iid='HTC ONE M7 for AT & T - limited edition Blue', r_ui=10.0, est=8.040285714285714, details={'was_impossible': False}), Prediction(uid=nan, iid='Nokia 105', r_ui=8.0, est=8.052756803013382, details={'was_impossible': False}), Prediction(uid='Ð“Ð¾Ñ�Ñ‚ÑŒ', iid='Nokia 5800', r_ui=8.0, est=9.3436792700722, details={'was_impossible': False}), Prediction(uid='ÐžÐ»ÐµÐ³', iid='Sony Xperia Z Ultra C6802 White', r_ui=10.0, est=8.194746061831875, details={'was_impossible': False}), Prediction(uid='giselle best', iid='Caterpillar CAT B15Q Dual Sim, 4GB, IP67, Factory Unlocked, US Warranty (Black)', r_ui=2.0, est=8.040285714285714, details={'was_impossible': False}), Prediction(uid='robert andrews', iid='Alcatel 382G \"The Big Easy\" Prepaid Phone With Double Minutes (Tracfone)', r_ui=10.0, est=8.040285714285714, details={'was_impossible': False}), Prediction(uid='Fernsteuerung', iid='Nokia 2680 Slide', r_ui=10.0, est=8.040285714285714, details={'was_impossible': False}), Prediction(uid='Vijayendra K.', iid='Apple iPhone 6s (Gold, 64GB)', r_ui=2.0, est=8.040285714285714, details={'was_impossible': False}), Prediction(uid='Amazon Kunde', iid='Samsung Galaxy S4 mini Smartphone (10,8 cm (4,3 Zoll) Touch-Display, 8 GB Speicher, Android 4.4) schwarz', r_ui=10.0, est=3.9270545724531987, details={'was_impossible': False}), Prediction(uid='m_und_m', iid='Nokia 6650', r_ui=8.0, est=8.040285714285714, details={'was_impossible': False}), Prediction(uid='Ð•Ð²Ð° Ð‘Ð°Ð»ÑŒÐ·Ð°Ðº', iid='ZTE ÐœÐ¾Ð±Ð¸Ð»ÑŒÐ½Ñ‹Ð¹ Ñ‚ÐµÐ»ÐµÑ„Ð¾Ð½ ZTE Blade V7 lite', r_ui=6.0, est=8.040285714285714, details={'was_impossible': False}), Prediction(uid='ALESSANDRO CORTI', iid='Lenovo Motorola Moto G Smartphone, Display HD 4,5\", Processore Qualcomm, Memoria 8 GB, MicroSIM, Android 4.4 OS, Fotocamera da 5 MP, Nero [Germania]', r_ui=10.0, est=8.040285714285714, details={'was_impossible': False}), Prediction(uid=nan, iid='Nokia 1650', r_ui=9.0, est=8.052756803013382, details={'was_impossible': False}), Prediction(uid='mostyle', iid='Apple iPhone 3GS 32Gb', r_ui=10.0, est=8.040285714285714, details={'was_impossible': False}), Prediction(uid='giovanni', iid='Asus ZenFone Go 5\" Smartphone, 8 GB, Dual SIM, Bianco [Italia]', r_ui=6.0, est=8.040285714285714, details={'was_impossible': False}), Prediction(uid='Rami Vaan', iid='Huawei Honor 7 Lite Dual-SIM â€�Android-puhelin, kulta', r_ui=10.0, est=8.040285714285714, details={'was_impossible': False}), Prediction(uid=nan, iid='Siemens Bus. Serv., M?nch S45 Handy silber', r_ui=10.0, est=8.052756803013382, details={'was_impossible': False}), Prediction(uid='Aeron', iid='Motorola Flipout Unlocked GSM Quad-Band Android Phone with Bluetooth, Camera, QWERTY Keyboard and Wi-Fi - Unlocked Phone - US Warranty - Black', r_ui=8.0, est=8.040285714285714, details={'was_impossible': False}), Prediction(uid='Miluna1955', iid='APPLE iPhone 5S 64 Go - Or - ReconditionnÃ©', r_ui=10.0, est=8.040285714285714, details={'was_impossible': False}), Prediction(uid='Lee', iid='Sim Free Motorola Moto G 4th Generation Mobile Phone - Black', r_ui=8.0, est=8.040285714285714, details={'was_impossible': False}), Prediction(uid='barbhara', iid='LG T375 Cookie Smart', r_ui=4.0, est=8.040285714285714, details={'was_impossible': False}), Prediction(uid='twity87', iid='Samsung Wave 533 S5330 Smartphone (8,1 cm (3,2 Zoll) Display, Touchscreen, 3,2 Megapixel Kamera) schwarz', r_ui=8.0, est=8.040285714285714, details={'was_impossible': False}), Prediction(uid='[NAMN]', iid='Samsung Galaxy S II', r_ui=10.0, est=7.872737897644972, details={'was_impossible': False}), Prediction(uid='dudl', iid='LG KM900', r_ui=4.0, est=8.040285714285714, details={'was_impossible': False}), Prediction(uid='BARBARA', iid='Siemens CX65', r_ui=9.0, est=8.040285714285714, details={'was_impossible': False}), Prediction(uid='Paul Rose Fun Ltd \"tube geek\"', iid='GALAXY GRAND DUOS (White)', r_ui=10.0, est=8.040285714285714, details={'was_impossible': False}), Prediction(uid='magogen', iid='Huawei Ascend G610 Smartphone, Dual SIM, 4 GB, Nero', r_ui=10.0, est=8.040285714285714, details={'was_impossible': False}), Prediction(uid='Ð�Ð½Ñ‚Ð¾Ð½Ð¾Ð² Ð®Ñ€Ð¸Ð¹', iid='Huawei Ascend W2', r_ui=10.0, est=8.040285714285714, details={'was_impossible': False}), Prediction(uid='JOSEP', iid='Sony Xperia ZL LTE - Smartphone libre (pantalla tÃ¡ctil de 5\", Quad Core a 1.5 GHz, 2 GB de RAM, 16 GB HDD, cÃ¡mara de 13 Mp, Android 4.1), color blanco', r_ui=8.0, est=8.040285714285714, details={'was_impossible': False}), Prediction(uid='Suman M.', iid='Samsung Galaxy E7 (Black, 16GB)', r_ui=8.0, est=8.040285714285714, details={'was_impossible': False}), Prediction(uid='Stimpi \"Stimpi\"', iid='Nokia LD-3W Bluetooth GPS Modul', r_ui=8.0, est=8.040285714285714, details={'was_impossible': False}), Prediction(uid='_', iid='Sony Xperia Z1 Smartphone (5 Zoll (12,7 cm) Touch-Display, 16 GB Speicher, Android 4.2) weiÃŸ', r_ui=10.0, est=8.039216626208807, details={'was_impossible': False}), Prediction(uid='Matteo', iid='Huawei P8 Lite Smartphone, Display 5\" IPS, Processore Octa-Core 1.2 GHz, Memoria Interna da 16 GB, 2 GB RAM, Fotocamera 13 MP, monoSIM, Android 5.0, Nero [Italia]', r_ui=10.0, est=8.061801595132778, details={'was_impossible': False}), Prediction(uid='donna calli', iid='Samsung Galaxy Appeal I827 AT&T GSM Android Smartphone - Silver', r_ui=6.0, est=8.040285714285714, details={'was_impossible': False}), Prediction(uid='Vinge', iid='Samsung GALAXY S II', r_ui=10.0, est=8.040285714285714, details={'was_impossible': False}), Prediction(uid=nan, iid='Nokia N73 Music Edition', r_ui=2.0, est=8.433376089784256, details={'was_impossible': False}), Prediction(uid='Trenton Yates', iid='Samsung Galaxy S6 G920F 32GB Factory Unlocked GSM 4G LTE Octa-Core Smartphone - Blue Topaz', r_ui=10.0, est=8.040285714285714, details={'was_impossible': False}), Prediction(uid='Savin', iid='Sony Ericsson W595', r_ui=9.0, est=8.31180235086414, details={'was_impossible': False}), Prediction(uid='coopertennent ', iid='Samsung Galaxy S7 edge 32GB (Sprint)', r_ui=10.0, est=8.040285714285714, details={'was_impossible': False}), Prediction(uid='mememan', iid='Nokia 105 SIM-Free Mobile Phone, Black', r_ui=10.0, est=8.040285714285714, details={'was_impossible': False}), Prediction(uid='S.C.C', iid='Samsung SGH-D500', r_ui=10.0, est=8.040285714285714, details={'was_impossible': False}), Prediction(uid='El', iid='Huawei P8 Lite Smartphone, Display 5\" IPS, Processore Octa-Core 1.5 GHz, Memoria Interna da 16 GB, 2 GB RAM, Fotocamera 13 MP, monoSIM, Android 5.0, Bianco [Italia]', r_ui=10.0, est=8.523814533135887, details={'was_impossible': False}), Prediction(uid='Luis', iid='Asus Zenfone 2 (ZE551ML) - Smartphone libre Android (pantalla 5.5\", cÃ¡mara 13 Mp, 32 GB, Quad-Core 2.3 GHz, 4 GB RAM, dual SIM), negro', r_ui=8.0, est=8.228737950695539, details={'was_impossible': False}), Prediction(uid='Selection_B', iid='Siemens CX65', r_ui=10.0, est=8.040285714285714, details={'was_impossible': False}), Prediction(uid='orchidia', iid='Sony Ericsson K320i', r_ui=8.0, est=8.040285714285714, details={'was_impossible': False}), Prediction(uid='David Malave', iid='Motorola Nexus 6 Unlocked Smartphone, 32 GB, U. S. Warranty - Midnight Blue', r_ui=10.0, est=8.341545100477894, details={'was_impossible': False}), Prediction(uid='Amazon Customer', iid='OnePlus X (Onyx, 16GB)', r_ui=8.0, est=7.3613938937289225, details={'was_impossible': False}), Prediction(uid='KLEBERSURF', iid='LG GX200', r_ui=6.0, est=8.161454175639895, details={'was_impossible': False}), Prediction(uid='nickywillson', iid='Siemens M35i', r_ui=10.0, est=8.359119679893736, details={'was_impossible': False}), Prediction(uid='Elettrozz', iid='Lenovo Motorola Moto X Play Smartphone, 5.5\", Fotocamera 21 MP, 16 GB, RAM 2 GB, Android 5.1.1 Lollipop, Nero [Italia]', r_ui=10.0, est=8.040285714285714, details={'was_impossible': False}), Prediction(uid='Glenn1977 ', iid='Samsung Galaxy S7 edge 32GB (AT&T)', r_ui=10.0, est=8.171333762295488, details={'was_impossible': False}), Prediction(uid='Pam W.', iid='Nokia E72 Black 3G GSM Unlocked Smart Phone with 5.0 MP Camera', r_ui=10.0, est=8.040285714285714, details={'was_impossible': False}), Prediction(uid='Lavric Constantin', iid='Sony Xperia Z5 Compact Smartphone (4,6 Zoll (11,7 cm) Touch-Display, 32 GB interner Speicher, Android 5.1) gelb', r_ui=10.0, est=7.877413596700186, details={'was_impossible': False}), Prediction(uid='Oscar Diaz', iid='ZTE Axon 7 Unlocked Smartphone,64GB Ion Gold (US Warranty)', r_ui=6.0, est=7.727015302182588, details={'was_impossible': False}), Prediction(uid='Jeriel Raja Gladson', iid='Sony Xperia M5 E5663 16GB 4G LTE White 5\" Dual Sim, 3GB Ram, Unlocked International Model, No Warranty', r_ui=2.0, est=8.040285714285714, details={'was_impossible': False}), Prediction(uid='Dren', iid='SonyEricsson Live Walkman', r_ui=4.0, est=8.040285714285714, details={'was_impossible': False}), Prediction(uid='quevedo14', iid='Sony XPERIA Z1 Compact', r_ui=2.0, est=8.040285714285714, details={'was_impossible': False}), Prediction(uid='Amazon Customer', iid='Lenovo Vibe K4 Note (Black, 16GB)', r_ui=2.0, est=6.1761739486320835, details={'was_impossible': False}), Prediction(uid='sadiq', iid='Apple iPhone 5c 8GB White Smartphone Vodafone Network', r_ui=10.0, est=8.040285714285714, details={'was_impossible': False}), Prediction(uid='Susanta Mallick', iid='Nokia 130 (Dual SIM, White)', r_ui=2.0, est=7.875014631220278, details={'was_impossible': False}), Prediction(uid='Jambojohn', iid='Sim Free Apple iPhone 6s 32GB Mobile Phone - Rose Gold', r_ui=8.0, est=8.040285714285714, details={'was_impossible': False}), Prediction(uid='WarrenG', iid='Samsung SGH V200', r_ui=8.0, est=8.040285714285714, details={'was_impossible': False}), Prediction(uid='jodeath619', iid='Nokia 6300 cellphone', r_ui=9.0, est=8.040285714285714, details={'was_impossible': False}), Prediction(uid='Mike Cary', iid='HTC EVO V 4G Prepaid Android Phone (Virgin Mobile)', r_ui=10.0, est=8.040285714285714, details={'was_impossible': False}), Prediction(uid='madine', iid='SAMSUNG Galaxy Ace Blanc', r_ui=9.0, est=8.040285714285714, details={'was_impossible': False}), Prediction(uid='komodo478', iid='Samsung SGH D500', r_ui=10.0, est=8.040285714285714, details={'was_impossible': False}), Prediction(uid='Edo', iid='Telit GM 410', r_ui=8.0, est=8.040285714285714, details={'was_impossible': False}), Prediction(uid='e-bit', iid='Smartphone Motorola Moto E XT1021', r_ui=10.0, est=8.803800858726696, details={'was_impossible': False}), Prediction(uid='VenÃ¢ncio', iid='Samsung Galaxy S III mini', r_ui=8.0, est=8.040285714285714, details={'was_impossible': False}), Prediction(uid='Richard H.', iid='Samsung Galaxy Y S5360 Black WiFi Android TouchScreen 3G Cell Phone', r_ui=6.0, est=8.040285714285714, details={'was_impossible': False}), Prediction(uid='LÃ¤tkÃ¤-Pappa ', iid='Apple iPhone 6 Plus 5,5\" 128 Gt (lukitsematon), hopea', r_ui=10.0, est=8.040285714285714, details={'was_impossible': False}), Prediction(uid='Ritika Malhotra', iid='Sony Xperia Miro Mobile - Black', r_ui=10.0, est=8.040285714285714, details={'was_impossible': False}), Prediction(uid='wsy', iid='LG G3 D855 Cellphone, Asia Version, 32GB, White', r_ui=4.0, est=8.040285714285714, details={'was_impossible': False}), Prediction(uid='Ð›ÑŽÐ±Ð¾Ð²ÑŒ', iid='Samsung N7100 Galaxy Note II 16GB (Ð±ÐµÐ»Ñ‹Ð¹)', r_ui=9.0, est=8.040285714285714, details={'was_impossible': False}), Prediction(uid='Faizan', iid='OnePlus 3 (Soft Gold, 64 GB)', r_ui=10.0, est=8.13059427450604, details={'was_impossible': False}), Prediction(uid='roma_trip', iid='ZTE Blade', r_ui=6.0, est=8.040285714285714, details={'was_impossible': False}), Prediction(uid='lindylinda', iid='Samsung Smartphone Dual Chip Samsung Galaxy Young Duos Branco com TV Desbloqueado Android 4.1 Tela 3.2 CÃ¢mera 3MP 3G Wi-Fi GPS', r_ui=10.0, est=8.040285714285714, details={'was_impossible': False}), Prediction(uid=nan, iid='Nokia 7230', r_ui=10.0, est=8.052756803013382, details={'was_impossible': False}), Prediction(uid='qdv206', iid='BLU Dash 4.0 D270a Unlocked Dual SIM Phone with Dual-Core 1GHz Processor, Android 4.0 ICS, 3G HSPA, and High Res LCD Screen - U.S. Warranty (Black)', r_ui=10.0, est=8.040285714285714, details={'was_impossible': False}), Prediction(uid='sarahsuzu', iid='Ecouteur Casque Oreillette cable Blanc Origine SAMSUNG Control Volume GT-i9505 / GT-i9500 Galaxy S4', r_ui=10.0, est=8.040285714285714, details={'was_impossible': False}), Prediction(uid='Amazon Customer', iid='Lenovo Vibe K5 (Gold, VoLTE update)', r_ui=10.0, est=2.3455925913137357, details={'was_impossible': False}), Prediction(uid='nastyafet', iid='Nokia X3', r_ui=10.0, est=8.20054921499245, details={'was_impossible': False}), Prediction(uid='Seah K', iid='Huawei P8 Champagne / 16 GB - Overzicht', r_ui=9.0, est=8.127024110981859, details={'was_impossible': False}), Prediction(uid='pacod', iid='Samsung Galaxy S7 Edge goud / 32 GB', r_ui=10.0, est=8.040285714285714, details={'was_impossible': False}), Prediction(uid='Emma', iid='LG G2 Mini D620R 8GB 4G LTE Unlocked GSM Android Quad-Core Smartphone - White - International Version No Warranty', r_ui=10.0, est=8.040285714285714, details={'was_impossible': False}), Prediction(uid='Helde', iid='LG Smartphone LG OpTimus L7 II Desbloqueado Tim Android 4.1 Tela...', r_ui=2.0, est=8.040285714285714, details={'was_impossible': False}), Prediction(uid='Amazon Customer \"forevercurious\"', iid='CT-Miami LLC BLU Vivo 4.3 D910a Unlocked Phone with 4.3-Inch Super AMOLED Plus Display, Dual SIM 3G 850/1900, Dual Core 1GHz...', r_ui=4.0, est=8.040285714285714, details={'was_impossible': False}), Prediction(uid='Hans RÃ¶mer', iid='Samsung Galaxy S III i9300 Smartphone (4,8 Zoll (12,2 cm) Touch-Display, 16 GB Speicher, Android 4.0) pebble-blue', r_ui=8.0, est=8.202379852126153, details={'was_impossible': False}), Prediction(uid='jeanette krebs', iid='Apple iPhone 5 16GB Verizon Wireless CDMA 4G LTE Cell Phone - White', r_ui=2.0, est=7.54558633607499, details={'was_impossible': False}), Prediction(uid='L4NCASTER', iid='Nokia N95', r_ui=10.0, est=8.720316795229666, details={'was_impossible': False}), Prediction(uid='Amazon Customer', iid='Samsung Galaxy Note 3, Black 32GB (Verizon Wireless)', r_ui=10.0, est=7.393381251049339, details={'was_impossible': False}), Prediction(uid='reviewking123', iid='LG G Flex D955', r_ui=8.0, est=8.040285714285714, details={'was_impossible': False}), Prediction(uid='T. Winking', iid='Sony Ericsson P1i silver-black Handy', r_ui=4.0, est=8.040285714285714, details={'was_impossible': False}), Prediction(uid='Alessandro', iid='Huawei P8 lite Smartphone, Display 5.0\" IPS, Dual Sim, Processore Octa-Core, Memoria 16 GB, Fotocamera 13 MP, Android 5.0, Bianco', r_ui=8.0, est=7.214795170629932, details={'was_impossible': False}), Prediction(uid='fabio', iid='Huawei G8, Smartphone, Display Touch 5.5 pollici (13.97cm), 32 GB Memoria Interna, 3 GB RAM, 4G, Android 5.1, Dual SIM, Oro', r_ui=8.0, est=8.040285714285714, details={'was_impossible': False}), Prediction(uid='Bruna Cocco', iid='Nokia C2-03 golden white dual sim', r_ui=10.0, est=8.036295570594753, details={'was_impossible': False}), Prediction(uid='KARYSANG', iid='BlackBerry Curve 8320', r_ui=4.0, est=8.040285714285714, details={'was_impossible': False}), Prediction(uid='Ð”ÑƒÐ±Ñ€Ð¾Ð²Ñ�ÐºÐ¸Ð¹ Ð‘Ð¾Ñ€Ð¸Ñ�', iid='Nokia 100', r_ui=2.0, est=8.040285714285714, details={'was_impossible': False}), Prediction(uid='Nicole G.', iid='Samsung S5230 Star Smartphone (Touchscreen, 3MP Kamera, Video, MP3-Player, Bluetooth) [EU-Version] noble-black', r_ui=6.0, est=8.039239424754138, details={'was_impossible': False}), Prediction(uid='roheel131', iid='LG G4 H815 5.5-Inch Factory Unlocked Smartphone (Metallic Gold) - International Stock (No Warranty)', r_ui=10.0, est=7.081452930181743, details={'was_impossible': False}), Prediction(uid='prinzeri', iid='Alcatel One Touch Easy db', r_ui=4.0, est=7.706287821500376, details={'was_impossible': False}), Prediction(uid='Ð°ÐºÑ�Ð¸Ð½ÑŒÑ�-ÐºÑ�ÑŽ', iid='Apple iPhone 3GS', r_ui=10.0, est=8.196190163642738, details={'was_impossible': False}), Prediction(uid='Maustier', iid='HTC Desire 310 Smartphone (11,4 cm (4,5 Zoll) FWVGA Display, Quad-Core, 1,3GHz, 1GB RAM, 5 Megapixel Kamera, Android 4.2) orange', r_ui=10.0, est=8.040285714285714, details={'was_impossible': False}), Prediction(uid='joÃ£Â£o vitor araÃ£Âºjo', iid='Smartphone Asus ZenFone 3 ZE552KL', r_ui=10.0, est=8.040285714285714, details={'was_impossible': False}), Prediction(uid='colombo', iid='Verizon LG VX9900 enV No Contract MP3 QWERTY Camera Phone Orange', r_ui=8.0, est=8.040285714285714, details={'was_impossible': False}), Prediction(uid='Franklin Martinez', iid='Nokia Lumia 520 GSM Unlock 3G Phone, 4-Inch Touch Screen, 5MP 720P Camera, Windows Phone (Black)', r_ui=8.0, est=8.337973413988975, details={'was_impossible': False}), Prediction(uid='e22888 ', iid='LG G3 D855', r_ui=10.0, est=8.587723883117988, details={'was_impossible': False}), Prediction(uid='Krista Treaster', iid='Nokia Lumia 635 (AT&T Go Phone) No Annual Contract', r_ui=4.0, est=7.870997322931937, details={'was_impossible': False}), Prediction(uid='LucÃ\\xada', iid='HTC Wildfire S - Smartphone libre Android (pantalla tÃ¡ctil de 3,2\" 320 x 480, 512 MB de capacidad, procesador de 600 MHz) color blanco (weiÃŸ/silber) [importado de Alemania]', r_ui=8.0, est=8.040285714285714, details={'was_impossible': False}), Prediction(uid='Fabio', iid='Microsoft Lumia 950 Smartphone, 32 GB, Nero [Italia]', r_ui=8.0, est=8.040285714285714, details={'was_impossible': False}), Prediction(uid='Stratulat Carmen', iid='BlackBerry Z10 Smartphone, Display da 4.2 Pollici, Touchscreen, Fotocamera 8 Megapixel, Memoria Ampliabile 16 GB, 4G LTE, Bianco [Germania]', r_ui=10.0, est=8.040285714285714, details={'was_impossible': False}), Prediction(uid='Emiliano77', iid='Nokia N900 Unlocked Phone/Mobile Computer with 3.5-Inch Touchscreen, QWERTY, 5 MP Camera, Maemo Browser, 32 GB - U.S. Version with Full Warranty', r_ui=6.0, est=8.040285714285714, details={'was_impossible': False}), Prediction(uid='Afonso Maria Nodari', iid='Smartphone Samsung Galaxy S3 Neo Duos I9300I Desbloqueado Branco', r_ui=9.0, est=8.040285714285714, details={'was_impossible': False}), Prediction(uid='Anwar Sheikh', iid='Micromax YU YU Yureka Plus,(Moondust Grey)', r_ui=10.0, est=8.040285714285714, details={'was_impossible': False}), Prediction(uid='Cliente Amazon', iid='Microsoft Lumia 650 Smartphone da 16GB, Bianco [Italia]', r_ui=8.0, est=9.788175275273158, details={'was_impossible': False}), Prediction(uid='???????€?????? ??????????????', iid='Nokia X Dual sim', r_ui=8.0, est=7.545812677101505, details={'was_impossible': False}), Prediction(uid='AnÃ\\xadbal HernÃ¡ndez del Valle', iid='Apple iPhone 6s 128GB 4G Rosa - Smartphone (SIM Ãºnica, iOS, NanoSIM, EDGE, GSM, DC-HSDPA, HSPA+, TD-SCDMA, UMTS, LTE) (IMPORTADO)', r_ui=10.0, est=8.040285714285714, details={'was_impossible': False}), Prediction(uid='Ð¢Ð°Ñ‚ÑŒÑ�Ð½Ð°', iid='Samsung N7100 Galaxy Note II 16GB (Ñ�ÐµÑ€Ñ‹Ð¹)', r_ui=10.0, est=8.110841654692027, details={'was_impossible': False}), Prediction(uid='GH', iid='Nokia A00017885 220 DS Dual-SIM Handy (6,1 cm (2,4 Zoll) Display, 2 Megapixel Kamera, Micro-USB, Bluetooth 3.0) gelb', r_ui=10.0, est=8.040285714285714, details={'was_impossible': False}), Prediction(uid='ecureuiletco', iid='HTC Sensation XE with Beats Audio', r_ui=2.0, est=8.040285714285714, details={'was_impossible': False}), Prediction(uid='Ð�Ð»ÐµÐºÑ�Ð°Ð½Ð´Ñ€', iid='Ð¡Ð¼Ð°Ñ€Ñ‚Ñ„Ð¾Ð½ Samsung I9190 S4 mini SS Black', r_ui=10.0, est=8.311792049677752, details={'was_impossible': False}), Prediction(uid=nan, iid='Samsung S3650 Corby', r_ui=10.0, est=8.052756803013382, details={'was_impossible': False}), Prediction(uid='werner duske', iid='Apple iPhone 5S Gold 64GB SIM-Free Smartphone (Zertifiziert und GeneralÃ¼berholt)', r_ui=10.0, est=8.2011570404507, details={'was_impossible': False}), Prediction(uid='Maurizo Vernocchi', iid='ZTE Blade V7 lite Smartphone, sbloccato senza contratto, Grigio', r_ui=8.0, est=8.040285714285714, details={'was_impossible': False}), Prediction(uid='Walter23', iid='Nokia N97', r_ui=8.0, est=8.000987357786029, details={'was_impossible': False}), Prediction(uid='KHCK512', iid='ZTE Axon 7 Mini - Factory Unlocked Phone - (Platinum Grey)', r_ui=10.0, est=8.040285714285714, details={'was_impossible': False}), Prediction(uid='ÐœÐ°Ñ€ÐºÐµÐ»Ð¾Ð² Ð’Ð°Ð´Ð¸Ð¼ ÐžÐ»ÐµÐ³Ð¾Ð²Ð¸Ñ‡', iid='Nokia 5800', r_ui=8.0, est=8.79009382951801, details={'was_impossible': False}), Prediction(uid='rocky', iid='Apple iPhone 7 Plus, 32Gb - Rose Gold', r_ui=10.0, est=8.040285714285714, details={'was_impossible': False}), Prediction(uid='ALUMINIOTORIZ', iid='Samsung SGH-T219', r_ui=6.0, est=8.040285714285714, details={'was_impossible': False}), Prediction(uid='morgan', iid='ZTE Zinger Black - No Contract (T-Mobile)', r_ui=4.0, est=8.040285714285714, details={'was_impossible': False}), Prediction(uid=nan, iid='Nokia 5800 XpressMusic', r_ui=8.0, est=9.512582717232835, details={'was_impossible': False}), Prediction(uid='MrYamakasi', iid='Apple iPhone 5 16GB', r_ui=10.0, est=8.040092157285002, details={'was_impossible': False}), Prediction(uid='lazyturtle', iid='Nokia E71 Unlocked Smartphone Business Edition, Quad Band, Wi-Fi, Infrared, Bluetooth (Gray)', r_ui=8.0, est=8.040285714285714, details={'was_impossible': False}), Prediction(uid='MARCELA HIDROBO', iid='Samsung Galaxy S3 Mini GT-i8200 Unlocked Cellphone, International Version, Retail Packaging, Blue', r_ui=10.0, est=8.040285714285714, details={'was_impossible': False}), Prediction(uid='SP', iid='Mi 4i (White, 16GB)', r_ui=8.0, est=8.209383549430827, details={'was_impossible': False}), Prediction(uid='coco_lele', iid='BlackBerry Tour 9630', r_ui=8.0, est=8.040285714285714, details={'was_impossible': False}), Prediction(uid='hanelo', iid='Huawei Honor 7 16GB', r_ui=7.0, est=8.040285714285714, details={'was_impossible': False}), Prediction(uid='supertjejen', iid='Sony Ericsson Zylo', r_ui=10.0, est=8.040285714285714, details={'was_impossible': False}), Prediction(uid='janipetteri1237 ', iid='ZTE Blade V7 Lite â€�Android-puhelin Dual-SIM, hopea', r_ui=10.0, est=8.040285714285714, details={'was_impossible': False}), Prediction(uid='walter', iid='Nokia Asha 205 Smartphone, Dual SIM, Cyan Dark [Italia]', r_ui=8.0, est=8.040285714285714, details={'was_impossible': False}), Prediction(uid='Cynthia', iid='Samsung Galaxy S5 neo goud / 16 GB - Overzicht', r_ui=9.0, est=8.040285714285714, details={'was_impossible': False}), Prediction(uid='evilxhakz', iid='Nokia N79', r_ui=8.0, est=8.180541073462727, details={'was_impossible': False}), Prediction(uid='ahrem-13', iid='Apple iPhone 6 Plus 128Gb', r_ui=8.0, est=8.040285714285714, details={'was_impossible': False}), Prediction(uid='henne berta', iid='Sony Ericsson Xperia mini pro Smartphone (7,6 cm (3 Zoll) Display, QWERTZ-Tastatur, Touchscreen, 5 MP Kamera, Android 2.3 OS) weiÃŸ', r_ui=10.0, est=8.040285714285714, details={'was_impossible': False}), Prediction(uid='Rainer Escheberg', iid='Lenovo Moto X Play Smartphone (13,9 cm (5,5 Zoll) Display, 16 GB Speicher, Android 5.1) weiÃŸ', r_ui=10.0, est=8.040285714285714, details={'was_impossible': False}), Prediction(uid='Cliente Amazon', iid='LG G2 Mini - Smartphone libre Android (pantalla 4.7\", cÃ¡mara 8 Mp, 8 GB, Quad-Core 1.2 GHz, 1 GB RAM), blanco', r_ui=10.0, est=8.661053555646017, details={'was_impossible': False}), Prediction(uid='A Reviewer', iid='Samsung Galaxy Centura Android Prepaid Phone (TracFone)', r_ui=8.0, est=8.040285714285714, details={'was_impossible': False}), Prediction(uid='vin', iid='Samsung Instinct s30', r_ui=8.0, est=8.040285714285714, details={'was_impossible': False}), Prediction(uid='nicolo123', iid='Motorola v535', r_ui=4.0, est=8.040285714285714, details={'was_impossible': False}), Prediction(uid='Tamara09', iid='SAMSUNG Galaxy S4 16 Gb i9505 blanco', r_ui=10.0, est=8.040285714285714, details={'was_impossible': False}), Prediction(uid='Mark Mcdonald', iid='HP iPAQ h6315 PDA Phone (T-Mobile)', r_ui=10.0, est=8.040285714285714, details={'was_impossible': False}), Prediction(uid='Adri Sarria', iid='LG G3 - Smartphone libre Android (pantalla 5.5\", cÃ¡mara 13 Mp, 16 GB, Quad-Core 2.5 GHz, 2 GB RAM), dorado', r_ui=10.0, est=8.220684643241832, details={'was_impossible': False}), Prediction(uid='?????€????', iid='Lenovo K900 Silver UACRF 001', r_ui=10.0, est=8.040285714285714, details={'was_impossible': False}), Prediction(uid='Folker Rosen', iid='Microsoft Lumia 650 Smartphone (5 Zoll (12,7 cm) Touch-Display, 16 GB Speicher, Windows 10) schwarz', r_ui=10.0, est=8.203628039924055, details={'was_impossible': False}), Prediction(uid='Katharina Riehs', iid='Samsung Star 3 S5220 Smartphone (7,6 cm (3 Zoll) Display, Touchscreen, 3,2 Megapixel Kamera) modern-black', r_ui=2.0, est=8.040285714285714, details={'was_impossible': False}), Prediction(uid='Roswithakl', iid='Microsoft Nokia 3109 classic grey (EDGE, GPRS, HSCSD, CSD, Musik-Player, Bluetooth) Handy', r_ui=10.0, est=8.040285714285714, details={'was_impossible': False}), Prediction(uid='Christoph', iid='Microsoft Nokia Lumia 710 Smartphone (9,4 cm (3,7 Zoll) Touchscreen, 5 Megapixel Kamera, Windows Phone Mango OS) weiÃŸ', r_ui=10.0, est=8.205965660330541, details={'was_impossible': False}), Prediction(uid='clan', iid='Sony Ericsson P1i', r_ui=10.0, est=8.209812048337001, details={'was_impossible': False}), Prediction(uid='Sathishbabu', iid='Huawei Ascend Y220 (Black)', r_ui=8.0, est=8.040285714285714, details={'was_impossible': False}), Prediction(uid='CHRIS', iid='Motorola Moto G5 Plus - Grey', r_ui=9.0, est=8.040285714285714, details={'was_impossible': False}), Prediction(uid='Diego Giuseppe', iid='Lenovo Motorola Moto E 2a Generazione Smartphone, LTE, 8 GB, RAM 1 GB, Nero [Italia]', r_ui=10.0, est=8.211883665747008, details={'was_impossible': False}), Prediction(uid='t.scholz', iid='NOKIA 5800, Nokia X6, N97 mini XpressMusic Display Set', r_ui=8.0, est=8.040285714285714, details={'was_impossible': False}), Prediction(uid='ANDREPOLI33', iid='Nokia N95', r_ui=2.0, est=8.720316795229666, details={'was_impossible': False}), Prediction(uid='Okwuchi Ubu', iid='Oxford Street New Black Unlocked Cubot GT72 4.0 inch Android 4.2 Smartphone Dual Core Mobile Phone Dual Camera GPS WiFi Capacitive...', r_ui=6.0, est=8.040285714285714, details={'was_impossible': False}), Prediction(uid='Claudia', iid='Huawei P8 lite Smartphone, Display 5.0\" IPS, Dual Sim, Processore Octa-Core, Memoria 16 GB, Fotocamera 13 MP, Android 5.0, Bianco', r_ui=10.0, est=7.919796913993615, details={'was_impossible': False}), Prediction(uid='tomas santos', iid='BLU Zoey Quadband Unlocked Dual SIM Phone with Camera, Bluetooth and Social Networks', r_ui=10.0, est=8.040285714285714, details={'was_impossible': False}), Prediction(uid='Ð”Ð°Ð´Ð¾Ð½Ð¾Ð² Ð¡ÐµÑ€Ð³ÐµÐ¹ ÐžÐ»ÐµÐºÑ�Ð°Ð½Ð´Ñ€Ð¾Ð²Ð¸Ñ‡', iid='Samsung GT-S5250 Wave 525', r_ui=10.0, est=8.040285714285714, details={'was_impossible': False}), Prediction(uid=nan, iid='Huawei Ascend P6', r_ui=10.0, est=8.052756803013382, details={'was_impossible': False}), Prediction(uid='Barnegat Bay', iid='Nokia Lumia 925 RM-893 16GB 4G LTE GSM Unlocked AT&T Windows 8 Cell Phone - Black', r_ui=10.0, est=8.040285714285714, details={'was_impossible': False}), Prediction(uid='HUW', iid='APPLE iPhone 6s Plus - 128 GB, Rose Gold', r_ui=4.0, est=8.040285714285714, details={'was_impossible': False}), Prediction(uid='smol19401961', iid='Nokia 6303 Classic', r_ui=10.0, est=8.032656411457989, details={'was_impossible': False}), Prediction(uid='Mitesh bhanushali', iid='Lenovo Vibe K4 Note (White,16GB)', r_ui=4.0, est=8.013382259866184, details={'was_impossible': False}), Prediction(uid='ÐœÐ°Ñ€Ð¸Ñ� Ð”Ñ‹Ð¼Ð°Ñ€ÑŒ', iid='Ð¡Ð¼Ð°Ñ€Ñ‚Ñ„Ð¾Ð½ Lenovo S650 White', r_ui=10.0, est=8.040285714285714, details={'was_impossible': False}), Prediction(uid='slater2130', iid='Sony Ericsson K810i', r_ui=10.0, est=8.320004595138084, details={'was_impossible': False}), Prediction(uid='froger4', iid='LG KF600', r_ui=8.0, est=8.040285714285714, details={'was_impossible': False}), Prediction(uid='Amazone', iid='Palm Germany GmbH Pre Smartphone O2 Branding schwarz', r_ui=8.0, est=8.040285714285714, details={'was_impossible': False}), Prediction(uid='TadentDaMonkey ', iid='Samsung Galaxy S7 edge 32GB (T-Mobile)', r_ui=10.0, est=8.164577332448875, details={'was_impossible': False}), Prediction(uid='Gznite ', iid='Samsung Galaxy S7 32GB (T-Mobile)', r_ui=6.0, est=8.274002547108223, details={'was_impossible': False}), Prediction(uid='Richard Teets', iid='BlackBerry Q10 Unlocked GSM Smartphone - Black', r_ui=10.0, est=8.040285714285714, details={'was_impossible': False}), Prediction(uid='Amy07', iid='Apple iPhone 6s, 32Gb - Gold', r_ui=10.0, est=8.040285714285714, details={'was_impossible': False}), Prediction(uid='Amazon Customer', iid='Lenovo Used Lenovo Zuk Z1 (Space Grey, 64GB)', r_ui=2.0, est=5.729414994386522, details={'was_impossible': False}), Prediction(uid='Talylrar', iid='Sony Ericsson C902', r_ui=8.0, est=8.040285714285714, details={'was_impossible': False}), Prediction(uid='Johan R \"Canyon Explorer\"', iid='BLU Zoey Quadband Unlocked Dual SIM Phone with Camera, Bluetooth and Social Networks', r_ui=4.0, est=8.040285714285714, details={'was_impossible': False}), Prediction(uid='MM Reviews', iid='Huawei Ascend P9 32GB Mystic Silver [TIM Italia]', r_ui=10.0, est=8.040285714285714, details={'was_impossible': False}), Prediction(uid='Kristine Daniels', iid='Nokia 1208 red (Farbdisplay, Organizer, Spiele) Handy', r_ui=10.0, est=8.040285714285714, details={'was_impossible': False}), Prediction(uid='Ð“ÐµÐ½Ð½Ð°Ð´Ð¸Ð¹', iid='Apple iPhone 5s (16GB)', r_ui=6.0, est=8.040285714285714, details={'was_impossible': False}), Prediction(uid=nan, iid='Nokia X3-02', r_ui=2.0, est=8.052756803013382, details={'was_impossible': False}), Prediction(uid='Steven P Shivayka Jr', iid='Kyocera Hydro XTRM (MetroPCS)', r_ui=8.0, est=8.040285714285714, details={'was_impossible': False}), Prediction(uid='Daniel Rost', iid='Sony Ericsson K700i Handy', r_ui=10.0, est=8.040285714285714, details={'was_impossible': False}), Prediction(uid='jagadish', iid='Samsung Galaxy J2 (Black)', r_ui=10.0, est=8.040285714285714, details={'was_impossible': False}), Prediction(uid='llliia', iid='Sony Ericsson Z550i', r_ui=10.0, est=8.039561041824246, details={'was_impossible': False}), Prediction(uid='Cliente Amazon', iid='OUKITEL U10 - Smartphone Libre 4G (Android 5.1 Octa Core, 5.5\" IPS FHD Pantalla, Touch ID, Dual SIM, 16G ROM, CÃ¡mara 13MP, HotKnot) Celular - Dorado', r_ui=2.0, est=8.661053555646017, details={'was_impossible': False}), Prediction(uid='Ð�Ð¸ÐºÐ¸Ñ‚Ð° ÐŸÐµÑ‡ÐºÐ¾Ð²', iid='Samsung Galaxy Ace GT-S5830', r_ui=10.0, est=7.904128028948929, details={'was_impossible': False}), Prediction(uid='choy', iid='Nokia 5500 Sports genuine UK sim free mobile phone (Robust rubberised casing) - Sports Tracking: stopwatch calories burned, steps used etc - Sporty Black / Grey', r_ui=8.0, est=8.040285714285714, details={'was_impossible': False}), Prediction(uid='sandra', iid='Samsung Galaxy S7 Edge zwart / 32 GB', r_ui=10.0, est=8.394328540123926, details={'was_impossible': False}), Prediction(uid='ANDREYENRIQUEGAUNA', iid='Samsung D900', r_ui=10.0, est=8.040285714285714, details={'was_impossible': False}), Prediction(uid='TorgKontrakt', iid='HTC Touch Diamond2', r_ui=8.0, est=8.040285714285714, details={'was_impossible': False}), Prediction(uid='Amazon Customer', iid='Apple iPhone 5C 8GB Blue - Unlocked Smartphone cheap used condition freepost (White)', r_ui=2.0, est=7.393381251049339, details={'was_impossible': False}), Prediction(uid='Rafael', iid='Smartphone Asus Zenfone 2 ZE551ML - 6C542WW c/ Intel Z3580 2.3Ghz, Android 5.0, Tela Full HD 5.5Â´, 16Gb, Camera 13MP, 4G, Desbloqueado - Vermelho', r_ui=10.0, est=8.040285714285714, details={'was_impossible': False}), Prediction(uid='SpiderRobin', iid='HTC One M8 16GB', r_ui=10.0, est=8.210568376565325, details={'was_impossible': False}), Prediction(uid='PEDRO ZAPATA RONDON', iid='BlackBerry Q10 16GB BLACK QWERTY KEYBOARD TOUCH FACTORY UNLOCKED MODEL NO : RFN81UW (2G & 3G 800/850/900/1900/2100 & 4G LTE 800/900/1800/2600)', r_ui=10.0, est=8.040285714285714, details={'was_impossible': False}), Prediction(uid='neura', iid='BlackBerry Storm 9500', r_ui=10.0, est=7.558390053427205, details={'was_impossible': False}), Prediction(uid='Aleksey Druzhinin', iid='Nokia 3310', r_ui=10.0, est=8.345981246093615, details={'was_impossible': False}), Prediction(uid='Psydar \"Hardcorecheck fÃ¼r Hard- und Software!\"', iid='Sony Ericsson K610i urban silver UMTS Handy', r_ui=10.0, est=8.040285714285714, details={'was_impossible': False}), Prediction(uid='Volker Gierth', iid='Samsung SGH-F490 UMTS-Smartphone mit Touchscreen (Triband, EDGE, 5MP-Kamera, microSD-Kartenslot) schwarz', r_ui=2.0, est=8.040285714285714, details={'was_impossible': False}), Prediction(uid='JosÃ© Martos', iid='LG G2 - Smartphone libre Android (pantalla 5.2\", cÃ¡mara 13 Mp, 16 GB, Quad-Core 2.3 GHz), negro', r_ui=10.0, est=8.040285714285714, details={'was_impossible': False}), Prediction(uid='LaPinay', iid='Samsung Corby Txt B3210', r_ui=9.0, est=8.040285714285714, details={'was_impossible': False}), Prediction(uid='Tom Bailey', iid='BLU Star 4.0 S410a Unlocked GSM Android 4.2 Smartphone with 4.0\" Touchscreen - Black', r_ui=4.0, est=8.040285714285714, details={'was_impossible': False}), Prediction(uid='Rolando Martinez', iid='Motorola PEBL U6 Unlocked Phone with Camera and Bluetooth--International Version with No Warranty (Graphite Black)', r_ui=8.0, est=8.040285714285714, details={'was_impossible': False}), Prediction(uid='Ð—Ð¸Ð¼Ð¸Ð½Ð° Ð›ÐµÐ½Ð°', iid='HTC Desire 310 Dual Sim', r_ui=2.0, est=8.040285714285714, details={'was_impossible': False}), Prediction(uid='Ricardo M', iid='Asus ZenFone 2 Unlocked Cellphone , 64GB, Silver (U.S. Warranty)', r_ui=6.0, est=8.205560357650564, details={'was_impossible': False}), Prediction(uid='Sabrina', iid='BlackBerry Curve 8900', r_ui=9.0, est=8.196845702163374, details={'was_impossible': False}), Prediction(uid='Chocobo Sandwich', iid='Nokia 808 PureView Unlocked Phone with a 41 MP Camera with Carl Zeiss Optics--U.S. Warranty (White)', r_ui=4.0, est=8.040285714285714, details={'was_impossible': False}), Prediction(uid='Ð›ÐµÐ¾Ð½Ð¸Ð´', iid='Huawei U8500 (ÐœÐ¢Ð¡ Evo)', r_ui=10.0, est=8.040285714285714, details={'was_impossible': False}), Prediction(uid='Miguel Angel Torres Suarez', iid='elephone 5.0 Pulgada Elephone P6000 Smartphone 64bit Android 4.4 4G MTK6732 1.5GHz Quad Core 2GB 16GB Doble CÃ¡maras Negro', r_ui=6.0, est=8.040285714285714, details={'was_impossible': False}), Prediction(uid='Bulgakova-Ulya', iid='Nokia 206 Dual Sim', r_ui=10.0, est=8.040285714285714, details={'was_impossible': False}), Prediction(uid='gyp', iid='Samsung Galaxy S4 Mini GT-I9192 (Deep Black)', r_ui=8.0, est=8.040285714285714, details={'was_impossible': False}), Prediction(uid='Amazon Kunde', iid='HTC 10 Smartphone (13,2 cm (5,2 Zoll) Super LCD 5 Display, 1440 x 2560 Pixel, 12 Ultrapixel, 32 GB, Android) glacier silber', r_ui=10.0, est=6.10389770059578, details={'was_impossible': False}), Prediction(uid='Amazon Customer', iid='Lenovo Vibe K4 Note (White,16GB)', r_ui=10.0, est=7.516072726089246, details={'was_impossible': False}), Prediction(uid='puffetta1', iid='Samsung GT C3520', r_ui=8.0, est=8.040285714285714, details={'was_impossible': False}), Prediction(uid='Aitor', iid='Microsoft Lumia 640 XL - Smartphone libre Windows Phone (pantalla 5.7\", 8 GB, Quad-Core 1.2 GHz, 1 GB RAM), naranja', r_ui=10.0, est=8.040285714285714, details={'was_impossible': False}), Prediction(uid='NS van den Dikkenberg', iid='LG Nexus 5X 32GB White', r_ui=6.0, est=8.040285714285714, details={'was_impossible': False}), Prediction(uid='DC-REPUESTOS', iid='Sony Ericsson T290', r_ui=10.0, est=8.040285714285714, details={'was_impossible': False}), Prediction(uid='AlejandroGP', iid='LG K10 - Smartphone (5.3\", cÃ¡mara 13 MP, 16 GB, Qualcomm Snapdragon 1.2 GHz, 1.5 GB de RAM, 4G), negro', r_ui=8.0, est=8.040285714285714, details={'was_impossible': False}), Prediction(uid='RZapata', iid='Sony Xperia Z3+ E6553', r_ui=3.0, est=7.633407056633426, details={'was_impossible': False}), Prediction(uid='aban Daban', iid='Samsung Galaxy Note II LTE GT-N7105', r_ui=4.0, est=8.040285714285714, details={'was_impossible': False}), Prediction(uid='eelsa', iid='Nokia 6680', r_ui=10.0, est=8.040285714285714, details={'was_impossible': False}), Prediction(uid='blbemoore ', iid='Samsung Galaxy S7 32GB (AT&T)', r_ui=10.0, est=8.275233460652293, details={'was_impossible': False}), Prediction(uid='dishsoap', iid='W600i / W550i', r_ui=9.0, est=8.040285714285714, details={'was_impossible': False}), Prediction(uid='martin7901', iid='HTC One X 32GB', r_ui=1.0, est=8.040285714285714, details={'was_impossible': False}), Prediction(uid='ali g', iid='Sony Ericsson W200', r_ui=10.0, est=8.040285714285714, details={'was_impossible': False}), Prediction(uid='Christian Becker', iid='Siemens M55 iridium', r_ui=6.0, est=8.040285714285714, details={'was_impossible': False}), Prediction(uid='MrFibbonacci9 ', iid='Samsung Galaxy S III 16GB (Straight Talk)', r_ui=10.0, est=8.199227540558217, details={'was_impossible': False}), Prediction(uid='djk1940', iid='Motorola Bravo (AT&T)', r_ui=9.0, est=8.040285714285714, details={'was_impossible': False}), Prediction(uid='joal10', iid='Motorola V547', r_ui=8.0, est=8.040285714285714, details={'was_impossible': False}), Prediction(uid='Pavel Savchenko', iid='Samsung Galaxy S7 Smartphone (12,92 cm (5,1 Zoll) Touch-Display, 32GB interner Speicher, Android OS) pink', r_ui=10.0, est=8.040285714285714, details={'was_impossible': False}), Prediction(uid='TheKewlOne17', iid='Samsung Tracfone Samsung T155g No Contract Cell Phone - Black (Prepaid Phone NOT Unlocked )', r_ui=2.0, est=8.040285714285714, details={'was_impossible': False}), Prediction(uid='P. Wood', iid='Sony Phones Xperia U Sim Free Smartphone - Black (discontinued by manufacturer)', r_ui=10.0, est=8.040285714285714, details={'was_impossible': False}), Prediction(uid='laurino elio', iid='Apple iPhone 5S 16GB Grigio [Italia]', r_ui=10.0, est=8.040285714285714, details={'was_impossible': False}), Prediction(uid='Pixel love it', iid='Google Pixel, Phone by Google', r_ui=10.0, est=7.555629566902105, details={'was_impossible': False}), Prediction(uid='Helios', iid='Huawei Honor 7 3+64GB Fingerprint 4G LTE Dual Sim Full Active Android 5.0 Octa Core 2.2GHz 5.2 inch FHD 8+20MP Grigio', r_ui=10.0, est=8.040285714285714, details={'was_impossible': False}), Prediction(uid='Ashish Anand', iid='Sony Xperia Z1 (Black)', r_ui=10.0, est=8.040285714285714, details={'was_impossible': False}), Prediction(uid='jessica', iid='Samsung Galaxy Ace 2 Smartphone Android Wifi 4 GB, Nero [Germania]', r_ui=10.0, est=8.037838207593444, details={'was_impossible': False}), Prediction(uid='Amazon Customer', iid='LG Envoy II - No Contract Phone (U.S. Cellular)', r_ui=10.0, est=7.393381251049339, details={'was_impossible': False}), Prediction(uid='Hans', iid='Samsung Galaxy S8 zilver / 64 GB', r_ui=7.0, est=8.040285714285714, details={'was_impossible': False}), Prediction(uid='MUN HWA', iid='Samsung Galaxy S Duos II GT-S7582 Factory Unlocked Cellphone, International Version, White', r_ui=10.0, est=8.199753783373186, details={'was_impossible': False}), Prediction(uid='Amazon Customer', iid='Asus ZenFone 2 Unlocked Cellphone, 64GB, Red (U.S. Warranty)', r_ui=2.0, est=7.209776703214189, details={'was_impossible': False}), Prediction(uid='irene11', iid='Apple iPhone 5c 8GB', r_ui=6.0, est=8.040285714285714, details={'was_impossible': False}), Prediction(uid='S. Moore', iid='LG Optimus Net Android Prepaid Phone (Net10)', r_ui=4.0, est=8.040285714285714, details={'was_impossible': False}), Prediction(uid='Matthew Viernow', iid='Apple iPhone 5c 16GB Unlocked GSM Cell Phone w/ 8MP Camera - Yellow', r_ui=10.0, est=8.040285714285714, details={'was_impossible': False}), Prediction(uid=nan, iid='Nokia N73 Music Edition', r_ui=10.0, est=8.433376089784256, details={'was_impossible': False}), Prediction(uid='jonnylyon', iid='Sony Ericsson K770i', r_ui=10.0, est=8.040285714285714, details={'was_impossible': False}), Prediction(uid='Robin Wallace', iid='Vodafone Smart First 6 Pay As You Go Handset Smartphone - Black', r_ui=10.0, est=8.328434266865823, details={'was_impossible': False}), Prediction(uid='iamme', iid='Apple iPhone 5c GSM Unlocked Cellphone, 16GB, Pink', r_ui=10.0, est=8.040285714285714, details={'was_impossible': False}), Prediction(uid='Amazon Customer', iid='OnePlus 3 (Graphite, 64 GB)', r_ui=8.0, est=7.129065741861929, details={'was_impossible': False}), Prediction(uid='Emily', iid='Samsung Galaxy J3 2016 Sim Free Mobile Phone - Black', r_ui=10.0, est=8.21009084432055, details={'was_impossible': False}), Prediction(uid='asotarminvanbuuren', iid='Samsung SGH-F500', r_ui=10.0, est=8.040285714285714, details={'was_impossible': False}), Prediction(uid=nan, iid='Sony Ericsson K320i', r_ui=10.0, est=8.052756803013382, details={'was_impossible': False}), Prediction(uid='e-bit', iid='Smartphone Apple iPhone 6 16GB', r_ui=10.0, est=8.803800858726696, details={'was_impossible': False}), Prediction(uid='Letsmakeadeal', iid='Nokia Lumia 520 (AT&T Go Phone) No Annual Contract (Discontinued by Manufacturer)', r_ui=10.0, est=8.042489772753227, details={'was_impossible': False}), Prediction(uid='redvip', iid='Samsung Jet GT-S8000', r_ui=8.0, est=8.359832055285565, details={'was_impossible': False}), Prediction(uid='Anelcy', iid='BLU Life Play S Quad BandUnlocked (White)', r_ui=6.0, est=8.040285714285714, details={'was_impossible': False}), Prediction(uid='manman', iid='Samsung S390G Prepaid Phone With Triple Minutes (Tracfone)', r_ui=2.0, est=7.534585663527544, details={'was_impossible': False}), Prediction(uid='890106', iid='Samsung Galaxy Ace', r_ui=8.0, est=7.6983149762118845, details={'was_impossible': False}), Prediction(uid='PORCU ENZO', iid='Huawei Ascend Y530 Smartphone, 4 GB, Bianco', r_ui=8.0, est=8.040285714285714, details={'was_impossible': False}), Prediction(uid='edisme', iid='Apple a1549 iPhone 6 64GB T-Mobile (silver)', r_ui=2.0, est=8.040285714285714, details={'was_impossible': False}), Prediction(uid='Arcras', iid='Siemens CX65 Handy', r_ui=10.0, est=8.040285714285714, details={'was_impossible': False}), Prediction(uid='sonia coromoto diaz mendoza', iid='Samsung Galaxy Ace Duos - Smartphone libre Android (pantalla tÃ¡ctil de 3,5\" 320 x 480, cÃ¡mara 5 Mp, procesador de 832 MHz, 3 GB de RAM, S.O. Android 2.3) color blanco', r_ui=10.0, est=8.040285714285714, details={'was_impossible': False}), Prediction(uid='Ravi shah', iid='Apple iPhone 5s (Gold, 16GB)', r_ui=6.0, est=8.040285714285714, details={'was_impossible': False}), Prediction(uid=nan, iid='HTC Touch HD2', r_ui=9.0, est=8.820828755623358, details={'was_impossible': False}), Prediction(uid='Natalie', iid='Sony Xperia Z5 Compact Smartphone (4,6 Zoll (11,7 cm) Touch-Display, 32 GB interner Speicher, Android 5.1) gelb', r_ui=8.0, est=7.877413596700186, details={'was_impossible': False}), Prediction(uid='????????', iid='LG Optimus E615 Black', r_ui=4.0, est=8.032204612929197, details={'was_impossible': False}), Prediction(uid='Peggy S.', iid='Samsung Galaxy A3 (2016) - A310F Smartphone, 12 cm (4,7 Zoll) Display, LTE (4G)', r_ui=10.0, est=8.314612639897357, details={'was_impossible': False}), Prediction(uid='Ram', iid='Lenovo Vibe K4 Note (Black, 16GB)', r_ui=6.0, est=7.628517705146331, details={'was_impossible': False}), Prediction(uid='Ing. Sett', iid='Huawei P8 Lite Smartphone, Display 5\" IPS, Processore Octa-Core 1.5 GHz, Memoria Interna da 16 GB, 2 GB RAM, Fotocamera 13 MP, monoSIM, Android 5.0, Bianco [Italia]', r_ui=10.0, est=8.523814533135887, details={'was_impossible': False}), Prediction(uid='Amazon Customer', iid='Nokia Lumia 530, UK SIM-Free Smartphone - Orange', r_ui=4.0, est=8.042066207567357, details={'was_impossible': False}), Prediction(uid='BÃ¤r 61', iid='Samsung Galaxy S7 EDGE Smartphone (5,5 Zoll (13,9 cm) Touch-Display, 32GB interner Speicher, Android OS) pink', r_ui=8.0, est=7.290751307094396, details={'was_impossible': False}), Prediction(uid='Mustafa Mahir ALTAN', iid='Nokia Lumia 820', r_ui=10.0, est=8.040285714285714, details={'was_impossible': False}), Prediction(uid='Giuseppe', iid='Huawei Y3 Smartphone, Display 4 Pollici IPS, Processore 1,3 GHz Quad-Core, Fotocamera 5 MP, Memoria 4 GB, Android 4.4, Bianco', r_ui=4.0, est=8.217472593248608, details={'was_impossible': False}), Prediction(uid=nan, iid='Samsung SGH-D900', r_ui=9.0, est=8.052756803013382, details={'was_impossible': False}), Prediction(uid='posta2219', iid='Samsung Omnia Pro B7610', r_ui=10.0, est=8.040285714285714, details={'was_impossible': False}), Prediction(uid='Cliente Amazon', iid='LG H410 Wine Smartphone Flip, 4 GB, Android 5.1.1, Quad-Core,, Marchio TIM, Blu/Nero [Italia]', r_ui=10.0, est=8.661053555646017, details={'was_impossible': False}), Prediction(uid='cnrao', iid='Samsung Galaxy S6 Factory Unlocked 32GB Smartphone (U.S. Warranty Version)', r_ui=2.0, est=8.040285714285714, details={'was_impossible': False}), Prediction(uid='chrisnr7', iid='Panasonic GD50', r_ui=8.0, est=8.040285714285714, details={'was_impossible': False}), Prediction(uid='219359344', iid='Huawei U8350 Boulde', r_ui=10.0, est=8.040285714285714, details={'was_impossible': False}), Prediction(uid='ngfv', iid='SAMSUNG Galaxy SII (S2)', r_ui=9.0, est=8.040285714285714, details={'was_impossible': False}), Prediction(uid='Sergey', iid='Sony Xperia V (?????€??????)', r_ui=8.0, est=8.040285714285714, details={'was_impossible': False}), Prediction(uid='shyshy', iid='SAMSUNG Galaxy SII (S2) Blanc', r_ui=9.0, est=8.040285714285714, details={'was_impossible': False}), Prediction(uid='Nadia Regina', iid='Apple iPhone 5s 16GB Dourado Desbloqueado CÃ¢mera 8MP 4G e Wi-Fi Apple', r_ui=6.0, est=8.040285714285714, details={'was_impossible': False}), Prediction(uid='p51d007', iid='Tilt 8925 / TyTN II', r_ui=8.0, est=8.040285714285714, details={'was_impossible': False}), Prediction(uid='S5owner ', iid='Samsung Galaxy S4 16GB (Verizon)', r_ui=9.0, est=8.618913016146411, details={'was_impossible': False}), Prediction(uid=nan, iid='Nokia N82', r_ui=10.0, est=8.225662351312161, details={'was_impossible': False}), Prediction(uid='Dario A', iid='LG Electronics G4 Smartphone (5,5 Zoll (14 cm) Touch-Display, 32 GB Speicher, Android 5.1) gold', r_ui=8.0, est=8.040285714285714, details={'was_impossible': False}), Prediction(uid='Mein Name Stahl', iid='Samsung Galaxy Express I8730', r_ui=9.0, est=8.383774762664943, details={'was_impossible': False}), Prediction(uid='ÐœÐ°Ð»Ñ‹ÑˆÐµÐ²Ð° Ð�Ð»ÐµÐºÑ�Ð°Ð½Ð´Ñ€Ð°', iid='Samsung Galaxy S5 SM-G900F 16Gb', r_ui=10.0, est=8.040285714285714, details={'was_impossible': False}), Prediction(uid='Macuser64', iid='BlackBerry 8820', r_ui=9.0, est=8.040285714285714, details={'was_impossible': False}), Prediction(uid='Kuldeep Shrivastav', iid='Karbonn Titanium S5 - White', r_ui=10.0, est=8.040285714285714, details={'was_impossible': False}), Prediction(uid='Jack mayer', iid='Samsung Galaxy S4, White Frost 16GB (Sprint)', r_ui=8.0, est=8.040285714285714, details={'was_impossible': False}), Prediction(uid='pilou', iid='ivencase Pour Asus Zenfone 2 , ivencase Premium Ultra-thin Flip PU Cuir [View Window] Motif Bumper Mince Protecteur Folio Housse Etui Coque Case Cover Parfait Fit Pour Asus Zenfone 2 ZE551M/ZE550ML 5.5 \" [Noir]', r_ui=6.0, est=8.040285714285714, details={'was_impossible': False}), Prediction(uid='silvia braga', iid='Sony Xperia T Smartphone, 4.6 Pollici HD, Bianco [Italia]', r_ui=10.0, est=8.040285714285714, details={'was_impossible': False}), Prediction(uid='K. Manning', iid='Samsung Convoy 3 SCH-U680 Rugged 3G Cell Phone Verizon Wireless', r_ui=2.0, est=8.040285714285714, details={'was_impossible': False}), Prediction(uid='Rebert J.', iid='Sony Ericsson Xperia Arc Misty Silver 3G Unlocked GSM Android OS Smart Phone w/ 4.2\" Multi-Touch Reality Display / Mobile BRAVIA Engine / 8.1 MP w/HD Video Capture / Bluetooth v2.1 w/A2DP (LT15a)', r_ui=10.0, est=8.040285714285714, details={'was_impossible': False}), Prediction(uid='GABITUH', iid='Nokia 6710', r_ui=4.0, est=8.040285714285714, details={'was_impossible': False}), Prediction(uid='Valentina', iid='Apple IPHONE SE 16GB ITALIA ROSE GOLD', r_ui=8.0, est=8.054601014249371, details={'was_impossible': False}), Prediction(uid='PI', iid='Samsung Galaxy S3 i9300 Unlocked Cellphone, International Version, 16GB, Blue', r_ui=2.0, est=8.040285714285714, details={'was_impossible': False}), Prediction(uid='ghy souza mendes', iid='Samsung Smartphone Dual Chip Samsung Galaxy SIII Duos Desbloqueado Claro Azul Android 4.1 3G/Wi-Fi C??mera 5MP', r_ui=10.0, est=8.040285714285714, details={'was_impossible': False}), Prediction(uid='Julia', iid='Samsung Galaxy Star S5280 Smartphone (7,6 cm (3 Zoll) Touchscreen, 1GHz, 512MB RAM, 4GB Speicher, 2 Megapixel Kamera, Android 4.1) noble schwarz', r_ui=10.0, est=7.87223202540507, details={'was_impossible': False}), Prediction(uid='Jay Strong', iid='Samsung GSM Unlocked Samsung i847 Rugby Smart 4G 5MP Android 2.3.5 Military Standard MIL-STD 81F Touchscreen', r_ui=10.0, est=7.8700030089470445, details={'was_impossible': False}), Prediction(uid='boussag', iid='Samsung Galaxy Note 3 Smartphone dÃ©bloquÃ© 4G (Ecran 5.7 pouces - 32 Go - Android 4.3 Jelly Bean) Blanc', r_ui=2.0, est=8.040285714285714, details={'was_impossible': False}), Prediction(uid=\"Shawnt'e H.\", iid='Samsung Galaxy Avant - No Contract - (T-Mobile)', r_ui=10.0, est=8.040285714285714, details={'was_impossible': False}), Prediction(uid='delia guzman', iid='iPhone 3GS 16GB FACTORY UNLOCKED', r_ui=2.0, est=8.040285714285714, details={'was_impossible': False}), Prediction(uid=nan, iid='Nokia 5630 XpressMusic', r_ui=10.0, est=8.052756803013382, details={'was_impossible': False}), Prediction(uid='MARCELO', iid='Smartphone Motorola RAZR D1 Preto com TV, Dual Chip, Processador de 1.0GHz, Android 4.1, CÃ¢mera 5MP, 3G, Wi-Fi, Bluetooth e ServiÃ§os Google', r_ui=6.0, est=8.036402808540325, details={'was_impossible': False}), Prediction(uid='Amazon Customer', iid='AT&T Fusion 2 ANDROID go Phone', r_ui=10.0, est=7.393381251049339, details={'was_impossible': False}), Prediction(uid='Tom', iid='ASUS Computer ZenFone5 A501CG-1G358GER Smartphone (Intel Atom Multi-Core Z2520, 1,6GHz, 12,7 cm (5 Zoll) Touchscreen, 2GB RAM, 16GB eMMC, 8 Megapixel Kamera, Android 4.3) gold', r_ui=4.0, est=8.396443938319853, details={'was_impossible': False}), Prediction(uid='murat', iid='Lenovo Motorola Moto G Smartphone, 4,5 pollici display HD, processore Qualcomm, memoria 16GB, MicroSIM, Android 4.3 OS, fotocamera da 5 MP, Nero [Germania]', r_ui=10.0, est=8.207958183286278, details={'was_impossible': False}), Prediction(uid='ALEXANDRE0591', iid='Sony Ericsson X10 Xperia', r_ui=8.0, est=8.03063350667286, details={'was_impossible': False}), Prediction(uid='Mack', iid='Alcatel OneTouch Idol 3 Global Unlocked 4G LTE Smartphone, 5.5 HD IPS Display, 16GB (GSM - US Warranty)', r_ui=10.0, est=7.8878825895927465, details={'was_impossible': False}), Prediction(uid='sylvana', iid='Samsung Galaxy S7 Edge zwart / 32 GB', r_ui=9.0, est=8.285229088096452, details={'was_impossible': False}), Prediction(uid='Roy', iid='BlackBerry 8520 Unlocked Phone with 2 MP Camera, Bluetooth, Wi-Fi--International Version with No Warranty (Black)', r_ui=2.0, est=8.032878403453008, details={'was_impossible': False}), Prediction(uid='deepak singh tanwar', iid='Samsung Galaxy Grand 2 Charcoal Gray', r_ui=4.0, est=8.040285714285714, details={'was_impossible': False}), Prediction(uid='Pingu', iid='HTC Desire C', r_ui=10.0, est=7.653754565800877, details={'was_impossible': False}), Prediction(uid='Olaf BÃ¼hling', iid='Sony Xperia Z1 Smartphone (5 Zoll (12,7 cm) Touch-Display, 16 GB Speicher, Android 4.2) schwarz', r_ui=2.0, est=8.040285714285714, details={'was_impossible': False}), Prediction(uid='PLEP2007', iid='Motorola W375', r_ui=10.0, est=8.040285714285714, details={'was_impossible': False}), Prediction(uid='tracean braham', iid='BLU Studio 5.5 D610a Unlocked Dual SIM GSM Phone (Yellow)', r_ui=10.0, est=8.21224956063978, details={'was_impossible': False}), Prediction(uid='anais', iid='Samsung Galaxy Core Prime', r_ui=5.0, est=8.040285714285714, details={'was_impossible': False}), Prediction(uid='Sonja Mix', iid='Samsung Galaxy S5 Smartphone (5,1 Zoll (12,9 cm) Touch-Display, 16 GB Speicher, Android 4.4) electric blue', r_ui=10.0, est=7.783930544367148, details={'was_impossible': False}), Prediction(uid='Clemy95', iid='Huawei Ascend G7', r_ui=8.0, est=8.040285714285714, details={'was_impossible': False}), Prediction(uid='Zeer Tevreden', iid='Sony Xperia Z5 zwart / 32 GB', r_ui=8.0, est=8.197763263734684, details={'was_impossible': False}), Prediction(uid='RAJA PRAVEEN KUMAR', iid='Lenovo Vibe K4 Note (Black, 16GB)', r_ui=8.0, est=7.628517705146331, details={'was_impossible': False}), Prediction(uid='Ogre', iid='Siemens C35i', r_ui=6.0, est=8.1475039346809, details={'was_impossible': False}), Prediction(uid='g2-gebruiker', iid='LG G2 D802 wit - Overzicht', r_ui=9.0, est=8.040285714285714, details={'was_impossible': False}), Prediction(uid='LuvMesomeSansung ', iid='Samsung Galaxy S7 edge 32GB (T-Mobile)', r_ui=5.0, est=8.164577332448875, details={'was_impossible': False}), Prediction(uid='Vicky Marcotte', iid='Samsung Galaxy S3 Stand and Spare Battery Charger (2100mAh Battery Included) (Discontinued by Manufacturer)', r_ui=10.0, est=8.040285714285714, details={'was_impossible': False}), Prediction(uid=nan, iid='HTC Legend', r_ui=8.0, est=9.742981008590654, details={'was_impossible': False}), Prediction(uid='opocaj', iid='Motorola V3 Razr', r_ui=9.0, est=8.040285714285714, details={'was_impossible': False}), Prediction(uid='Katrin Kunze', iid='Cubot P11 Android 5,1 3G Smartphone Handy Ohne Vertrag 5 Zoll IPS HD Quad Core Dual SIM 8MP Kamera Air Control 1GB 8GB - Gold', r_ui=10.0, est=8.191394281996462, details={'was_impossible': False}), Prediction(uid='Marionapo', iid='Palm Treo 680', r_ui=9.0, est=8.040285714285714, details={'was_impossible': False}), Prediction(uid=nan, iid='Nokia 5230', r_ui=10.0, est=5.949762874446886, details={'was_impossible': False}), Prediction(uid='Carlos Felipe Diaz Rey', iid='Samsung Note 4 Standard Li-ion Battery 3220mAh for Galaxy Note 4 - Non-Retail Packaging', r_ui=2.0, est=7.529590271838173, details={'was_impossible': False}), Prediction(uid='andres', iid='Samsung Galaxy S II GT-I9100 Unlocked Phone with 8MP Camera and Touchscreen - International Version (Black)', r_ui=10.0, est=8.040285714285714, details={'was_impossible': False}), Prediction(uid=nan, iid='Samsung SGH-N100', r_ui=10.0, est=8.052756803013382, details={'was_impossible': False}), Prediction(uid='ivnballa', iid='Microsoft Lumia 640 LTE RM 1072 Smartphone, Marchio TIM, Ciano [Italia]', r_ui=10.0, est=8.040285714285714, details={'was_impossible': False}), Prediction(uid='fahtiger76', iid='Sony Xperia Z 16GB Black - T-Mobile', r_ui=2.0, est=8.040285714285714, details={'was_impossible': False}), Prediction(uid='C. Bonander \"11111\"', iid='Lenovo X-shop 5.5-inch Unlocked White Lenovo A850 3g Smartphone-(960x540) Quad Core 4gb Mt6582m 1331mhz Android 4.2 Dual Camera +Dual SIM (Rooted + Google Play)', r_ui=8.0, est=8.040285714285714, details={'was_impossible': False}), Prediction(uid='Amazon Customer', iid='OnePlus 3 (Graphite, 64 GB)', r_ui=10.0, est=7.129065741861929, details={'was_impossible': False}), Prediction(uid=nan, iid='Huawei Ascend P1', r_ui=8.0, est=5.467994981338484, details={'was_impossible': False}), Prediction(uid=nan, iid='Huawei Vision U8850', r_ui=10.0, est=8.052756803013382, details={'was_impossible': False}), Prediction(uid='Amazon Customer', iid='Lenovo Vibe K5 (Gold, VoLTE update)', r_ui=8.0, est=2.3455925913137357, details={'was_impossible': False}), Prediction(uid='Barricat', iid='Samsung M110 TÃ©lÃ©phone portable monobloc GPRS RÃ©sistant aux chocs (IP54) Photo VGA Radio FM Bluetooth Noir', r_ui=4.0, est=8.040285714285714, details={'was_impossible': False}), Prediction(uid=nan, iid='Samsung S3653 Corby Wi-Fi (Siyah/Beyaz/SarÄ±/Pembe DÃ¼z Kapak)', r_ui=10.0, est=8.052756803013382, details={'was_impossible': False}), Prediction(uid='Wojcieszynski', iid='Huawei - P8 - Smartphone DÃ©bloquÃ© - 4G (Ecran : 5,2 pouces - 16 Go - Simple SIM - Android 5.0 Lollipop) - Mystic Champagne', r_ui=8.0, est=8.040285714285714, details={'was_impossible': False}), Prediction(uid='ceren2006', iid='Samsung Galaxy S5360 Y Metallic Gray Cep Telefonu', r_ui=9.0, est=8.19339650569726, details={'was_impossible': False}), Prediction(uid='Amazon Kunde', iid='Sony Xperia Z5 Premium Smartphone (5,5 Zoll (13,8 cm) Touch-Display, Android 5.1) gold', r_ui=8.0, est=6.10389770059578, details={'was_impossible': False}), Prediction(uid='calamar74', iid='SAMSUNG SM-N910F Galaxy Note 4 - 32 Go - noir - Smartphone', r_ui=10.0, est=8.040285714285714, details={'was_impossible': False}), Prediction(uid='Rhyschnoogg', iid='HTC Desire C Smartphone (8,9 cm (3,5 Zoll) HVGA-Touchscreen, 5 Megapixel Kamera, 600MHz, 512MB RAM, 4GB Speicher, Android 4.0 OS) Stealth Black', r_ui=10.0, est=8.196714260430072, details={'was_impossible': False}), Prediction(uid='muscat', iid='Apple iPhone SE 16 Go 4\" Or Rose', r_ui=10.0, est=8.040285714285714, details={'was_impossible': False}), Prediction(uid='Deric Santhosh', iid='YU YUNIQUE YU4711 Smartphone (Black)', r_ui=8.0, est=7.726608360280372, details={'was_impossible': False}), Prediction(uid='mellowlen62', iid='W755', r_ui=10.0, est=7.693874485488935, details={'was_impossible': False}), Prediction(uid='Amazon Customer', iid='BlackBerry PRIV (Black)', r_ui=8.0, est=7.393381251049339, details={'was_impossible': False}), Prediction(uid='Tersen S.', iid='LG G3 D850 32GB Unlocked Smartphone, GSM 4G LTE-Quad-HD, 5.5-Inch,(Metallic Black)', r_ui=10.0, est=8.040285714285714, details={'was_impossible': False}), Prediction(uid='GÃ¼nther Reich', iid='Samsung C3350 Handy (5,6 cm (2,2 Zoll) Display, 2 Megapixel Kamera) steel-gray', r_ui=8.0, est=8.040285714285714, details={'was_impossible': False}), Prediction(uid='SÃ©bastien', iid='LG G3 16Go noir', r_ui=10.0, est=8.040285714285714, details={'was_impossible': False}), Prediction(uid='Amazon Customer', iid='Lenovo Vibe K4 Note (White,16GB)', r_ui=8.0, est=7.516072726089246, details={'was_impossible': False}), Prediction(uid='omaar97', iid='Google Nexus 5', r_ui=10.0, est=8.040285714285714, details={'was_impossible': False}), Prediction(uid='Fabio', iid='Nokia Lumia 530 Smartphone, 4 GB, Arancione [Italia]', r_ui=10.0, est=8.040285714285714, details={'was_impossible': False}), Prediction(uid='Ð¨Ð°Ð¼Ð°ÐµÐ²Ð° Ð¢Ð°Ñ‚ÑŒÑ�Ð½Ð°', iid='Nokia 3110 Classic', r_ui=10.0, est=8.040285714285714, details={'was_impossible': False}), Prediction(uid='Sergio R.', iid='Samsung Galaxy A3 - Smartphone libre Android (pantalla 4.5\", cÃ¡mara 8 Mp, 16 GB, Quad-Core 1.2 GHz, 1.5 GB RAM), plateado (importado de Alemania)', r_ui=8.0, est=8.040285714285714, details={'was_impossible': False}), Prediction(uid='Beggiato Gersende', iid='Apple iPhone 6 Smartphone dÃ©bloquÃ© 4G (Ecran : 4.7 pouces - 16 Go - iOS 8) Argent', r_ui=4.0, est=8.040285714285714, details={'was_impossible': False}), Prediction(uid='ÐœÐ°ÐºÑ�Ð¸Ð¼ Ð¢ÐºÐ°Ñ‡', iid='ASUS ZenFone 3 ZE520KL 32GB (Ñ�Ð¸Ñ�ÑŽÑ‰ÐµÐµ Ð·Ð¾Ð»Ð¾Ñ‚Ð¾)', r_ui=9.0, est=8.040285714285714, details={'was_impossible': False}), Prediction(uid='Janka', iid='Huawei P8lite zwart / 16 GB', r_ui=10.0, est=8.19332762420382, details={'was_impossible': False}), Prediction(uid='Monika G.', iid='Microsoft Nokia Lumia 820 Smartphone (10,9 cm (4,3 Zoll) ClearBlack OLED WVGA Touchscreen, 8 Megapixel Kamera, 1,5 GHz Dual-Core-Prozessor, NFC, LTE-f??hig, Windows Phone 8) gloss white', r_ui=10.0, est=8.040285714285714, details={'was_impossible': False}), Prediction(uid='giannaluciano', iid='Xiaomi Hongmi Nota 4G LTE Snapdragon 400 Chip 2GB + 8GB 1.6GHz 5.5 pollici HD IPS Screen 13.0MP', r_ui=10.0, est=8.040285714285714, details={'was_impossible': False}), Prediction(uid='Laurenzo', iid='Honor 7 Smartphone dÃ©bloquÃ© 4G (Ecran: 5,2 pouces - 16 Go - Double Nano SIM - Android 5.0 Lollipop) Argent/Blanc', r_ui=10.0, est=8.048905017466048, details={'was_impossible': False}), Prediction(uid='waxie', iid='BlackBerry Pearl 8110', r_ui=8.0, est=8.040285714285714, details={'was_impossible': False}), Prediction(uid='Andrej', iid='Lenovo Motorola Moto G Smartphone (11,4 cm (4,5 Zoll) HD-Display, 5 Megapixel Kamera, 1,2 GHz Quad-Core-Prozessor, 16 GB interner Speicher, Android 4.3 OS) schwarz', r_ui=10.0, est=8.330487382705561, details={'was_impossible': False}), Prediction(uid='IRLANDES2005', iid='Sony Ericsson Xperia X10', r_ui=10.0, est=8.206221253601205, details={'was_impossible': False}), Prediction(uid='Petra Kri', iid='Samsung Galaxy S Duos S7562 Smartphone (10,2 cm (4 Zoll) Touchscreen, Cortex A5, 1GHz, 5 Megapixel Kamera, Android 4.0) schwarz', r_ui=4.0, est=8.040285714285714, details={'was_impossible': False}), Prediction(uid='Roman1984', iid='Nokia Asha 205 (Dark Rose Cyan)', r_ui=10.0, est=8.040285714285714, details={'was_impossible': False}), Prediction(uid='Cliente Amazon', iid='Samsung TelÃ©fono mÃ³vil Samsung E1150i 3,6 cm (pantalla de 1,43)', r_ui=10.0, est=8.75055894892029, details={'was_impossible': False}), Prediction(uid='serginio_n', iid='LG A290 (Black)', r_ui=6.0, est=8.040285714285714, details={'was_impossible': False}), Prediction(uid='francesca1967', iid='Samsung GT C3590', r_ui=8.0, est=8.040285714285714, details={'was_impossible': False}), Prediction(uid=nan, iid='Eten Glofiish M700', r_ui=10.0, est=8.052756803013382, details={'was_impossible': False}), Prediction(uid='flash97354', iid='Smartphone Xperia Z ultra 12759772 Sony', r_ui=8.0, est=8.040285714285714, details={'was_impossible': False}), Prediction(uid='ashtangi', iid='Nokia Lumia 610', r_ui=4.0, est=7.972725167321432, details={'was_impossible': False}), Prediction(uid='G Ajay Kumar Singh', iid='Acer Liquid Jade (Black)', r_ui=10.0, est=8.040285714285714, details={'was_impossible': False}), Prediction(uid='luvmyGRANDbaby', iid='Tracfone Samsung T105 Pre-Paid Cell Phone for TracFone - Black', r_ui=10.0, est=8.040285714285714, details={'was_impossible': False}), Prediction(uid='Good item', iid='Samsung Galaxy Note 4 4G SIM-Free Smartphone - Black', r_ui=10.0, est=8.202606034494034, details={'was_impossible': False}), Prediction(uid='M. W.', iid='BlackBerry RIM BlackBerry 8830 Phone, Black (Sprint, CDMA) Unlocked for international (Non-USA) GSM Carriers - No Contract Required. QWERTY. PDA.', r_ui=2.0, est=8.040285714285714, details={'was_impossible': False}), Prediction(uid='Pirken72', iid='Samsung Galaxy J5 smartphone (svart)', r_ui=10.0, est=8.040285714285714, details={'was_impossible': False}), Prediction(uid='Florian RÃ¶slmair', iid='Microsoft Nokia C3-00 Smartphone (ohne Vertrag, 6,1 cm (2,4 Zoll) Display, Bluetooth, 2 Megapixel Kamera, QWERTZ-Tastatur) acacia', r_ui=8.0, est=8.040285714285714, details={'was_impossible': False}), Prediction(uid='EV', iid='LG Voyager', r_ui=10.0, est=8.040285714285714, details={'was_impossible': False}), Prediction(uid='anton2', iid='Siemens ME45', r_ui=10.0, est=8.040285714285714, details={'was_impossible': False}), Prediction(uid='lookinandseemealt', iid='HTC AT&T Quickfire GTX75 Cell Phone Orange', r_ui=10.0, est=8.040285714285714, details={'was_impossible': False}), Prediction(uid='Jonisha', iid='SONY ERICSSON ASPEN M1i / UNLCOKED QUADBAND INTERNATIONAL QWERTY GSM PHONE (BLACK)', r_ui=2.0, est=8.040285714285714, details={'was_impossible': False}), Prediction(uid=nan, iid='HTC MAX 4G', r_ui=8.0, est=8.052756803013382, details={'was_impossible': False}), Prediction(uid='Ð“Ð¾Ñ�Ñ‚ÑŒ', iid='Nokia C5-03', r_ui=6.0, est=8.329693110752402, details={'was_impossible': False}), Prediction(uid='Ã§ixx', iid='Huawei (178) U8850 Vision', r_ui=9.0, est=8.040285714285714, details={'was_impossible': False}), Prediction(uid='Dominik', iid='Nokia A00014370 208 Handy (6,1 cm (2,4 Zoll) Farbdisplay, 1,3 Megapixel Kamera, 64MB RAM, 256MB Speicher) rot', r_ui=10.0, est=8.040285714285714, details={'was_impossible': False}), Prediction(uid='Lider Ruslan', iid='Samsung Galaxy Mega 5.8 GT-I9152', r_ui=8.0, est=8.040285714285714, details={'was_impossible': False}), Prediction(uid='HoraceDad10 ', iid='Samsung Galaxy S4 16GB (Verizon)', r_ui=10.0, est=8.618913016146411, details={'was_impossible': False}), Prediction(uid='Niknam80', iid='Sony Ericsson Cedar', r_ui=10.0, est=7.8718457946699685, details={'was_impossible': False}), Prediction(uid='Esther-DB', iid='Samsung Galaxy S7 goud, roze / 32 GB', r_ui=8.0, est=8.040285714285714, details={'was_impossible': False}), Prediction(uid='Diana Frau', iid='Sony Xperia sola', r_ui=2.0, est=8.040285714285714, details={'was_impossible': False}), Prediction(uid='EStelle Fouque', iid='Apple iPhone 5s GSM Unlocked Cellphone, 16 GB, Space Gray', r_ui=10.0, est=8.150131519347589, details={'was_impossible': False}), Prediction(uid='Thorsten Kleeschulte', iid='Huawei G8 Smartphone (5,5 Zoll (13,97 cm) Touch-Display, 32 GB interner Speicher, Android 5.1) WeiÃŸ', r_ui=10.0, est=8.148745421265469, details={'was_impossible': False}), Prediction(uid='Bernard Le Camus', iid='Samsung Galaxy Note 4 Smartphone dÃ©bloquÃ© 4G (Ecran : 5,7 pouces - 32 Go - Simple SIM - Android 4.4 KitKat) Blanc', r_ui=8.0, est=8.206533413001388, details={'was_impossible': False}), Prediction(uid='DAvid Fradis', iid='Motorola Moto E 4GB SIM-Free Smartphone - Black', r_ui=8.0, est=8.20805103751032, details={'was_impossible': False}), Prediction(uid='theowst', iid='Samsung Galaxy A5', r_ui=8.0, est=8.028796027721697, details={'was_impossible': False}), Prediction(uid='Anshul Chauhan', iid='OnePlus X (Onyx, 16GB)', r_ui=10.0, est=8.171468402648546, details={'was_impossible': False}), Prediction(uid='Amazon Customer', iid='Lenovo Vibe K5 (Grey, VoLTE update)', r_ui=10.0, est=8.780618684811575, details={'was_impossible': False}), Prediction(uid='john', iid='Apple iPhone 5 (Latest Model) - 16 GB - Black & Slate (Unlocked) Smartphone', r_ui=10.0, est=7.392848733226909, details={'was_impossible': False}), Prediction(uid='konstantin.bukotkin', iid='Nokia 5228', r_ui=10.0, est=8.02837141776555, details={'was_impossible': False}), Prediction(uid='Lumberman', iid='Samsung Galaxy Ace | Black', r_ui=8.0, est=8.040285714285714, details={'was_impossible': False}), Prediction(uid='Irene Maiden', iid='Apple iPhone 5C 8GB Factory Unlocked GSM Cell Phone - Blue', r_ui=10.0, est=8.040285714285714, details={'was_impossible': False}), Prediction(uid='angelus38', iid='Apple iPhone 3GS 32Go Noir', r_ui=9.0, est=8.040285714285714, details={'was_impossible': False}), Prediction(uid='omr', iid='CAT S60 32GB Sort', r_ui=10.0, est=8.040285714285714, details={'was_impossible': False}), Prediction(uid='Clowly', iid='BlackBerry : MarcaciÃƒÂ³n por voz 8800', r_ui=6.0, est=8.040285714285714, details={'was_impossible': False}), Prediction(uid='Monika', iid='Samsung Galaxy J5 - Smartphone de 5\" (1280 x 720 pixeles, TFT, 1,2 GHz, memoria interna de 8 GB, 4G), blanco', r_ui=10.0, est=8.040285714285714, details={'was_impossible': False}), Prediction(uid='habib60', iid='BlackBerry Curve 9380 Noir', r_ui=6.0, est=8.040285714285714, details={'was_impossible': False}), Prediction(uid='Brittany', iid='HTC One S 16GB GSM 3G Android - T-Mobile Gsm Unlocked - Black/Gray', r_ui=2.0, est=8.040285714285714, details={'was_impossible': False}), Prediction(uid='Oscar Soto', iid='HTC One M8 16GB Unlocked International GSM Unlocked Smartphone - Gunmetal Gray', r_ui=10.0, est=8.040285714285714, details={'was_impossible': False}), Prediction(uid='sharlottte', iid='Sony Ericsson W580i', r_ui=8.0, est=7.886524075087191, details={'was_impossible': False}), Prediction(uid='vpn1992', iid='Sony Xperia P', r_ui=10.0, est=8.341728524053915, details={'was_impossible': False}), Prediction(uid='Djo02 ', iid='Samsung Galaxy J3 2016 noir 8Go', r_ui=8.0, est=8.040285714285714, details={'was_impossible': False}), Prediction(uid='Janetsi Ramon Cordero \"Janetsi\"', iid='Samsung I9000 Galaxy S Unlocked GSM Smart Phone with 5 MP Camera, Android OS, Touchscreen, Wi-Fi, GPS and MicroSD...', r_ui=8.0, est=8.040285714285714, details={'was_impossible': False}), Prediction(uid='sergio', iid='Samsung UNLOCKED Samsung SGH-S275 S275M Quad Band GSM Flip Cell Phone with Camera, Bluetooth', r_ui=10.0, est=8.040285714285714, details={'was_impossible': False}), Prediction(uid='B. Vernes', iid='Nokia Lumia 925', r_ui=10.0, est=8.040285714285714, details={'was_impossible': False}), Prediction(uid='kathy \"Kathy\"', iid='Accessory Master Housse en cuir pour Sony Xperia Tipo St21i Noir', r_ui=8.0, est=8.040285714285714, details={'was_impossible': False}), Prediction(uid='pastello', iid='Asus ZenFone 2 Smartphone, Schermo da 5.5\" Full HD, Processore Quad Core 2,3 GHz, RAM 4 GB, 32 GB, 4G/LTE, Argento', r_ui=10.0, est=8.040285714285714, details={'was_impossible': False}), Prediction(uid='yÄ±lmaz', iid='Samsung (936) C3200 Monte Bar', r_ui=9.0, est=8.040285714285714, details={'was_impossible': False}), Prediction(uid='pastou2', iid='Samsung SGH J750', r_ui=4.0, est=8.040285714285714, details={'was_impossible': False}), Prediction(uid='THETRUTH36', iid='ic902 Deluxe', r_ui=9.0, est=8.040285714285714, details={'was_impossible': False}), Prediction(uid=nan, iid='Samsung I9105P Galaxy S II Plus Chic White EU [Android 4.1, 1,2 GHz Dual-Core-CPU, 10,9 cm Super AMOLED]', r_ui=10.0, est=8.052756803013382, details={'was_impossible': False}), Prediction(uid='nessuno', iid='Nec e949', r_ui=9.0, est=8.040285714285714, details={'was_impossible': False}), Prediction(uid='Cliente Amazon', iid='Cubot X16 smartphone 4G Android 5,1 LTE 5.0 FHD 1920 * 1080 MTK6735 Quad Core 2G RAM 16 G ROM Dual Sim Dual Standby Smartphone', r_ui=10.0, est=8.661053555646017, details={'was_impossible': False}), Prediction(uid=nan, iid='Sony Xperia ZR (Ð±ÐµÐ»Ñ‹Ð¹)', r_ui=9.0, est=8.052756803013382, details={'was_impossible': False}), Prediction(uid='Dh88', iid='Xperia Sony Xperia SP SIM-free Android Smartphone - White (discontinued by manufacturer)', r_ui=4.0, est=8.347203898074456, details={'was_impossible': False}), Prediction(uid='alexander antonov', iid='Sony Xperia Z3 Compact D5803 16GB 4G LTE 4.6\" Unlocked GSM Android Smartphone - Black - International Version No Warranty', r_ui=10.0, est=8.040285714285714, details={'was_impossible': False}), Prediction(uid='Mrs J Di-Carlo', iid='Samsung E1270 flip phone in white on Orange pay as you go', r_ui=8.0, est=8.040285714285714, details={'was_impossible': False}), Prediction(uid='Ð•Ð²Ñ�ÐµÐµÐ² Ð¡ÐµÑ€Ð³ÐµÐ¹', iid='Samsung Galaxy S5 Duos SM-G900FD', r_ui=10.0, est=8.040285714285714, details={'was_impossible': False}), Prediction(uid=\"Client d'Amazon\", iid=\"Doogee 5.0'' DOOGEE X5 MAX PRO IPS 4G Smartphone Android 6.0 Marshmallow MT6737 Quad Core 1.3GHz Mobile Phone 2GB RAM 16GB ROM Intelligent Wake Air Gestures Fingerprint Batterie 4000mAh Double ID GPS WIFI Noir\", r_ui=8.0, est=7.452012250606444, details={'was_impossible': False}), Prediction(uid='Theoneandonlyoungblood \"Kingda\"', iid='iPhone 5S 16 GB Gold', r_ui=2.0, est=8.040285714285714, details={'was_impossible': False}), Prediction(uid='Naidu Gasparetto', iid='Samsung Smartphone Samsung Galaxy Alpha Desbloqueado Android 4.4 Tela...', r_ui=10.0, est=8.040285714285714, details={'was_impossible': False}), Prediction(uid='Thomas', iid='Sim Free Apple iPhone SE 64GB Mobile Phone - Space Grey', r_ui=10.0, est=8.040285714285714, details={'was_impossible': False}), Prediction(uid='Marthy S.', iid='Nokia Lumia 1520 16GB Unlocked GSM 4G LTE Windows 8 Smartphone w/ Carl Zeiss Optics 20MP Camera - Yellow (No Warranty)', r_ui=10.0, est=8.040285714285714, details={'was_impossible': False}), Prediction(uid='a', iid='V&A Enterprises Motorola RAZR V3 Blue Sim Free Unlocked Mobile Phone', r_ui=2.0, est=8.040285714285714, details={'was_impossible': False}), Prediction(uid='BOB LECH AF2DX Wilderness Elite Survival Training/', iid='Sanyo Juno Prepaid Phone, Blue (Boost Mobile)', r_ui=10.0, est=8.040285714285714, details={'was_impossible': False}), Prediction(uid='vivi66', iid='BlackBerry Passport, Noir', r_ui=10.0, est=8.040285714285714, details={'was_impossible': False}), Prediction(uid='A Blanchard', iid='Nokia N96 16 GB Unlocked Phone with 5 MP Camera, 3G, GPS, Media Player, and Micro SD Slot--U.S. Version with Warranty (Black)', r_ui=8.0, est=8.040285714285714, details={'was_impossible': False}), Prediction(uid='metroII', iid='W385', r_ui=7.0, est=8.040285714285714, details={'was_impossible': False}), Prediction(uid='vadim.bakumov', iid='LG PRADA 3.0 P940', r_ui=8.0, est=8.040285714285714, details={'was_impossible': False}), Prediction(uid='badamyan.karen', iid='Nokia C7-00', r_ui=10.0, est=8.040285714285714, details={'was_impossible': False}), Prediction(uid='Thomas', iid='Samsung Galaxy S III Neo Smartphone (4,8 Zoll (12,2 cm) Touch-Display, 16 GB Speicher, Android 4.4) weiÃŸ', r_ui=2.0, est=8.040285714285714, details={'was_impossible': False}), Prediction(uid='Amazon Customer', iid='Sony Xperia Z3 Compact Smartphone (11,7 cm (4,6 Zoll) HD-TRILUMINOS-Display, 2,5 GHz-Quad-Core-Prozessor, 20,7 Megapixel-Kamera, Android 4.4) mandarinrot', r_ui=2.0, est=7.393381251049339, details={'was_impossible': False}), Prediction(uid='Amazon Customer', iid='Honor 7 Smartphone dÃ©bloquÃ© 4G (Ecran: 5,2 pouces - 16 Go - Double Nano SIM - Android 5.0 Lollipop) Argent/Blanc', r_ui=10.0, est=7.681002291295732, details={'was_impossible': False}), Prediction(uid='usamxtreme', iid='HTC One (M8)', r_ui=10.0, est=8.364477526905205, details={'was_impossible': False}), Prediction(uid='Giovanni', iid='Nokia Lumia 735 Smartphone, 8 GB, Grigio [Italia]', r_ui=10.0, est=8.202329397093674, details={'was_impossible': False}), Prediction(uid='Ko-Bi', iid='Motorola Timeport 250', r_ui=8.0, est=8.040285714285714, details={'was_impossible': False}), Prediction(uid='Big Red', iid='Nokia 2720 Fold Sim Free Mobile Phone', r_ui=2.0, est=8.040285714285714, details={'was_impossible': False}), Prediction(uid='samir bhojani', iid='Gionee M2 (Black, 8GB)', r_ui=8.0, est=8.205278926161155, details={'was_impossible': False}), Prediction(uid=nan, iid='Nokia Lumia 630 Dual sim', r_ui=8.0, est=8.052756803013382, details={'was_impossible': False}), Prediction(uid='Manu', iid='Microsoft Nokia N9 Smartphone (9,9 cm (3,9 Zoll) Display, 16GB, Touchscreen, 8 Megapixel Kamera) [EU-Import] schwarz', r_ui=10.0, est=8.040285714285714, details={'was_impossible': False}), Prediction(uid='Johnathan M. Burger', iid='SONY XPERIA Z3 D6603 LTE 16GB 5.2\" GSM Unlocked (Black) - International Version No Warranty', r_ui=8.0, est=8.040285714285714, details={'was_impossible': False}), Prediction(uid='Soumajit Saha', iid='HTC Desire 620G (Santroni White)', r_ui=4.0, est=7.566507517445461, details={'was_impossible': False}), Prediction(uid='honest.guy', iid='Nokia N70', r_ui=9.0, est=8.237411284820965, details={'was_impossible': False}), Prediction(uid='KIM HO TRONG', iid='BlackBerry Bold 9900 GSM Factory Unlocked Phone - No Warranty (Black)', r_ui=8.0, est=8.028637830961726, details={'was_impossible': False}), Prediction(uid=nan, iid='Apple iPhone 6 Plus 16Gb', r_ui=10.0, est=8.052756803013382, details={'was_impossible': False}), Prediction(uid='Hendrik MÃ¼ller', iid='Nokia 5530 XpressMusic Smartphone (WLAN, Touchscreen, 3D-Surround-Sound, Kamera mit 3,2 MP) black red', r_ui=10.0, est=8.040285714285714, details={'was_impossible': False}), Prediction(uid='paoloeolga', iid='Nokia 808 PureView', r_ui=2.0, est=8.040285714285714, details={'was_impossible': False}), Prediction(uid='KB1', iid='Virgin Nokia 215 Mobile Phone - Black', r_ui=8.0, est=8.040285714285714, details={'was_impossible': False}), Prediction(uid='pasmarjor', iid=\"Buyus X2 Film Protecteur d'Ã©cran VITRE en VERRE TREMPE pour Samsung Galaxy A5 2017 Ultra Transparent Ultra RÃ©sistant INRAYABLE INVISIBLE (2 exemplaires) - A5 (2017) A520\", r_ui=4.0, est=8.217762902788664, details={'was_impossible': False}), Prediction(uid='Becky K.', iid='LG Extravert 2, Blue (Verizon Wireless)', r_ui=2.0, est=8.040285714285714, details={'was_impossible': False}), Prediction(uid='Arta891404', iid='Cubot S308 16GB White, 5.0 inch 3G Android 4.2 Smart Phone, MT6582A Quad Core 1.3GHz, RAM: 2GB, Dual SIM, WCDMA & GSM', r_ui=2.0, est=8.040285714285714, details={'was_impossible': False}), Prediction(uid='Giuseppe Licata', iid='Apple iPhone 5C 16GB - sbloccato - blu / ciano', r_ui=10.0, est=8.040285714285714, details={'was_impossible': False}), Prediction(uid='hemlighet', iid='Samsung Galaxy S6 edge+ 32GB Smartphone (guld)', r_ui=6.0, est=8.040285714285714, details={'was_impossible': False}), Prediction(uid='LINDA', iid='Samsung Galaxy S7 Edge 32GB - Black', r_ui=10.0, est=8.040285714285714, details={'was_impossible': False}), Prediction(uid='T. D.', iid='ASUS Computer Zenfone 2 ZE551ML 4G Android 5.0 Lollipop Smartphone 5.5\" Intel Z3580 1.8GHz 4GB RAM 32GB ROM 1920 * 1080 13.0MP Kamera (Rot)', r_ui=8.0, est=8.040285714285714, details={'was_impossible': False}), Prediction(uid='Testah', iid='Microsoft Nokia C2-00 Handy (Dual-Sim Handy, 4,6 cm (1,8 Zoll) Display, Bluetooth, MP3, E-Mail, VGA Kamera) schwarz', r_ui=2.0, est=8.040285714285714, details={'was_impossible': False}), Prediction(uid='Jussi53', iid='Apple iPhone 7 256 Gt â€�puhelin, ruusukulta', r_ui=10.0, est=8.040285714285714, details={'was_impossible': False}), Prediction(uid='samuel', iid='Motorola Moto G Turbo (White, 16GB)', r_ui=4.0, est=8.024979793197083, details={'was_impossible': False}), Prediction(uid='bymiknatis', iid='SAMSUNG D900i CEP TELEFONU', r_ui=10.0, est=8.040285714285714, details={'was_impossible': False}), Prediction(uid='Ronbosch', iid='Samsung Galaxy S6 zwart / 32 GB', r_ui=9.0, est=8.331799664842698, details={'was_impossible': False}), Prediction(uid='LR90', iid='Huawei Ascend P7 zwart / 16 GB', r_ui=10.0, est=8.040285714285714, details={'was_impossible': False}), Prediction(uid='Dldaves91', iid='HTC Desire Black (Virgin Mobile)', r_ui=8.0, est=8.040285714285714, details={'was_impossible': False}), Prediction(uid='Vincent', iid='Samsung Galaxy S6 Edge 64 GB UK SIM-Free Android Smartphone - Black', r_ui=10.0, est=8.040285714285714, details={'was_impossible': False}), Prediction(uid='CARLOS COLONNA', iid='BlackBerry Curve 8310', r_ui=8.0, est=8.040285714285714, details={'was_impossible': False}), Prediction(uid='trifonovskill', iid='Nokia N73', r_ui=8.0, est=7.845482061213956, details={'was_impossible': False}), Prediction(uid='Eduardo', iid='Samsung Galaxy S5 SM-G900F 16GB Factory Unlocked Cellphone International Version, Retail Packaging, Black', r_ui=10.0, est=8.040285714285714, details={'was_impossible': False}), Prediction(uid='StefanSchmitt', iid='Nokia 8910i', r_ui=4.0, est=8.040285714285714, details={'was_impossible': False}), Prediction(uid='Juan', iid='TP-Link AC1300 Wireless Dual Band PCI-Express Adapter (Archer T6E)', r_ui=10.0, est=8.040285714285714, details={'was_impossible': False}), Prediction(uid='Hardware-Tester', iid='Sony Ericsson Xperia X10 Smartphone (10,1 cm (4 Zoll) Touchscreen, Android 2.3 OS, Timescape, Mediascape, 8.1 MP Kamera, GPS) Sensuous Black', r_ui=10.0, est=8.040285714285714, details={'was_impossible': False}), Prediction(uid=nan, iid='Samsung Galaxy S5 SM-G900F 16Gb', r_ui=10.0, est=8.052756803013382, details={'was_impossible': False}), Prediction(uid='itsaboy1104', iid='Motorola Crush', r_ui=9.0, est=8.040285714285714, details={'was_impossible': False}), Prediction(uid='Alejandro Cortes', iid='Samsung Galaxy Ace 4', r_ui=6.0, est=8.040285714285714, details={'was_impossible': False}), Prediction(uid='moreno', iid='Samsung Smartphone Galaxy Y Hello Kitty Display 3,14 Pollici, Colore Primario Bianco', r_ui=10.0, est=8.022731065912058, details={'was_impossible': False}), Prediction(uid='Raha', iid='Samsung Galaxy Gio (S5660) Smartphone (8,13 cm (3,2 Zoll) Touchscreen, 3 Megapixel Kamera, Android 2.3.3) silber', r_ui=2.0, est=7.698112212359949, details={'was_impossible': False}), Prediction(uid='Amazon Customer', iid='LG Optimus Slider Prepaid Android Phone (Virgin Mobile)', r_ui=10.0, est=7.393381251049339, details={'was_impossible': False}), Prediction(uid='Amazon Kunde', iid='LG Electronics K10 Smartphone (5,3 Zoll (13,5 cm) Touch-Display, 16 GB Speicher, Android 5.1) weiÃŸ', r_ui=8.0, est=6.10389770059578, details={'was_impossible': False}), Prediction(uid='Kara Francis', iid='LG G Flex AT&T D950 4G LTE Unlocked Android Phone', r_ui=8.0, est=8.040285714285714, details={'was_impossible': False}), Prediction(uid='Marco Z.', iid='Apple iPhone 7 4,7\" 32 GB', r_ui=10.0, est=8.278803435606251, details={'was_impossible': False}), Prediction(uid='Amazon Customer', iid='Sony Xperia X UK SIM-Free Smartphone - Rose Gold', r_ui=10.0, est=7.393381251049339, details={'was_impossible': False}), Prediction(uid='ElaluvsSamsung ', iid='Samsung Galaxy S6 edge 32GB (AT&T)', r_ui=10.0, est=8.03586599304951, details={'was_impossible': False}), Prediction(uid='Alesandreas', iid='Nokia 6230i', r_ui=10.0, est=8.034661982047261, details={'was_impossible': False}), Prediction(uid='LJ', iid='Samsung Galaxy S4, White Frost 16GB (Verizon Wireless)', r_ui=10.0, est=8.040285714285714, details={'was_impossible': False}), Prediction(uid='Diego A.', iid='Huawei P8 lite Smartphone, Display 5.0\" IPS, Dual Sim, Processore Octa-Core, Memoria 16 GB, Fotocamera 13 MP, Android 5.0, Bianco', r_ui=8.0, est=7.735924917926697, details={'was_impossible': False}), Prediction(uid='vinay sharma', iid='LG Optimus Black', r_ui=2.0, est=8.040285714285714, details={'was_impossible': False}), Prediction(uid='JNS', iid='Micromax Canvas Fire 4 A107 (Cosmic Grey, 8GB)', r_ui=10.0, est=8.040285714285714, details={'was_impossible': False}), Prediction(uid='granite20', iid='T-Mobile MyTouch', r_ui=2.0, est=8.040285714285714, details={'was_impossible': False}), Prediction(uid='Julie', iid='Apple iPhone 6 Smartphone dÃ©bloquÃ© 4G (Ecran : 4.7 pouces - 128 Go - iOS 8) Argent', r_ui=2.0, est=8.251834246431008, details={'was_impossible': False}), Prediction(uid='guru', iid='Apple iPhone 4S (White, 8GB)', r_ui=8.0, est=8.040285714285714, details={'was_impossible': False}), Prediction(uid='MarÃ\\xada Gabriela GÃ³mez Parejo', iid='Samsung Galaxy S III/S3 GT-I9300 Unlocked International Version No Warranty Blue', r_ui=6.0, est=8.040285714285714, details={'was_impossible': False}), Prediction(uid='someblokeinsurrey', iid='Nokia E51 Sim Free Mobile Phone - Black Steel with Camera', r_ui=8.0, est=8.040285714285714, details={'was_impossible': False}), Prediction(uid='Amazon Customer', iid='Lenovo Vibe K5 (Grey)', r_ui=6.0, est=2.7198040688639624, details={'was_impossible': False}), Prediction(uid='Michael Dunton', iid='Motorola Razr V3 (Unlocked) Silver', r_ui=2.0, est=8.040285714285714, details={'was_impossible': False}), Prediction(uid='Jack01', iid='Apple iPhone 4 16Gb', r_ui=10.0, est=8.040285714285714, details={'was_impossible': False}), Prediction(uid='sedatkumcu', iid='SONY ERICSSON W205 CEP TELEFONU', r_ui=2.0, est=8.040285714285714, details={'was_impossible': False}), Prediction(uid='PNNo9', iid='Sony Ericsson W395 blush titanium Handy', r_ui=4.0, est=8.040285714285714, details={'was_impossible': False}), Prediction(uid='Doris Bonnah', iid='Lumia Microsoft Nokia Lumia 640 RM-1073 Unlocked Phone (Black)', r_ui=10.0, est=8.040285714285714, details={'was_impossible': False}), Prediction(uid='Nlprescod', iid='Zopo ZP998 Quad Core 5 Inch Android 4.2 Phone - 1.5GHz CPU, 2GB RAM, 32GB Internal Memory', r_ui=10.0, est=8.040285714285714, details={'was_impossible': False}), Prediction(uid='Amazon Customer', iid='Huawei P8 lite Unlocked Android 4G LTE Smartphone, Octa Core (Black)', r_ui=8.0, est=7.393381251049339, details={'was_impossible': False}), Prediction(uid='Nilesh V Pathare', iid='HTC Desire 820s (Milkyway Gray, 16GB)', r_ui=8.0, est=8.040285714285714, details={'was_impossible': False}), Prediction(uid='E. W.', iid='Prada phone by LG 3.0 Smartphone (10,9 cm (4,3 Zoll) NOVA Touchscreen, 8 Megapixel Kamera, Android 4.0 OS) schwarz', r_ui=10.0, est=8.040285714285714, details={'was_impossible': False}), Prediction(uid='Pavan kumar', iid='Motorola Moto G Turbo (White, 16GB)', r_ui=10.0, est=8.024979793197083, details={'was_impossible': False}), Prediction(uid='nandita', iid='Nokia 105 (Black)', r_ui=8.0, est=8.040285714285714, details={'was_impossible': False}), Prediction(uid='pars-online', iid='Nokia N95', r_ui=8.0, est=8.720316795229666, details={'was_impossible': False}), Prediction(uid='AchimFss', iid='Apple iPhone 6 Gold 128GB SIM-Free Smartphone (Zertifiziert und GeneralÃ¼berholt)', r_ui=2.0, est=7.698939299315423, details={'was_impossible': False}), Prediction(uid='LoverboySkay', iid='Lenovo K6 Note (Dark Grey)', r_ui=10.0, est=8.040285714285714, details={'was_impossible': False}), Prediction(uid='bakary', iid='Cubot X9 Smartphone, 3G WCDMA con Dual SIM y GPS, Octa Core; Ultra Fino; pantalla de 5 pulgadas, con 1280 * 720 pÃ\\xadxeles; SO de Android 4.4, KitKat MTK6592, cÃ¡maras duales 13 MP/8MP; 2 GB RAM/16GB ROM', r_ui=10.0, est=8.040285714285714, details={'was_impossible': False}), Prediction(uid='flatronl19175', iid='Sony-Ericsson Vivaz', r_ui=10.0, est=8.18757422063061, details={'was_impossible': False}), Prediction(uid='egeliege', iid='Vodafone (69) 945', r_ui=9.0, est=8.122270934200948, details={'was_impossible': False}), Prediction(uid='Alisha', iid='Samsung Galaxy S7 G930F 32GB Factory Unlocked GSM Smartphone International Version (Gold)', r_ui=4.0, est=8.039171302842824, details={'was_impossible': False}), Prediction(uid='Sanjib Saha', iid='Lenovo Vibe K4 Note (White,16GB)', r_ui=8.0, est=8.013382259866184, details={'was_impossible': False}), Prediction(uid='Sandra Beleviciute', iid='BlackBerry Bold 9900 Sim Free Mobile Phone-Black', r_ui=8.0, est=8.040285714285714, details={'was_impossible': False}), Prediction(uid='Amazon Customer', iid='Samsung Galaxy S6, Black Sapphire 32GB (Verizon Wireless)', r_ui=6.0, est=7.362538283484851, details={'was_impossible': False}), Prediction(uid='FERNANDAPD', iid='Motorola RAZR V3', r_ui=8.0, est=8.206449372156685, details={'was_impossible': False}), Prediction(uid='Daniel Wentzlaff', iid='Honor Holly Smartphone (5 Zoll (12,7 cm) Touch-Display, 16 GB Speicher, Android 4.4) schwarz / weiÃŸ', r_ui=10.0, est=8.040285714285714, details={'was_impossible': False}), Prediction(uid=nan, iid='HTC Desire S', r_ui=10.0, est=6.931818246303337, details={'was_impossible': False}), Prediction(uid='xhesi', iid='Samsung Galaxy S5 SIM-Free Smartphone - White', r_ui=10.0, est=8.040285714285714, details={'was_impossible': False}), Prediction(uid='Spcummings', iid='Apple iPhone 4 Verizon Cellphone, 8GB, Black', r_ui=10.0, est=8.040285714285714, details={'was_impossible': False}), Prediction(uid=nan, iid='Motorola RAZR MAXX', r_ui=10.0, est=8.052756803013382, details={'was_impossible': False}), Prediction(uid='Alexpopoto', iid='Meizu M2 Note Smartphone dÃ©bloquÃ© 4G (Ecran: 5,5 pouces - 16 Go - Double Nano-SIM - Android 5.1 Lollipop) Blanc', r_ui=8.0, est=8.040285714285714, details={'was_impossible': False}), Prediction(uid='anoymus', iid='OnePlus 3 (Graphite, 64 GB)', r_ui=10.0, est=8.431746037319861, details={'was_impossible': False}), Prediction(uid='ProdigyG', iid='Sony XPERIA M2', r_ui=8.0, est=8.040285714285714, details={'was_impossible': False}), Prediction(uid='JPABLOLP82', iid='BlackBerry Pearl Flip 8220', r_ui=10.0, est=8.194771806068214, details={'was_impossible': False}), Prediction(uid='vero faure', iid='Nokia 2720 Fold TÃ©lÃ©phone portable Ecran 1,8\" Bluetooth Appareil photo 1,3 Mpix mp3 Radio FM Noir', r_ui=4.0, est=8.040285714285714, details={'was_impossible': False}), Prediction(uid=nan, iid='Samsung Galaxy S7 Edge 64Gb', r_ui=8.0, est=8.052756803013382, details={'was_impossible': False}), Prediction(uid='mmoon', iid='BLU Dash JR D141W Dual Sim Factory Unlocked Android Smartphone', r_ui=8.0, est=8.040285714285714, details={'was_impossible': False}), Prediction(uid='Edixon Diaz', iid='Doogee VOYAGER2 DG310 5\" IPS FWVGA Screen MTK6582 1.3GHz Quad core Quadband Dual SIM Dual Standby Anroid4.4 RAM 1G ROM 8G Cellphone Mobile Phone 3G Phone Smartphone with Smart Wake WiFi 5.0MP 13.0MP Camera GPS Bluetooth 4.0 (White)', r_ui=10.0, est=8.040285714285714, details={'was_impossible': False}), Prediction(uid='Noel', iid='Siemens C35i', r_ui=8.0, est=8.1475039346809, details={'was_impossible': False}), Prediction(uid='Amazon Customer', iid='OnePlus 3 (Soft Gold, 64 GB)', r_ui=10.0, est=9.687376699062852, details={'was_impossible': False}), Prediction(uid='Nurr', iid='Samsung Galaxy S6 zwart / 32 GB', r_ui=8.0, est=8.331799664842698, details={'was_impossible': False}), Prediction(uid='Aireen', iid='Samsung C3050 Handy (VGA-Kamera, MP3-Player, WAP, Quad Band) [EU-Version] midnight-black', r_ui=8.0, est=8.040285714285714, details={'was_impossible': False}), Prediction(uid='henry9645', iid='Sony Ericsson T303', r_ui=6.0, est=8.040285714285714, details={'was_impossible': False}), Prediction(uid='T. Becker', iid='Samsung Galaxy S3 mini I8190 Smartphone (4 Zoll (10,2 cm) Touch-Display, 8 GB Speicher, Android 4.1) pebble-blau', r_ui=10.0, est=8.040285714285714, details={'was_impossible': False}), Prediction(uid='Luke', iid='Samsung Galaxy Y', r_ui=2.0, est=8.040285714285714, details={'was_impossible': False}), Prediction(uid='JÃ¼rgen', iid='Microsoft Nokia Asha 300 Handy (6,1 cm (2,4 Zoll) Display, Touchscreen, 5 Megapixel Kamera) Graphite', r_ui=10.0, est=8.040285714285714, details={'was_impossible': False}), Prediction(uid='totalteam', iid='Xiaomi ÐœÐ¾Ð±Ð¸Ð»ÑŒÐ½Ñ‹Ð¹ Ñ‚ÐµÐ»ÐµÑ„Ð¾Ð½ Xiaomi Mi4C', r_ui=10.0, est=8.040285714285714, details={'was_impossible': False}), Prediction(uid='hashbrown', iid='BlackBerry Z30', r_ui=9.0, est=8.196101260415315, details={'was_impossible': False}), Prediction(uid='ÐžÐ»ÐµÐ³', iid='Samsung I8190 Galaxy S III mini 8GB (Ð±ÐµÐ»Ñ‹Ð¹)', r_ui=9.0, est=8.382802109153388, details={'was_impossible': False}), Prediction(uid='Amazon Customer', iid='OnePlus 3 (Graphite, 64 GB)', r_ui=6.0, est=7.129065741861929, details={'was_impossible': False}), Prediction(uid=nan, iid='SGH-N105', r_ui=5.0, est=8.052756803013382, details={'was_impossible': False}), Prediction(uid='AlphaSky', iid='Microsoft Lumia 930 Smartphone (5 Zoll (12,7 cm) Touch-Display, 32 GB Speicher, Windows 8.1) weiÃŸ', r_ui=4.0, est=8.040285714285714, details={'was_impossible': False}), Prediction(uid='Cliente Amazon', iid='Samsung G355 Galaxy Core 2 Smartphone, 4 GB, Nero [Italia]', r_ui=2.0, est=8.351677474217013, details={'was_impossible': False}), Prediction(uid='Len', iid='Huawei P8 Lite Black', r_ui=10.0, est=8.040285714285714, details={'was_impossible': False}), Prediction(uid='Ð�Ð»Ð¸Ð½Ð°', iid='Microsoft Lumia 430 Dual Sim', r_ui=10.0, est=8.197036051281447, details={'was_impossible': False}), Prediction(uid='Liron', iid='Samsung Galaxy S7 edge SM-G935F 32GB Smartphone (Unlocked, Blue)', r_ui=10.0, est=8.341785299389212, details={'was_impossible': False}), Prediction(uid='Amazon Customer', iid='Lenovo Vibe K5 (Grey, VoLTE update)', r_ui=2.0, est=8.780618684811575, details={'was_impossible': False}), Prediction(uid='Gregory Demidchik', iid='Nokia 3720 Classic Grey IP54 Unlocked Rugged Mobile Phone Genuine', r_ui=8.0, est=8.040285714285714, details={'was_impossible': False}), Prediction(uid=\"Tweetly's Beauty\", iid='HTC Imagio XV6975 Unlocked Phone with Windows Mobile 6.5, Touchscreen, GPS, Wi-Fi and 5 MP Camera - Unlocked Phone - US Warranty - Black', r_ui=8.0, est=8.040285714285714, details={'was_impossible': False}), Prediction(uid='Himanshu Bhagat', iid='OnePlus 3 (Graphite, 64 GB)', r_ui=2.0, est=8.431746037319861, details={'was_impossible': False}), Prediction(uid=\"Client d'Amazon\", iid='Apple iPhone 6s Smartphone dÃ©bloquÃ© 4G (Ecran : 4,7 pouces - 128 Go - iOS 9) Rose', r_ui=10.0, est=7.452012250606444, details={'was_impossible': False}), Prediction(uid='Vicky', iid='ZTE Unlocked ZTE Z222 Flip Phone With Camera For ATT, T-Mobile and Other Supported GSM Networks. Internet, Bluetooth 2.0+EDR', r_ui=2.0, est=8.040285714285714, details={'was_impossible': False}), Prediction(uid='Cowboy', iid='VERIZON LG OCTANE CELL PHONE!', r_ui=6.0, est=8.19726929113943, details={'was_impossible': False}), Prediction(uid='jonatas mthias', iid='Smartphone Motorola Moto Maxx XT1225', r_ui=8.0, est=8.040285714285714, details={'was_impossible': False}), Prediction(uid='Ð¡Ñ‚Ð°Ð½Ð¸Ñ�Ð»Ð°Ð²', iid='Sony Xperia TX (Ñ‡ÐµÑ€Ð½Ñ‹Ð¹)', r_ui=10.0, est=8.040285714285714, details={'was_impossible': False}), Prediction(uid='Moonaliisa75 ', iid='Samsung Galaxy J5 â€�Android-puhelin, musta', r_ui=8.0, est=8.040285714285714, details={'was_impossible': False}), Prediction(uid='jojosalles', iid='Archos 28 Internet Tablet 4Go', r_ui=8.0, est=8.040285714285714, details={'was_impossible': False}), Prediction(uid='Laughingcow', iid='Motorola V300', r_ui=10.0, est=8.040285714285714, details={'was_impossible': False}), Prediction(uid='Mrs. Marie McGuinness', iid='Samsung Galaxy S7 32GB UK SIM-Free Smartphone - Gold', r_ui=10.0, est=8.212281088249995, details={'was_impossible': False}), Prediction(uid=nan, iid='Nokia 603', r_ui=10.0, est=8.052756803013382, details={'was_impossible': False}), Prediction(uid='spaw4', iid='Apple iPhone 4S 16Gb', r_ui=10.0, est=8.197117370343788, details={'was_impossible': False}), Prediction(uid='Rubis', iid='Samsung SGH Z720', r_ui=10.0, est=8.040285714285714, details={'was_impossible': False}), Prediction(uid='Nicola', iid='Asus ZenFone 2 Laser Smartphone, Display da 5\", 16 GB, Dual SIM, Nero [Italia]', r_ui=6.0, est=8.290193730683235, details={'was_impossible': False}), Prediction(uid='SHERRIA', iid='Alcatel One Touch ONETOUCH IDOL8482; MINI SMARTPHONE (Unlocked)', r_ui=10.0, est=8.040285714285714, details={'was_impossible': False}), Prediction(uid='Pauline', iid='Apple iPhone 6s, 32Gb - Rose Gold', r_ui=10.0, est=8.040285714285714, details={'was_impossible': False}), Prediction(uid='huliye', iid='LG KF240 Cep Telefonu', r_ui=9.0, est=8.040285714285714, details={'was_impossible': False}), Prediction(uid='Jakob S.', iid='Lenovo Motorola Moto X Smartphone (11,9 cm (4,7 Zoll) AMOLED-Touchscreen, 10 Megapixel Kamera, 2GB RAM, 16GB interner Speicher, Nano-SIM-Steckplatz, Android 4.4) schwarz', r_ui=8.0, est=8.040285714285714, details={'was_impossible': False}), Prediction(uid='Feyfaaant', iid='BLACKBERRY Curve 8520', r_ui=9.0, est=8.040285714285714, details={'was_impossible': False}), Prediction(uid='lahey', iid='Nokia N8', r_ui=10.0, est=8.30652444894963, details={'was_impossible': False}), Prediction(uid='MaPP661', iid='LG Optimus Elite (Virgin Mobile), Black, VM696 Model', r_ui=10.0, est=7.567069049309175, details={'was_impossible': False}), Prediction(uid='Amazon Kunde', iid='Apple iPhone SE Smartphone (4 Zoll (10,2 cm) Touch-Display, 64 GB Speicher, IOS) rosegold', r_ui=10.0, est=6.10389770059578, details={'was_impossible': False}), Prediction(uid='Ð¡Ð°Ð²Ñ€Ð°Ð´ÐµÐ¹ Ð�Ð½Ð´Ñ€ÐµÐ¹ Ð�Ð½Ð°Ñ‚Ð¾Ð»ÑŒÐµÐ²Ð¸Ñ‡', iid='Apple iPhone 3G 8Gb', r_ui=8.0, est=8.040285714285714, details={'was_impossible': False}), Prediction(uid='ÐšÐ¾Ñ€Ð¾Ñ‚ÑŽÐº ÐžÐ»ÐµÐºÑ�Ð°Ð½Ð´Ñ€ Ð’?ÐºÑ‚Ð¾Ñ€Ð¾Ð²Ð¸Ñ‡', iid='Apple iPhone 4 16Gb', r_ui=10.0, est=8.040285714285714, details={'was_impossible': False}), Prediction(uid='Joseph C. Murray', iid='Motorola Moto G (3rd Generation) No Contract Phone (Virgin Mobile) - Retail Packaging', r_ui=6.0, est=8.040285714285714, details={'was_impossible': False}), Prediction(uid=nan, iid='Apple iPhone 16Gb', r_ui=10.0, est=8.052756803013382, details={'was_impossible': False}), Prediction(uid='Ricksen Van', iid='Apple iPhone 5C 8GB Factory Unlocked GSM Cell Phone - Blue', r_ui=10.0, est=8.040285714285714, details={'was_impossible': False}), Prediction(uid='Amazon Customer', iid='Sony Xperia M4 Aqua E2363 Dual SIM 5.0-Inch Factory Unlocked Smartphone (Black) - International Stock No Warranty', r_ui=6.0, est=7.393381251049339, details={'was_impossible': False}), Prediction(uid='Ð§ÐµÐ»Ð¾Ð²ÐµÐº', iid='Sony Xperia Z1 Compact (Ñ€Ð¾Ð·Ð¾Ð²Ñ‹Ð¹)', r_ui=9.0, est=8.215685932794882, details={'was_impossible': False}), Prediction(uid='Lorraine D.', iid='Apple iPhone 5S UNLOCKED SIM FREE 64GB, Space Grey', r_ui=8.0, est=8.204000278177475, details={'was_impossible': False}), Prediction(uid='saime', iid='Galaxy Y Pro B5510', r_ui=9.0, est=8.040285714285714, details={'was_impossible': False}), Prediction(uid='Amazon Customer', iid='Apple iPhone 5 Unlocked Cellphone, 32GB, Black', r_ui=6.0, est=7.393381251049339, details={'was_impossible': False}), Prediction(uid='Eva-Maria Bergert', iid='Samsung Galaxy S3 mini I8190 Smartphone (4 Zoll (10,2 cm) Touch-Display, 8 GB Speicher, Android 4.1) pebble-blau', r_ui=10.0, est=8.040285714285714, details={'was_impossible': False}), Prediction(uid='ÐœÐ°ÐºÑ�Ð¸Ð¼', iid='Ð¢ÐµÐ»ÐµÑ„Ð¾Ð½ LG P500 Optimus One Black', r_ui=10.0, est=8.040285714285714, details={'was_impossible': False}), Prediction(uid='Amazon Customer', iid='Tracfone Motorola Moto E Android Prepaid Phone with Triple Minutes (Tracfone)', r_ui=2.0, est=6.816960690589623, details={'was_impossible': False}), Prediction(uid='Ð—Ð°Ð²Ð¾Ñ€Ð¾Ð²Ñ�ÐºÐ¸Ð¹ Ð˜Ð²Ð°Ð½ Ð�Ð»ÐµÐºÑ�ÐµÐµÐ²Ð¸Ñ‡', iid='Ð¡Ð¾Ñ‚Ð¾Ð²Ñ‹Ð¹ Ñ‚ÐµÐ»ÐµÑ„Ð¾Ð½ Samsung GT-C3212 Red', r_ui=9.0, est=8.040285714285714, details={'was_impossible': False}), Prediction(uid='Bullishmrjim', iid='Samsung Galaxy S5 SM-G900A 16GB AT&T Branded Smartphone (Unlocked, Copper Gold)', r_ui=8.0, est=8.040285714285714, details={'was_impossible': False}), Prediction(uid='Ed Osworth \"The Joy Professor\"', iid='Samsung Galaxy S II, White (Boost Mobile)', r_ui=10.0, est=8.040285714285714, details={'was_impossible': False}), Prediction(uid='Gloch', iid='BlackBerry 8220 Pearl Flip Sim Free Mobile Phone', r_ui=2.0, est=8.040285714285714, details={'was_impossible': False}), Prediction(uid='ÐœÑƒÑ…Ð¾Ñ€Ñ‚Ð¾Ð² Ð”Ð¼Ð¸Ñ‚Ñ€Ð¸Ð¹', iid='Samsung Wave Y GT-S5380', r_ui=6.0, est=8.040285714285714, details={'was_impossible': False}), Prediction(uid='Harold Miller', iid='Motorola Droid 3 Verizon Xt862 Verizon Cell Phone', r_ui=6.0, est=8.05098979083742, details={'was_impossible': False}), Prediction(uid='Amazon Customer', iid='Lenovo Vibe K5 (Grey, VoLTE update)', r_ui=8.0, est=8.780618684811575, details={'was_impossible': False}), Prediction(uid='Ð£ÑˆÐ°ÐºÐ¾Ð² Ð¡ÐµÑ€Ñ‘Ð³Ð°', iid='Nokia Asha 502 Dual SIM', r_ui=6.0, est=8.040285714285714, details={'was_impossible': False}), Prediction(uid='CLEIDSON ROBERTO BARBOSA AMORIM', iid='Smartphone Samsung Galaxy S5 Mini Duos G800H Desbloqueado Branco', r_ui=9.0, est=8.040285714285714, details={'was_impossible': False}), Prediction(uid='Linkinparking', iid='Huawei P8 Lite Smartphone, Display 5\" IPS, Processore Octa-Core 1.2 GHz, Memoria Interna da 16 GB, 2 GB RAM, Fotocamera 13 MP, monoSIM, Android 5.0, Nero [Italia]', r_ui=10.0, est=8.040285714285714, details={'was_impossible': False}), Prediction(uid='Amazon Customer', iid='Samsung Gusto 3 Verizon CDMA Page Plus No Contract Flip Cell Phone - Midnight Blue', r_ui=2.0, est=7.393381251049339, details={'was_impossible': False}), Prediction(uid='Ð¶ÐµÐºÐ°', iid='OPPO Find 5', r_ui=2.0, est=8.040285714285714, details={'was_impossible': False}), Prediction(uid='wayli.anton', iid='Apple iPhone 4 32Gb', r_ui=8.0, est=8.190755664914011, details={'was_impossible': False}), Prediction(uid=nan, iid='Sony Ericsson K550i', r_ui=9.0, est=8.356937875991997, details={'was_impossible': False}), Prediction(uid='carlo14', iid='Nokia 3310', r_ui=10.0, est=8.345981246093615, details={'was_impossible': False}), Prediction(uid='TARTCAMP', iid='BlackBerry Curve 8310', r_ui=6.0, est=8.040285714285714, details={'was_impossible': False}), Prediction(uid='Ð´Ð¸Ð¸Ñ‚Ñ€Ð¸Ð¹', iid='Samsung Galaxy S4 mini Duos GT-I9192 (Ñ‡ÐµÑ€Ð½Ñ‹Ð¹)', r_ui=9.0, est=8.167404525635789, details={'was_impossible': False}), Prediction(uid='Ð”Ð°ÑˆÐ° Ð¢Ñ€ÐµÑ‰Ñ‘Ð²Ð°', iid='Sony Xperia TX', r_ui=10.0, est=8.126998929683198, details={'was_impossible': False}), Prediction(uid='Mr. G. A. Carter \"Alan Carter\"', iid='Nokia Samsung B2100 Solid Extreme SIM Free Mobile Phone - DARK GREEN', r_ui=10.0, est=8.040285714285714, details={'was_impossible': False}), Prediction(uid='Frank', iid='Apple iPhone 5 Wit 64GB', r_ui=10.0, est=8.133519739886463, details={'was_impossible': False}), Prediction(uid='Denis', iid='Huawei P8lite zwart / 16 GB', r_ui=8.0, est=8.400249353537932, details={'was_impossible': False}), Prediction(uid='cassidy', iid='HTC Desire', r_ui=10.0, est=8.407263963018293, details={'was_impossible': False}), Prediction(uid='Joe Rhodes', iid='Global Services Samsung Galaxy S3 I535 16GB Unlocked GSM 4G LTE Cell Phone - Marble White', r_ui=4.0, est=8.040285714285714, details={'was_impossible': False}), Prediction(uid='Amazon Customer', iid='Samsung Galaxy S5 G900FD DUAL SIM GSM Phone - Gold - Factory Unlocked International Version - No-Warranty', r_ui=8.0, est=7.393381251049339, details={'was_impossible': False}), Prediction(uid='Starchip', iid='Nokia 3310', r_ui=8.0, est=8.345981246093615, details={'was_impossible': False}), Prediction(uid='hopeEternal', iid='Samsung Gravity T456/T459 Unlocked Phone with QWERTY Keyboard, 1.3 MP Camera, Bluetooth and Music Player - No Warranty - White', r_ui=4.0, est=8.040285714285714, details={'was_impossible': False}), Prediction(uid='ÐœÑ�Ñ�Ð¸Ð½ Ð�Ð½Ñ‚Ð¾Ð½', iid='Ð¡Ð¾Ñ‚Ð¾Ð²Ñ‹Ð¹ Ñ‚ÐµÐ»ÐµÑ„Ð¾Ð½ Nokia 5130 XpressMusic Blue', r_ui=9.0, est=8.040285714285714, details={'was_impossible': False}), Prediction(uid='Amazon Customer', iid='Motorola Moto G5 (3 GB, Fine Gold)', r_ui=8.0, est=7.393381251049339, details={'was_impossible': False}), Prediction(uid='Amazon Customer', iid='Huawei Nexus 6P unlocked smartphone, 32GB Silver (US Warranty)', r_ui=10.0, est=7.023888770371001, details={'was_impossible': False}), Prediction(uid='GMC', iid='Samsung Galaxy J7 LTE (2016) J710M/DS 16GB - 5.5\" Dual SIM Factory Unlocked Phone (Gold) - International Version', r_ui=10.0, est=8.040285714285714, details={'was_impossible': False}), Prediction(uid='F. Savastano', iid='BLU Dash 5.0 D410a Unlocked Dual SIM GSM Phone (Black)', r_ui=10.0, est=8.040285714285714, details={'was_impossible': False}), Prediction(uid='Talli', iid='Geemarc CL8400 Amplified Clamshell Phone', r_ui=10.0, est=8.040285714285714, details={'was_impossible': False}), Prediction(uid='MRS H.', iid='Apple iPhone 5c Green 8GB (UK Version) SIM-Free Smartphone', r_ui=8.0, est=8.040285714285714, details={'was_impossible': False}), Prediction(uid=nan, iid='Ericsson T10s', r_ui=4.0, est=7.593690267106855, details={'was_impossible': False}), Prediction(uid='DUMBETS2007', iid='LG GX200', r_ui=10.0, est=8.161454175639895, details={'was_impossible': False}), Prediction(uid='CHERBONNIERS2', iid='Motorola W375', r_ui=10.0, est=8.040285714285714, details={'was_impossible': False}), Prediction(uid='Erol Sirek', iid='Samsung SGH-X820 (2 MP-Kamera, MP3-Player, Tri-Band) Handy', r_ui=2.0, est=8.040285714285714, details={'was_impossible': False}), Prediction(uid=nan, iid='Nokia 3210', r_ui=10.0, est=8.359626995655285, details={'was_impossible': False}), Prediction(uid='Anonimuh', iid='Sony Smartphone Dual Chip Sony Xperia E Dual Desbloqueado Claro Preto Android 4.0 3G/Wi-Fi C??mera 3.2MP', r_ui=8.0, est=8.040285714285714, details={'was_impossible': False}), Prediction(uid='Fabiano Marinho da Silva', iid='Smartphone Nokia Lumia 530 Dual Desbloqueado Branco', r_ui=9.0, est=8.040285714285714, details={'was_impossible': False}), Prediction(uid='charliebrown \"cb81\"', iid='Nokia 6700 Classic Pink', r_ui=10.0, est=8.040285714285714, details={'was_impossible': False}), Prediction(uid='Demitry T', iid=\"ZeroLemon [180 days warranty] ZeroLemon Samsung Galaxy S III 7000mAh Extended Battery + Free Black Extended TPU Full Edge Protection Case / ***NFC for S Beam and Google Wallet***- WORLD'S HIGHEST S3 BATTERY CAPACITY - Black\", r_ui=10.0, est=8.040285714285714, details={'was_impossible': False}), Prediction(uid='\"fredchp\"', iid='Motorola V3 - Orange Pay As You Go Mobile Phone - Silver', r_ui=8.0, est=8.040285714285714, details={'was_impossible': False}), Prediction(uid='Nicholas Werner', iid='BLU Life Pure Unlocked Phone (Black)', r_ui=8.0, est=7.697379100901084, details={'was_impossible': False}), Prediction(uid='Jack8716', iid='Nokia N95', r_ui=8.0, est=8.720316795229666, details={'was_impossible': False}), Prediction(uid='maxsev1999', iid='Sony Xperia J', r_ui=10.0, est=8.040285714285714, details={'was_impossible': False}), Prediction(uid=nan, iid='Nokia C5-00 5MP', r_ui=6.0, est=7.127568829115287, details={'was_impossible': False}), Prediction(uid='Amazon Customer', iid='HTC DESIRE 628h 2PVG200 Dual Sim(4G),(Sunset Blue)', r_ui=2.0, est=7.393381251049339, details={'was_impossible': False}), Prediction(uid='Capyto', iid='Nokia 5310 Cep Telefonu', r_ui=9.0, est=8.110985257861582, details={'was_impossible': False}), Prediction(uid='MIGUEL ANGEL', iid='Doogee X5 - Smartphone Libre 3G Android 5.1 (Quad Core, 5.0\" IPS 1280*720 HD, 1GB RAM, 8GB ROM, 5.0MP CÃ¡mara, Dual SIM, GPS, OTG) Celular (Blanco)', r_ui=10.0, est=7.206380305125346, details={'was_impossible': False}), Prediction(uid='somnath kale', iid='Lenovo VIBE P1m (White, 16 GB)', r_ui=8.0, est=8.033243981889767, details={'was_impossible': False}), Prediction(uid='mo', iid='Sim Free Samsung Galaxy S7 Edge Mobile Phone - Gold', r_ui=6.0, est=8.531045729715633, details={'was_impossible': False}), Prediction(uid='CecilioMG', iid='Microsoft Lumia 550 - Smartphone libre Windows (pantalla 4.7\", cÃ¡mara 5 Mp, 8 GB, Quad-Core 1.1 GHz, 1 GB RAM), color blanco (importado)', r_ui=10.0, est=8.040285714285714, details={'was_impossible': False}), Prediction(uid='Robert Bradford', iid='Samsung Galaxy S6 Edge G925F 32GB Unlocked GSM LTE Octa-Core Phone - White', r_ui=2.0, est=8.040285714285714, details={'was_impossible': False}), Prediction(uid='Larry Kenyon', iid='BLU Dash 3.5 D170a Unlocked Dual SIM Phone with 1GHz Processor, Android 2.3, 3G HSDPA, High Resolution LCD, Wi-Fi, GPS - US Warranty', r_ui=6.0, est=8.040285714285714, details={'was_impossible': False}), Prediction(uid='Pilip', iid='Nokia E52', r_ui=6.0, est=8.213690241955554, details={'was_impossible': False}), Prediction(uid='edodizayn', iid='LG GM730 CEP TELEFONU', r_ui=8.0, est=8.040285714285714, details={'was_impossible': False}), Prediction(uid='actenion', iid='BlackBerry Pearl 8120', r_ui=6.0, est=7.8813315396480235, details={'was_impossible': False}), Prediction(uid='Victor Luna', iid='Samsung GT-i8200 Galaxy S3 Mini factory Unlocked International Verison WHITE', r_ui=10.0, est=8.040285714285714, details={'was_impossible': False}), Prediction(uid='izzet erbayraktar', iid='Sony Xperia S 32 GB', r_ui=10.0, est=8.040285714285714, details={'was_impossible': False}), Prediction(uid=\"Dip's\", iid='Samsung Galaxy J3 (8GB)', r_ui=10.0, est=8.46090953450722, details={'was_impossible': False}), Prediction(uid='Amazon Customer', iid='Oppo F1 (Gold, 3GB)', r_ui=10.0, est=7.393381251049339, details={'was_impossible': False}), Prediction(uid='Rolle', iid='Samsung Galaxy S III mini', r_ui=6.0, est=8.040285714285714, details={'was_impossible': False}), Prediction(uid='CoffeyBean', iid='Apple 32GB Sim Free iPhone 5 - White', r_ui=6.0, est=8.040285714285714, details={'was_impossible': False}), Prediction(uid='Amazon Customer', iid='Samsung Galaxy S4 I9505 16GB Unlocked GSM 4G LTE Quad-Core Phone - Black', r_ui=2.0, est=7.393381251049339, details={'was_impossible': False}), Prediction(uid='marcostar23', iid='Apple iPhone 6s 128 GB', r_ui=10.0, est=8.040285714285714, details={'was_impossible': False}), Prediction(uid='ALEX P.', iid='Doro Phone Easy 612 Telefono Cellulare, 32 MB, Nero/Bianco', r_ui=10.0, est=8.040285714285714, details={'was_impossible': False}), Prediction(uid='Ð¢ÑƒÐ¿ÐµÐ½Ð¾Ð² Ð\\xa0Ð¸Ð½Ð°Ñ‚', iid='Ð¡Ð¾Ñ‚Ð¾Ð²Ñ‹Ð¹ Ñ‚ÐµÐ»ÐµÑ„Ð¾Ð½ LG Optimus L3 E400 White', r_ui=9.0, est=8.040285714285714, details={'was_impossible': False}), Prediction(uid='Davide', iid='Microsoft Lumia 650 Smartphone da 16GB, Bianco [Italia]', r_ui=10.0, est=8.684924333032853, details={'was_impossible': False}), Prediction(uid='Lucas Stopa', iid='Motorola Smartphone Motorola Moto E (2Âª GeraÃ§Ã£o) Colors Dual Chip Desbloqueado...', r_ui=8.0, est=8.040285714285714, details={'was_impossible': False}), Prediction(uid='ÐšÐ¸Ñ€Ð¸Ð»Ð»', iid='Sony Xperia L (ÐºÑ€Ð°Ñ�Ð½Ñ‹Ð¹)', r_ui=10.0, est=8.040285714285714, details={'was_impossible': False}), Prediction(uid='Ð•Ð»ÐµÐ½Ð° Ð§ÑƒÐ´Ð¾Ð²Ð°', iid='Nokia Lumia 925', r_ui=6.0, est=8.040285714285714, details={'was_impossible': False}), Prediction(uid='Burkhard NiewÃ¶hner', iid='Samsung DuoS B7722i Smartphone (8,1 cm (3,2 Zoll) Display, Dual SIM, Touchscreen, 5 Megapixel Kamera) schwarz', r_ui=10.0, est=8.198653973707726, details={'was_impossible': False}), Prediction(uid='Chris724', iid='LG G2 Smartphone dÃ©bloquÃ© 4G 5,2 pouces 16 Go Android 4.2.2 Jelly Bean Blanc', r_ui=10.0, est=8.040285714285714, details={'was_impossible': False}), Prediction(uid='Jessika', iid='Nokia 6700 Classic', r_ui=8.0, est=8.043484219781618, details={'was_impossible': False}), Prediction(uid='?????€?????????? ??????????', iid='Apple iPhone 5 16Gb', r_ui=8.0, est=8.328691025849853, details={'was_impossible': False}), Prediction(uid='PC-ASSIST', iid='Storm 9530', r_ui=2.0, est=8.040285714285714, details={'was_impossible': False}), Prediction(uid='Das', iid='Nokia 6120 classic', r_ui=10.0, est=8.106598305942809, details={'was_impossible': False}), Prediction(uid='jeremie51qcr', iid='HP iPAQ 214 - De poche - Windows Mobile 6.0 - 4\" couleur TFT ( 640 x 480 ) - Wi-Fi, Bluetooth', r_ui=10.0, est=8.040285714285714, details={'was_impossible': False}), Prediction(uid='Anonymous', iid='ASUS Zenfone 2 Unlocked Smart Phone, 5.5\" Silver , 16GB Storage 2GB RAM, US Warranty', r_ui=4.0, est=8.603788695817697, details={'was_impossible': False}), Prediction(uid='julia talarn', iid='Huawei P8 GRA-UL00 16GB Mystic Champagne, 5.2\" Screen, Dual SIM, Unlocked Smartphone - International Stock, No Warranty', r_ui=10.0, est=8.040285714285714, details={'was_impossible': False}), Prediction(uid='earthfrom', iid='Nokia 1280', r_ui=4.0, est=8.040285714285714, details={'was_impossible': False}), Prediction(uid='federico carluccio', iid='Samsung G925 Galaxy S6 Edge Smartphone, 32 GB, Marchio Tim, Bianco [Italia]', r_ui=10.0, est=8.040285714285714, details={'was_impossible': False}), Prediction(uid='C. Kay', iid='HTC T8282 Touch HD Sim-Free Windows Mobile Smartphone', r_ui=10.0, est=8.040285714285714, details={'was_impossible': False}), Prediction(uid='nandamafra', iid='Kazam Wileyfox Swift UK SIM-Free Smartphone with Swift Hard Case and Screen Protection Card - Sandstone Black', r_ui=8.0, est=8.040285714285714, details={'was_impossible': False}), Prediction(uid='Marco stradaroli', iid='Nokia X3-02', r_ui=10.0, est=8.040285714285714, details={'was_impossible': False}), Prediction(uid='Dalton Alexandre', iid='Nokia Smartphone Nokia Lumia 630 Windows 8.1 Tela 4.5\" 8GB 3G Wi Fi CÃ¢mera...', r_ui=10.0, est=8.469567761559134, details={'was_impossible': False}), Prediction(uid='chick', iid='Samsung GT-E1270 TÃ©lÃ©phone portable 32 Mo Rouge', r_ui=10.0, est=8.040285714285714, details={'was_impossible': False}), Prediction(uid='corantin.millogo', iid='Samsung Galaxy A5 A500M 16GB Unlocked GSM 4G LTE Quad-Core Smartphone - Unlocked - Retail Packaging - (White)', r_ui=10.0, est=8.040285714285714, details={'was_impossible': False}), Prediction(uid='Ingrid', iid='Huawei P8 grijs / 16 GB', r_ui=9.0, est=8.130199468446666, details={'was_impossible': False}), Prediction(uid='chagneau K', iid='Yousave Accessories Coque en PU cuir pour Samsung Galaxy S4 Active Noir', r_ui=8.0, est=8.040285714285714, details={'was_impossible': False}), Prediction(uid='Isabel', iid='Apple iPhone 5S - Smartphone libre iOS (pantalla 4\", cÃ¡mara 8 Mp, 16 GB, Dual-Core 1.3 GHz, 1 GB RAM), negro', r_ui=8.0, est=8.040285714285714, details={'was_impossible': False}), Prediction(uid='Ð¤Ð¸Ð°Ð»ÐºÐ°25', iid='Nokia E72', r_ui=8.0, est=8.36304017869564, details={'was_impossible': False}), Prediction(uid='Guido Swaelen', iid='Samsung Galaxy A3 Goud (2016)', r_ui=8.0, est=8.040285714285714, details={'was_impossible': False}), Prediction(uid='Ranita Sarkar', iid='Apple iPhone 5S 16GB - White & Silver', r_ui=10.0, est=8.040285714285714, details={'was_impossible': False}), Prediction(uid=nan, iid='Samsung Star GT-S5230', r_ui=10.0, est=9.586753916906568, details={'was_impossible': False}), Prediction(uid=nan, iid='Sony Ericsson T650i', r_ui=8.0, est=8.721453951166998, details={'was_impossible': False}), Prediction(uid='schreef', iid='Samsung Galaxy J3 (2016)', r_ui=10.0, est=8.040285714285714, details={'was_impossible': False}), Prediction(uid='Anonymous', iid='Samsung Galaxy A5 Smartphone (2016) svart', r_ui=4.0, est=8.603788695817697, details={'was_impossible': False}), Prediction(uid='P. Maryse', iid='Kit Me Out FR Coque en gel TPU pour Nokia Lumia 625 - noir impression givre', r_ui=10.0, est=8.040285714285714, details={'was_impossible': False}), Prediction(uid='Maxime BRISSON', iid='Sony Mobile Etui fenÃªtre Style-up pour Xperia Z5 Noir', r_ui=8.0, est=8.040285714285714, details={'was_impossible': False}), Prediction(uid='anamika saggar', iid='V&A Enterprises Motorola RAZR V3 BLACK Sim Free UNLOCKED Mobile Phone Boxed with Accessories', r_ui=10.0, est=8.040285714285714, details={'was_impossible': False}), Prediction(uid='massimo', iid='Microsoft Lumia 640 Smartphone, Dual-SIM, Display HD-IPS 5 Pollici, Processore Quad-Core 1,2GHz, Fotocamera 8 MP, Memoria 8GB, Win 8.1, Bianco [Germania]', r_ui=10.0, est=8.040285714285714, details={'was_impossible': False}), Prediction(uid='Queenie', iid='Samsung Galaxy Note 4 4G SIM-Free Smartphone - Black', r_ui=10.0, est=8.202606034494034, details={'was_impossible': False}), Prediction(uid='saa001', iid='SCP-4900', r_ui=10.0, est=8.040285714285714, details={'was_impossible': False}), Prediction(uid='lixliu', iid='HTC One M8 32GB Unlocked GSM 4G LTE Quad-Core Smartphone - Silver', r_ui=2.0, est=8.040285714285714, details={'was_impossible': False}), Prediction(uid=\"Client d'Amazon\", iid='Samsung Galaxy J3 Smartphone dÃ©bloquÃ© 4G (Ecran: 5 Pouces - 8 Go - Micro-SIM - Android Lollipop 5.1) Noir', r_ui=10.0, est=7.452012250606444, details={'was_impossible': False}), Prediction(uid='major munson', iid='LG enV Touch VX11000 No Contract Verizon Cell Phone / QWERTY Keyboard / No Data Plan / Touch Screen', r_ui=2.0, est=8.040285714285714, details={'was_impossible': False}), Prediction(uid='Kozhevnikov Dmitry', iid='BlackBerry Z30', r_ui=10.0, est=8.196101260415315, details={'was_impossible': False}), Prediction(uid='Ð\\xa0Ð¾Ð¼Ð°Ð½', iid='Nokia Lumia 720 Red', r_ui=10.0, est=8.040285714285714, details={'was_impossible': False}), Prediction(uid='H. Kelly', iid='BlackBerry Q10 Unlocked Cellphone, 16GB, Black', r_ui=4.0, est=8.040285714285714, details={'was_impossible': False}), Prediction(uid='sybsee', iid='Sony Xperia M2 Smartphone (12,2 cm (4,8 Zoll) TFT-Display, 1,2 GHz Quad-Core-Prozessor, 1 GB RAM, 8 Megapixel Kamera, NFC-fÃ¤hig, Android 4.3) weiÃŸ', r_ui=10.0, est=8.207890642013401, details={'was_impossible': False}), Prediction(uid='Lisa Jones', iid='Motorola Photon Q XT897 Sprint CDMA 4G LTE Dual-Core Android Smartphone w/ Touchscreen + Slide-out Keyboard - Black', r_ui=4.0, est=7.706336862740927, details={'was_impossible': False}), Prediction(uid=nan, iid='Nokia E6', r_ui=6.0, est=6.939500123479039, details={'was_impossible': False}), Prediction(uid='Akshay Deshpande', iid='Lenovo Vibe X3 (White, 32GB)', r_ui=8.0, est=7.036929025186494, details={'was_impossible': False}), Prediction(uid='Roberto', iid='Siemens C55', r_ui=9.0, est=8.015812092026637, details={'was_impossible': False}), Prediction(uid='anneme', iid='Motorola ROKR E8 Cep Telefonu', r_ui=9.0, est=8.107662252313208, details={'was_impossible': False}), Prediction(uid='gutty', iid='Motorola Moto G 4G - Smartphone libre (pantalla 4.5\", cÃ¡mara 5 Mp, 8 GB, Quad-Core 1.2 GHz, 1 GB RAM, Android 4.4.3) blanco', r_ui=10.0, est=8.040285714285714, details={'was_impossible': False}), Prediction(uid='Olufisayo Dada', iid='BLU Zoey II Quadband Unlocked Dual Sim Phone with Camera Bluetooth and Social Networks - Retail Packaging - White Blue', r_ui=6.0, est=8.040285714285714, details={'was_impossible': False}), Prediction(uid='Tiek', iid='Pantech Hotshot CDM8992 Verizon CDMA Phone with Touchscreen, 3.15MP Camera, Video, GPS, Bluetooth, MP3/MP4 Player and microSD Slot - Red', r_ui=10.0, est=8.040285714285714, details={'was_impossible': False}), Prediction(uid='t.beletzky', iid='Sony Xperia Z Smartphone (5 Zoll (12,7 cm) Touch-Display, 16 GB Speicher, Android 4.1) schwarz', r_ui=2.0, est=8.040285714285714, details={'was_impossible': False}), Prediction(uid='aurki', iid='Nokia 2626', r_ui=6.0, est=8.040285714285714, details={'was_impossible': False}), Prediction(uid='Crespo971', iid='HTC P3470 Windows Mobile 6 Professional', r_ui=6.0, est=8.040285714285714, details={'was_impossible': False}), Prediction(uid='e-bit', iid='Smartphone Motorola Moto G 4 XT1626', r_ui=10.0, est=8.803800858726696, details={'was_impossible': False}), Prediction(uid='SF30_2000', iid='LG GW550', r_ui=10.0, est=8.040285714285714, details={'was_impossible': False}), Prediction(uid='TCGLMB', iid='LG MG160', r_ui=10.0, est=8.040285714285714, details={'was_impossible': False}), Prediction(uid='Sergio pastor', iid='T-Mobile Samsung Galaxy Grand Lite Smartphone (12,73 cm (5.01\"), 480 x 800 Pixeles, TFT, 1,2 GHz, 1024 MB, MicroSD USB/Wi-Fi Android 4.2.2 Jelly Bean 8 Go, Color blanco (importado)', r_ui=8.0, est=8.040285714285714, details={'was_impossible': False}), Prediction(uid='Roos Breuer', iid='Huawei P8 Lite goud, wit / 16 GB', r_ui=9.0, est=7.945219119744047, details={'was_impossible': False}), Prediction(uid='R.R.', iid='Huawei Ascend Y300 Smartphone (10,2 cm (4,0 Zoll) Touchscreen, 5 Megapixel, 4 GB Interner Speicher, Android 4.1.1 (Jelly Bean)) weiÃŸ', r_ui=4.0, est=8.040285714285714, details={'was_impossible': False}), Prediction(uid='Pablo Ayesta', iid='LG G3 - Smartphone libre Android (pantalla 5.5\", cÃ¡mara 13 Mp, 16 GB, Quad-Core 2.5 GHz, 2 GB RAM), gris titanio', r_ui=10.0, est=8.031902894205777, details={'was_impossible': False}), Prediction(uid='Klaus S.', iid='CUBOT GT72 4\" Smartphone Dual SIM Android Schwarz Touchscreen Handy ohne Vertrag', r_ui=10.0, est=8.040285714285714, details={'was_impossible': False}), Prediction(uid='Brainfucker', iid='Samsung C3222', r_ui=8.0, est=8.040285714285714, details={'was_impossible': False}), Prediction(uid='BOSE123', iid='Apple iPhone 6 Plus 64GB', r_ui=10.0, est=8.190492019844744, details={'was_impossible': False}), Prediction(uid=nan, iid='HTC Desire S', r_ui=10.0, est=6.931818246303337, details={'was_impossible': False}), Prediction(uid='stÃ©ph44', iid='SAMSUNG Player Star 2', r_ui=9.0, est=8.040285714285714, details={'was_impossible': False}), Prediction(uid='K Nichols', iid='Apple iPhone 4 8GB (White) - AT&T', r_ui=8.0, est=8.040285714285714, details={'was_impossible': False}), Prediction(uid='phelly', iid='Blackberry Torch 9860', r_ui=2.0, est=8.040285714285714, details={'was_impossible': False}), Prediction(uid='Monika Schatz', iid='Sony Xperia Z Ultra Smartphone (6,4 Zoll (16,3 cm) Touch-Display, 16 GB Speicher, Android 4.2) schwarz', r_ui=10.0, est=8.040285714285714, details={'was_impossible': False}), Prediction(uid='simon', iid='Apple iPhone 5c 16GB Green SIM-Free Smartphone - Genuine UK Stock, Unlocked for All Networks (discontinued by manufacturer)', r_ui=2.0, est=8.040285714285714, details={'was_impossible': False}), Prediction(uid='Jarle 32', iid='Samsung Galaxy S7 edge 32GB smarttelefon (sort)', r_ui=10.0, est=8.040285714285714, details={'was_impossible': False}), Prediction(uid='Ð¡Ñ‚ÐµÐ½ÑŒÐºÐ¸Ð½ Ð\\xa0Ð¾Ð¼Ð°Ð½ Ð˜Ð³Ð¾Ñ€ÐµÐ²Ð¸Ñ‡', iid='Ð¡Ð¾Ñ‚Ð¾Ð²Ñ‹Ð¹ Ñ‚ÐµÐ»ÐµÑ„Ð¾Ð½ Samsung Star GT-S5230 Noble Black', r_ui=9.0, est=8.040285714285714, details={'was_impossible': False}), Prediction(uid='Cirus', iid='SÃƒÂ\\xad : SÃƒÂ\\xad Nokia 7710', r_ui=8.0, est=8.040285714285714, details={'was_impossible': False}), Prediction(uid='John E.', iid='Motorola Moto G (1st Generation) - Black - 8 GB - Global GSM Unlocked Phone', r_ui=2.0, est=8.040285714285714, details={'was_impossible': False}), Prediction(uid='Dubai-555', iid='BlackBerry Z10 16GB OS 10 GSM Unlocked Smartphone - Black', r_ui=4.0, est=8.040285714285714, details={'was_impossible': False}), Prediction(uid='ÐœÐ°Ñ�Ñ‚ÐµÑ€ ÐŸÐ°Ð²ÐµÐ»', iid='HTC One mini 2', r_ui=2.0, est=8.040285714285714, details={'was_impossible': False}), Prediction(uid='nokia^-^', iid='Nokia (438) Asha 200', r_ui=9.0, est=8.040285714285714, details={'was_impossible': False}), Prediction(uid='JESSIE', iid='Samsung Galaxy S7 32GB - Black', r_ui=10.0, est=8.040285714285714, details={'was_impossible': False}), Prediction(uid='Alin', iid='Motorola DEFY', r_ui=9.0, est=8.040285714285714, details={'was_impossible': False}), Prediction(uid='Leaner45 ', iid='Samsung Galaxy S7 32GB (Metro PCS)', r_ui=10.0, est=8.204433897747911, details={'was_impossible': False}), Prediction(uid='Andres', iid='CT-Miami LLC BLU Life Play Unlocked Dual Sim Phone with Quad-Core 1.2GHz Processor, Android 4.2 JB, 4.7-inch IPS HD Display,(Grey)', r_ui=10.0, est=8.342232095985608, details={'was_impossible': False}), Prediction(uid='danya394', iid='Samsung Galaxy Ace GT-S5830', r_ui=8.0, est=7.904128028948929, details={'was_impossible': False}), Prediction(uid='smothus', iid='Motorola RAZR V3x', r_ui=8.0, est=8.040285714285714, details={'was_impossible': False}), Prediction(uid='Kenya Johnson', iid='Samsung Galaxy S4 I337 16GB Unlocked GSM 4G LTE Smartphone, Arctic Blue w/ 13MP Camera', r_ui=4.0, est=8.040285714285714, details={'was_impossible': False}), Prediction(uid='Irv246 ', iid='Samsung Galaxy S6 64GB (Verizon)', r_ui=8.0, est=8.200907285288494, details={'was_impossible': False}), Prediction(uid='Amazon Customer', iid='HTC Desire 500 Smartphone dÃ©bloquÃ© 3G Ecran 4,3 pouces MÃ©moire 4 Go 8 MÃ©gapixels Android 4.2 Jelly Bean Blanc/...', r_ui=10.0, est=7.393381251049339, details={'was_impossible': False}), Prediction(uid='Andrea R.', iid='LG Electronics E610 Optimus L5 Smartphone (10,2 cm (4 Zoll) Touchscreen, 5 Megapixel Kamera, UMTS, WiFi, Android 4.0) schwarz', r_ui=10.0, est=8.210030659527119, details={'was_impossible': False}), Prediction(uid='Poldybb', iid='HTC One S', r_ui=9.0, est=7.876213699673954, details={'was_impossible': False}), Prediction(uid='CLAUDIABOBIS', iid='Sony Ericsson Z310', r_ui=8.0, est=8.040285714285714, details={'was_impossible': False}), Prediction(uid='JUAN JESUS ANDRADES GARCIA', iid=\"Desconocido Xiaomi Redmi Note 2 - Smartphone libre (Android, pantalla 5.5'' FHD, cÃ¡mara 13MP, 16GB, 4G LTE, Dual Sim, MIUI 6 Octa Core 2.0GHz, 2GB RAM), blanco\", r_ui=10.0, est=8.16067296992797, details={'was_impossible': False}), Prediction(uid='×¢×¤×¨', iid='×˜×œ×¤×•×Ÿ ×¡×œ×•×œ×¨×™ LG G5 H850', r_ui=2.0, est=8.040285714285714, details={'was_impossible': False}), Prediction(uid='JS', iid='Samsung Galaxy S3 mini I8190 Smartphone (10,2 cm (4 Zoll) AMOLED Display, Dual-Core, 1GHz, 1GB RAM, 5 Megapixel Kamera, Android 4.1) sapphire-black', r_ui=10.0, est=8.034837453827263, details={'was_impossible': False}), Prediction(uid='rony', iid='Lenovo A1000 (Black)', r_ui=10.0, est=8.040285714285714, details={'was_impossible': False}), Prediction(uid='tiro', iid='Samsung E250 Cep Telefonu - Pembe', r_ui=9.0, est=8.187346044015595, details={'was_impossible': False}), Prediction(uid='Jennifer Urbina', iid='BLU Neo 4.5 Dual Core 4G HSPA+ 850/1700/1900 Unlocked Cell Phone - Retail Packaging - White', r_ui=10.0, est=8.040285714285714, details={'was_impossible': False}), Prediction(uid='Keren', iid='Sim Free Apple iPhone SE 64GB Mobile Phone - Silver', r_ui=10.0, est=8.040285714285714, details={'was_impossible': False}), Prediction(uid='twaxou', iid='Sony Ericsson W995 Walkman', r_ui=8.0, est=8.040285714285714, details={'was_impossible': False}), Prediction(uid='Satyendra Mishra', iid='Samsung Guru GT-E1200 (Indigo Blue)', r_ui=10.0, est=8.193554134740266, details={'was_impossible': False}), Prediction(uid='Alex77400', iid='LG G4 Smartphone dÃ©bloquÃ© 4G (Ecran : 5,5 pouces - 32 Go - Micro SIM - Android 5.0 Lollipop) Rouge', r_ui=10.0, est=8.040285714285714, details={'was_impossible': False}), Prediction(uid='Antonio VelÃ¡squez', iid='BlackBerry Torch 9810 Unlocked GSM Phone with OS 7.0, Touchscreen, Slider-QWERTY Keboard, Optical Trackpad, 5MP Camera, Video, GPS, Wi-Fi, Bluetooth and microSD Slot - Silver', r_ui=2.0, est=8.040285714285714, details={'was_impossible': False}), Prediction(uid='aitana', iid='Samsung Mobiltelefoner Galaxy J5 SM-J500F', r_ui=10.0, est=8.040285714285714, details={'was_impossible': False}), Prediction(uid='Juan M. ViruÃ©s Gavira', iid='Xiaomi SmartPhone Xiaomi MI2S 2GB/16Gb Qualcomm Snapdragon APQ8064T Negro. MI2S. (WCDMA - Banda europea). Pantalla 4,3\" con ResoluciÃ³n 1280x720 px. Quad Core 1.7Ghz. MIUI OS en EspaÃ±ol. MÃ³vil Libre. Color Blanco.', r_ui=10.0, est=8.040285714285714, details={'was_impossible': False}), Prediction(uid='XanTheGreat', iid='Sony Ericsson U20a Xperia Mini Pro Unlocked Phone--U.S. Warranty (Black)', r_ui=6.0, est=8.040285714285714, details={'was_impossible': False}), Prediction(uid='mt', iid='Motorola RAZR V3i Unlocked Phone with Camera, MP3/Video Player, and MicroSD Slot--International Version with No Warranty (Silver/Gray)', r_ui=2.0, est=8.040285714285714, details={'was_impossible': False}), Prediction(uid='semenova-renard', iid='Sony Ericsson Xperia X10', r_ui=10.0, est=8.206221253601205, details={'was_impossible': False}), Prediction(uid='Karry', iid='Nokia Lumia 720 Smartphone Monobloc tout tactile Windows Phone 8 Go Noir', r_ui=10.0, est=8.040285714285714, details={'was_impossible': False}), Prediction(uid='ihateverizoncommercials', iid='Glyde U940', r_ui=9.0, est=8.040285714285714, details={'was_impossible': False}), Prediction(uid='ityshenko', iid='BlackBerry Bold 9700', r_ui=8.0, est=8.040285714285714, details={'was_impossible': False}), Prediction(uid='Amazon Customer', iid='OnePlus 3 (Soft Gold, 64 GB)', r_ui=8.0, est=9.687376699062852, details={'was_impossible': False}), Prediction(uid='Wolfgang', iid='Microsoft Nokia Lumia 630 Single-SIM Smartphone (4,5 Zoll (11,4 cm) Touch-Display, 8 GB Speicher, Windows 8.1) cyan', r_ui=4.0, est=8.040285714285714, details={'was_impossible': False}), Prediction(uid='kelley', iid='Samsung Galaxy S III 4g LTE (WHITE) Android Prepaid Phone (Net 10) S960l S3 Siii S 3 no contract smartphone touch...', r_ui=4.0, est=8.040285714285714, details={'was_impossible': False}), Prediction(uid='f_ulusoy', iid='NOKIA E71 CEP TELEFONU', r_ui=10.0, est=8.200406741188417, details={'was_impossible': False}), Prediction(uid='Jorge', iid='Lenovo Motorola Moto E - Smartphone libre Android (pantalla 4.3\", cÃ¡mara 5 Mp, 4 GB, Dual-Core 1.2 GHz, 1 GB RAM), negro', r_ui=8.0, est=8.345484890608194, details={'was_impossible': False}), Prediction(uid='alex.yablonsky', iid='Nokia 2730 Classic', r_ui=6.0, est=8.022728819100543, details={'was_impossible': False}), Prediction(uid='jignesh', iid='Asus Zenfone 3 ZE552KL-1A031IN (Black)', r_ui=10.0, est=8.040285714285714, details={'was_impossible': False}), Prediction(uid='Amazon Kunde', iid='Apple iPhone 6 Gold 16GB SIM-Free Smartphone (Zertifiziert und GeneralÃ¼berholt)', r_ui=2.0, est=6.10389770059578, details={'was_impossible': False}), Prediction(uid='Daniela Tontini', iid='Nokia 130 Telefono Cellulare, Rosso [Italia]', r_ui=8.0, est=8.040285714285714, details={'was_impossible': False}), Prediction(uid='GUERO997', iid='Sony Ericsson K510', r_ui=6.0, est=8.040285714285714, details={'was_impossible': False}), Prediction(uid='devis', iid='LG Electronics G2 mini Smartphone (4,7 Zoll (11,9 cm) Touch-Display, 8 GB Speicher, Android 4.4) schwarz', r_ui=10.0, est=8.040285714285714, details={'was_impossible': False}), Prediction(uid='Ð’Ð»Ð°Ð´Ð¸Ð¼Ð¸Ñ€', iid='Samsung Ð¡Ð¼Ð°Ñ€Ñ‚Ñ„Ð¾Ð½ Samsung Galaxy Note 4 SM-N910C Black', r_ui=9.0, est=8.040285714285714, details={'was_impossible': False}), Prediction(uid='Valentina T.', iid='Huawei P9 lite Smartphone VNS-L31 (5,2 Zoll) Touch-Display, 16 GB interner Speicher, 3GB RAM, Android 6) schwarz', r_ui=8.0, est=8.040285714285714, details={'was_impossible': False}), Prediction(uid=nan, iid='HTC Incredible S', r_ui=10.0, est=8.052756803013382, details={'was_impossible': False}), Prediction(uid='Lucius', iid='ÐœÐ¾Ð±Ð¸Ð»ÑŒÐ½Ñ‹Ð¹ Ñ‚ÐµÐ»ÐµÑ„Ð¾Ð½ Nokia 2730 Classic', r_ui=10.0, est=8.040285714285714, details={'was_impossible': False}), Prediction(uid='einer Kundin', iid='Huawei P9 Lite Dual-SIM Smartphone, 13,2 cm (5,2 Zoll) Display, LTE (4G), Android 6.0 (Marshmallow)', r_ui=10.0, est=8.176887309903012, details={'was_impossible': False}), Prediction(uid='hellman', iid='Samsung SGH-L700', r_ui=9.0, est=8.040285714285714, details={'was_impossible': False}), Prediction(uid='spinster', iid='Samsung Galaxy S GT-I9000', r_ui=10.0, est=8.048762298560879, details={'was_impossible': False}), Prediction(uid='kenson', iid='Motorola Hint QA30', r_ui=9.0, est=8.040285714285714, details={'was_impossible': False}), Prediction(uid='Amazon Customer', iid='Lenovo Vibe S1 (4G, Dark Blue)', r_ui=10.0, est=6.352209001331286, details={'was_impossible': False}), Prediction(uid='sikim', iid='HP HP Pre 3', r_ui=8.0, est=8.040285714285714, details={'was_impossible': False}), Prediction(uid=nan, iid='Nokia C6-00', r_ui=10.0, est=8.052756803013382, details={'was_impossible': False}), Prediction(uid='cynic ', iid='Samsung Galaxy S6 32GB (AT&T)', r_ui=10.0, est=8.521503598434599, details={'was_impossible': False}), Prediction(uid='PandabearManda', iid='Samsung Galaxy Note 3 N900A 32GB Unlocked GSM 4G LTE Android Smartphone w/ S Pen Stylus - White', r_ui=6.0, est=8.040285714285714, details={'was_impossible': False}), Prediction(uid='Jackie', iid='Pantech Hotshot CDM8992 Verizon CDMA Phone with Touchscreen, 3.15MP Camera, Video, GPS, Bluetooth, MP3/MP4 Player and microSD Slot - Red', r_ui=10.0, est=8.040285714285714, details={'was_impossible': False}), Prediction(uid='einer Kundin', iid='ZTE Blade A452 Smartphone, 12,7 cm (5 Zoll) Display, LTE (4G), Android 5.1 Lollipop, 13,0 Megapixel', r_ui=10.0, est=8.176887309903012, details={'was_impossible': False}), Prediction(uid='Helmut Wildenauer \"Audifan\"', iid='Microsoft Nokia 6303 classic steel (Kamera mit 3,2 MP, MP3, Bluetooth) Handy', r_ui=10.0, est=8.040285714285714, details={'was_impossible': False}), Prediction(uid='Mashalah alexander', iid='Samsung Galaxy S5 G900T T-Mobile Cellphone, 16GB, Shimmery White', r_ui=8.0, est=8.040285714285714, details={'was_impossible': False}), Prediction(uid='Amazon Customer', iid='Lenovo Vibe K4 Note (White,16GB)', r_ui=8.0, est=7.516072726089246, details={'was_impossible': False}), Prediction(uid=nan, iid='Nokia E63', r_ui=9.0, est=8.213863566937631, details={'was_impossible': False}), Prediction(uid='crazyboi1', iid='Toshiba PortÃ©gÃ© G500', r_ui=6.0, est=8.040285714285714, details={'was_impossible': False}), Prediction(uid='Maniac', iid='Microsoft Nokia N73 plum/ silver UMTS Handy', r_ui=8.0, est=8.040285714285714, details={'was_impossible': False}), Prediction(uid='NATIVE4LIFE ', iid='Samsung Galaxy S6 edge+ 32GB (Verizon)', r_ui=10.0, est=8.199961942770237, details={'was_impossible': False}), Prediction(uid='niggga', iid='Nokia 5800 XpressMusic', r_ui=2.0, est=8.146475706336465, details={'was_impossible': False}), Prediction(uid='kunschikov', iid='Motorola C118', r_ui=10.0, est=8.040285714285714, details={'was_impossible': False}), Prediction(uid='marie', iid='Nokia Lumia 800 Unlocked GSM Phone with Windows 7.5 OS, 3.7\" AMOLED Multi-Touchscreen, 8MP Camera with Carl Zeiss Optics, Video, GPS, Wi-Fi, Bluetooth and FM Radio - Black', r_ui=10.0, est=8.040285714285714, details={'was_impossible': False}), Prediction(uid='Joao Augusto SIlva', iid='Motorola Smartphone Motorola Moto E Dual Chip Desbloqueado Preto Android 4.4 3G Wi-Fi CÃ¢mera de 5MP 4GB GPS', r_ui=8.0, est=8.040285714285714, details={'was_impossible': False}), Prediction(uid='ar1397r', iid='Nokia 603', r_ui=10.0, est=8.040285714285714, details={'was_impossible': False}), Prediction(uid='danilo', iid=\"DOOGEE DG310 3G Smartphone - 5'' IPS, Android 5.1 1.3GHz Quad Core, Dual SIM, 1G RAM + 8G ROM, OTG OTA GPS WiFi, Dark Blu\", r_ui=8.0, est=8.040285714285714, details={'was_impossible': False}), Prediction(uid='utsav chakraborty', iid='Samsung Galaxy K Zoom (Charcoal Black)', r_ui=8.0, est=8.040285714285714, details={'was_impossible': False}), Prediction(uid='bejbii', iid='Sony Ericsson K610i', r_ui=6.0, est=8.20755782278755, details={'was_impossible': False}), Prediction(uid='Aml Alhrtomy', iid='Apple iPhone 5s GSM Unlocked Cellphone, 16 GB, Space Gray', r_ui=10.0, est=8.150131519347589, details={'was_impossible': False}), Prediction(uid='bond00794', iid='Nokia 5800 XpressMusic', r_ui=10.0, est=8.146475706336465, details={'was_impossible': False}), Prediction(uid='Gaec Du Petit Perret', iid='Nokia 2760 TÃ©lÃ©phone portable Bluetooth GSM / MMS Appareil photo mp3 Radio FM Gris', r_ui=8.0, est=7.700427593041624, details={'was_impossible': False}), Prediction(uid='Mihaela', iid='Samsung Galaxy S7 Smartphone (12,92 cm (5,1 Zoll) Touch-Display, 32GB interner Speicher, Android OS) pink', r_ui=10.0, est=7.521576795450481, details={'was_impossible': False}), Prediction(uid='Isaac Clark', iid='HTC myTouch 3G Unlocked Android Phone with 3G Support, GPS, and Touch Screen - US Warranty - White', r_ui=2.0, est=8.040285714285714, details={'was_impossible': False}), Prediction(uid='katie', iid='T-Mobile Sparq Prepaid Phone (T-Mobile)', r_ui=2.0, est=8.046089589801639, details={'was_impossible': False}), Prediction(uid='Lucas', iid='LG T375 Cookie Smart', r_ui=2.0, est=8.208482115648394, details={'was_impossible': False}), Prediction(uid='zola77127', iid='LEAD LEAGOO LEAD 5 Smartphone DÃ©bloquÃ© 3G 5,0 Pouces IPS Ecran Android 4.4 Quad Core 1Go RAM 8Go ROM Dual SIM camÃ©ra 5MP - WIFI GPS FM Bluetooth - Compatible avec Orange Bouygues Virgin Free etc - Noir', r_ui=10.0, est=8.040285714285714, details={'was_impossible': False}), Prediction(uid='keleezpc68 ', iid='Samsung Galaxy S5 16GB (AT&T)', r_ui=10.0, est=8.241680072039, details={'was_impossible': False}), Prediction(uid=nan, iid='Samsung Galaxy S II GT-I9100', r_ui=10.0, est=7.541290966890451, details={'was_impossible': False}), Prediction(uid='Nan001', iid='BLU Dash JR 4.0K Android 4.4 Kit Kat 2MP Main Camera VGA Front Unlocked Cell Phone - Retail Packaging - Pink', r_ui=8.0, est=8.040285714285714, details={'was_impossible': False}), Prediction(uid='andreax98', iid='Nokia N75', r_ui=10.0, est=8.040285714285714, details={'was_impossible': False}), Prediction(uid='David Roberts', iid='Motorola Moto G 4G SIM-Free Smartphone - Black (8GB) - Discontinued by manufacturer', r_ui=6.0, est=8.357337777022948, details={'was_impossible': False}), Prediction(uid='Lea', iid='O2 LG K4 Mobile Phone - Black', r_ui=8.0, est=8.040285714285714, details={'was_impossible': False}), Prediction(uid='CeanTS', iid='Samsung (936) Galaxy S Duos S7562', r_ui=9.0, est=8.040285714285714, details={'was_impossible': False}), Prediction(uid='vbrg', iid='Nokia N95', r_ui=6.0, est=8.720316795229666, details={'was_impossible': False}), Prediction(uid='4PRESIDENT', iid='Samsung SGH E720', r_ui=10.0, est=8.040285714285714, details={'was_impossible': False}), Prediction(uid='MUHAMMET YAZAR', iid='Sony Xperia Z1 Compact', r_ui=8.0, est=8.214327191452131, details={'was_impossible': False}), Prediction(uid='Mema1108', iid='Galaxy Samsung Galaxy S5 SM-G900H Factory Unlocked - White', r_ui=2.0, est=8.040285714285714, details={'was_impossible': False}), Prediction(uid='Denise D.', iid='Motorola XT890 RAZR i Unlocked Android Smartphone with 8MP Camera, Wi-Fi, GPS, 4.3-Inch Screen, 2 GHz Processor, 8 GB Memory and MicroSD Slot - No Warranty - Black', r_ui=8.0, est=8.040285714285714, details={'was_impossible': False}), Prediction(uid='Tom', iid='Huawei P8lite zwart / 16 GB', r_ui=9.0, est=7.800550817026883, details={'was_impossible': False}), Prediction(uid='Alessandro', iid='Huawei P8 lite Smartphone, Display 5.0\" IPS, Dual Sim, Processore Octa-Core, Memoria 16 GB, Fotocamera 13 MP, Android 5.0, Bianco', r_ui=10.0, est=7.214795170629932, details={'was_impossible': False}), Prediction(uid='toffee69', iid='Samsung SGH F210', r_ui=8.0, est=8.040285714285714, details={'was_impossible': False}), Prediction(uid='Cliente Amazon', iid='BlackBerry Classic Smartphone, 16 GB, Bianco [Italia]', r_ui=10.0, est=8.661053555646017, details={'was_impossible': False}), Prediction(uid='Eme69', iid='LG Optimus L7 noir', r_ui=6.0, est=8.040285714285714, details={'was_impossible': False}), Prediction(uid='Ð�ÐµÐ¿Ð¾Ð¼Ð½Ñ�Ñ‰Ð¸Ð¹ Ð’Ð¸Ñ‚Ð°Ð»Ð¸Ð¹ ÐŸÐµÑ‚Ñ€Ð¾Ð²Ð¸Ñ‡', iid='Nokia 5228', r_ui=8.0, est=8.02837141776555, details={'was_impossible': False}), Prediction(uid='Ð—ÐµÐ¼ÐµÐ»Ð¸Ð½ Ð�Ð»ÐµÐºÑ�', iid='Samsung Galaxy S3 Neo GT-I9301I', r_ui=10.0, est=8.040285714285714, details={'was_impossible': False}), Prediction(uid='behappy2', iid='Samsung GT S5200', r_ui=8.0, est=8.040285714285714, details={'was_impossible': False}), Prediction(uid='ÐšÐ°Ð¼Ñ‹ÑˆÐ°Ð½Ð¾Ð² Ð”ÐµÐ½Ð¸Ñ�', iid='ASUS Zenfone 5 16Gb', r_ui=8.0, est=8.044861692798182, details={'was_impossible': False}), Prediction(uid='timopronold', iid='Mitsubishi Astral', r_ui=8.0, est=8.02986240766266, details={'was_impossible': False}), Prediction(uid='Genchadam', iid='Samsung Galaxy S7 edge', r_ui=10.0, est=8.192120088614862, details={'was_impossible': False}), Prediction(uid='jbel1', iid='HTC S730', r_ui=10.0, est=8.040285714285714, details={'was_impossible': False}), Prediction(uid='Arrie', iid='Huawei P8 Lite White', r_ui=10.0, est=8.196451628594247, details={'was_impossible': False}), Prediction(uid='Madhusudan H N', iid='Motorola Moto G 3rd Generation (Black, 16GB)', r_ui=6.0, est=8.015692073922066, details={'was_impossible': False}), Prediction(uid='Friederike Steinmann', iid='Samsung Galaxy Pocket Plus Smartphone (7,1 cm (2,8 Zoll) Touchscreen, Quadband , 2 Megapixel Kamera, 4GB interne Speicher, SD-Kartenslot) weiÃŸ', r_ui=6.0, est=8.040285714285714, details={'was_impossible': False}), Prediction(uid='ATT-JMM-2k9', iid='iPhone 3G', r_ui=2.0, est=8.040285714285714, details={'was_impossible': False}), Prediction(uid='Peter', iid='MICROSOFT Lumia 650 - 16 GB, Black', r_ui=3.0, est=7.2635059015077665, details={'was_impossible': False}), Prediction(uid='486cihan', iid='NOKIA X6 CEP TELEFONU - 16 GB', r_ui=8.0, est=8.040285714285714, details={'was_impossible': False}), Prediction(uid='Gabriele', iid=\"LG Google Nexus 5X H791 ( 32GB, Carbonio ) Versione Europea 5,2'' , Android 6.0 Marshmallow\", r_ui=10.0, est=8.03764049441472, details={'was_impossible': False}), Prediction(uid='alaa bashir', iid='Samsung N920 Unlocked Galaxy Note 5, GSM 32GB Gold Factory - International Version (Gold)', r_ui=10.0, est=8.040285714285714, details={'was_impossible': False}), Prediction(uid=nan, iid='Sony Ericsson W995', r_ui=10.0, est=8.720350228910133, details={'was_impossible': False}), Prediction(uid='Herbaflex', iid='Microsoft Nokia 3600 slide Handy (EDGE, QVGA-Display, Kamera mit 3,2 MP, UKW-Stereo-Handy, Bluetooth) charcoal', r_ui=8.0, est=8.040285714285714, details={'was_impossible': False}), Prediction(uid='Ð’Ð»Ð°Ð´Ð¸Ð¼Ð¸Ñ€', iid='Sony Xperia C (Ð±ÐµÐ»Ñ‹Ð¹)', r_ui=10.0, est=8.040285714285714, details={'was_impossible': False}), Prediction(uid='Stefan', iid='Sony Xperia Z1 Smartphone (5 Zoll (12,7 cm) Touch-Display, 16 GB Speicher, Android 4.2) weiÃŸ', r_ui=10.0, est=8.039216626208807, details={'was_impossible': False}), Prediction(uid='Gabe', iid='LG Optimus L90 D415 4G GSM Android Smartphone, T-Mobile, Grey', r_ui=8.0, est=8.040285714285714, details={'was_impossible': False}), Prediction(uid='Manel', iid='LG Nexus 5X - Smartphone libre Android (5.2\", 12.3 MP, 2 GB de RAM, 32 GB), color negro', r_ui=10.0, est=8.211051247502265, details={'was_impossible': False}), Prediction(uid='zopopÃ©', iid='SONY ERICSSON Xperia X10 Mini', r_ui=9.0, est=8.040285714285714, details={'was_impossible': False}), Prediction(uid='jezlin', iid='Asus Zenfone Max ZC550KL-6A068IN (Black, 2GB, 16GB)', r_ui=10.0, est=7.700061566280747, details={'was_impossible': False}), Prediction(uid='sexxysol', iid='Motorola Atrix HD 8GB MB886 4G LTE Black - AT&T Wireless', r_ui=10.0, est=8.040285714285714, details={'was_impossible': False}), Prediction(uid='Prabhat Kumar Srivastava', iid='Motorola Moto G, 4th Gen (White, 2 GB, 16 GB)', r_ui=2.0, est=7.368535322903866, details={'was_impossible': False}), Prediction(uid='gil', iid='Motorola Flipout Smartphone (7,1 cm (2,8 Zoll) Display, Touchscreen, 3 Megapixel Kamera) schwarz', r_ui=8.0, est=8.206469835518845, details={'was_impossible': False}), Prediction(uid='Ricardo Rodrigues de souz', iid='Sony Smartphone Sony Xperia T3 Desbloqueado Android 4.4 Tela 5.3\" 8GB 4G...', r_ui=10.0, est=8.040285714285714, details={'was_impossible': False}), Prediction(uid='Antonino', iid=\"Alcatel One Touch Pop 3 (5) Smartphone, Dual SIM, Display 5' Pollici, 8 GB Memoria interna, 1Gb RAM, Fotocamera da 5 Megapixel con autofocus e flash LED, Android 5.1 Lollipop, Oro [Italia]\", r_ui=10.0, est=8.040285714285714, details={'was_impossible': False}), Prediction(uid=nan, iid='LG T300', r_ui=4.0, est=8.052756803013382, details={'was_impossible': False}), Prediction(uid='Diib', iid='Samsung Smartphone Dual Chip Samsung Galaxy S II Duos S7273 Desbloqueado TIM Cinza Android 4.2 4GB TV Digital', r_ui=10.0, est=8.040285714285714, details={'was_impossible': False}), Prediction(uid='Stok3r', iid='Samsung Galaxy Ace 3', r_ui=8.0, est=8.040285714285714, details={'was_impossible': False}), Prediction(uid='Gio', iid='Samsung Galaxy S5 G900V Verizon 4G LTE Smartphone w/ 16MP Camera - Black - Verizon', r_ui=6.0, est=8.040285714285714, details={'was_impossible': False}), Prediction(uid='Ciara', iid='Motorola T-Mobile Motorola sidekick Q700 - SLIDER, QWERTY, CAMERA phone - No contract phone', r_ui=4.0, est=8.040285714285714, details={'was_impossible': False}), Prediction(uid='Timothy P McManus', iid='Sony Xperia XZ (F8331) - 32GB - 23MP - Single Sim Factory Unlocked Smartphone (Platinum)', r_ui=10.0, est=8.040285714285714, details={'was_impossible': False}), Prediction(uid='Paul', iid='HTC One M8 32GB Unlocked GSM 4G LTE Android Smartphone - Amber Gold', r_ui=2.0, est=8.355961708724768, details={'was_impossible': False}), Prediction(uid='dingo', iid='SAMSUNG Player Star 2', r_ui=9.0, est=8.040285714285714, details={'was_impossible': False}), Prediction(uid='leguevaq', iid='Samsung S5230 Player One TÃ©lÃ©phone Portable Ecran 3\" Bluetooth mp3 Appareil photo Carte MicroSD Blanc', r_ui=10.0, est=8.040285714285714, details={'was_impossible': False}), Prediction(uid='Mary', iid='Nokia Lumia 730 - Smartphone libre Windows Phone (pantalla 4.7\", 8 GB, 1.2 GHz, Qualcomm Snapdragon, 1 GB), naranja [importado]', r_ui=8.0, est=8.118176736188392, details={'was_impossible': False}), Prediction(uid='tjrsasea', iid='Apple iPhone 7 Unlocked Phone 128 GB - US Version (Rose Gold)', r_ui=8.0, est=8.040285714285714, details={'was_impossible': False}), Prediction(uid='Jeff Fata', iid='Samsung Chat 357 Smartphone Monobloc SGP platform Wifi Blanc', r_ui=2.0, est=8.040285714285714, details={'was_impossible': False}), Prediction(uid='LES INNES', iid='HTC Desire C Sim Free Smartphone - White', r_ui=2.0, est=8.040285714285714, details={'was_impossible': False}), Prediction(uid='Y.SESHA SAYEE', iid='Panasonic P51 (White)', r_ui=8.0, est=8.040285714285714, details={'was_impossible': False}), Prediction(uid='KADORNA68', iid='Motorola KRZR K1', r_ui=6.0, est=8.217348400590877, details={'was_impossible': False}), Prediction(uid='Verbouwer', iid='Sony Xperia Z5 goud / 32 GB', r_ui=10.0, est=8.203101988765143, details={'was_impossible': False}), Prediction(uid='Michael', iid='Samsung Galaxy Prevail 1 m820 No Contract Android Smartphone (Boost Mobile)', r_ui=10.0, est=7.50427033463397, details={'was_impossible': False}), Prediction(uid='Siftairkenner :)', iid='Samsung Galaxy S5 Smartphone (5,1 Zoll (12,9 cm) Touch-Display, 16 GB Speicher, Android 4.4) electric blue', r_ui=4.0, est=7.783930544367148, details={'was_impossible': False}), Prediction(uid='Chetan', iid='Lenovo P70 A (Blue)', r_ui=6.0, est=7.728900414494742, details={'was_impossible': False}), Prediction(uid='Amazon Customer', iid='Motorola Moto G, 4th Gen (White, 16GB) - Android 7.0 Nougat Update Available Now', r_ui=6.0, est=7.393381251049339, details={'was_impossible': False}), Prediction(uid='Amusd ', iid='Samsung Galaxy S5 16GB (T-Mobile)', r_ui=10.0, est=8.466966873128069, details={'was_impossible': False}), Prediction(uid='Jordi R.', iid='LG L40 D160 - Smartphone libre Android (pantalla 3.5\", cÃ¡mara 3 Mp, 4 GB, Dual-Core 1.2 GHz, 512 MB de RAM), negro [importado]', r_ui=8.0, est=8.040285714285714, details={'was_impossible': False}), Prediction(uid='Ð¤ÐµÐ´Ð¾Ñ€ÐµÐ½ÐºÐ¾ ÐžÐ»ÑŒÐ³Ð° Ð’Ð°Ñ�Ð¸Ð»ÑŒÐµÐ²Ð½Ð°', iid='Nokia 6303i Classic', r_ui=10.0, est=8.040285714285714, details={'was_impossible': False}), Prediction(uid='heike', iid='Doro PhoneEasy 338gsm Mobiltelefon (Notruftaste, 3 Direktwahltasten, groÃŸe Tasten) weiÃŸ', r_ui=10.0, est=7.551392550359654, details={'was_impossible': False}), Prediction(uid='ArinaSP', iid='Xiaomi ÐœÐ¾Ð±Ð¸Ð»ÑŒÐ½Ñ‹Ð¹ Ñ‚ÐµÐ»ÐµÑ„Ð¾Ð½ Xiaomi Redmi Note 3 Pro 32Gb', r_ui=10.0, est=8.040285714285714, details={'was_impossible': False}), Prediction(uid='Ellis', iid='Motorola RAZR V3 Unlocked Phone with Quad-Band GSM, Camera and Video Player--International Version with Warranty (Cherry Red)', r_ui=10.0, est=8.040285714285714, details={'was_impossible': False}), Prediction(uid='Valmir dos Santos', iid='Motorola Smartphone Motorola Moto G Dual Chip Desbloqueado TIM Android 4.3 Tela 4.5 8GB 3G Wi-Fi CÃ¢mera 5MP - Preto', r_ui=10.0, est=8.040285714285714, details={'was_impossible': False}), Prediction(uid='Lovely Fox', iid='Nokia Lumia 800', r_ui=10.0, est=8.193077770366749, details={'was_impossible': False}), Prediction(uid='Ð�Ð½Ñ�', iid='Sony Xperia Z1 Compact (Ð±ÐµÐ»Ñ‹Ð¹)', r_ui=10.0, est=8.356535515863907, details={'was_impossible': False}), Prediction(uid='Keith Lightfoot', iid='Sony Xperia Sp C5303 Black (Factory Unlocked) 4.6\" Hd,8 Mp, 1.7ghz Dual Core S4 Fast Shipping All the World By Fedex', r_ui=10.0, est=8.040285714285714, details={'was_impossible': False}), Prediction(uid='shhhilpi', iid='Sony Vivaz Mobile Phone', r_ui=6.0, est=8.040285714285714, details={'was_impossible': False}), Prediction(uid='JONAKONR', iid='Nokia N97', r_ui=8.0, est=8.000987357786029, details={'was_impossible': False}), Prediction(uid='T Christenhusz', iid='Samsung Galaxy J5 (2016) J510 Black', r_ui=10.0, est=8.040285714285714, details={'was_impossible': False}), Prediction(uid='Sasha Baranco Mathieu', iid='LG Optimus L7 P705 Factory Unlocked International Version No Warranty Gsm Android Phone, White', r_ui=6.0, est=8.040285714285714, details={'was_impossible': False}), Prediction(uid=nan, iid='Samsung S5360 Galaxy Y Pure White [Android 2.3, 7.62cm (3\") Display, 2MP]', r_ui=10.0, est=8.052756803013382, details={'was_impossible': False}), Prediction(uid='Kai Huerter', iid='Nokia 208 Handy (6,1 cm (2,4 Zoll) Farbdisplay, 1,3 Megapixel Kamera, 64MB RAM, 256MB Speicher) schwarz', r_ui=4.0, est=8.040285714285714, details={'was_impossible': False}), Prediction(uid='Pat M.', iid='HTC Desire 610 (AT&T Go Phone) No Annual Contract', r_ui=10.0, est=8.040285714285714, details={'was_impossible': False}), Prediction(uid='Ð�Ñ€Ñ‚ÑƒÑ€', iid='ZTE Blade V7 (Ñ€Ð¾Ð·Ð¾Ð²Ñ‹Ð¹)', r_ui=9.0, est=8.193402971887235, details={'was_impossible': False}), Prediction(uid='JOSE LUIS', iid='Samsung Galaxy S7 edge SM-G935FD 4GB / 64GB 5.5-inch 4G LTE Dual SIM FACTORY UNLOCKED - International Stock No Warranty (PINK GOLD)', r_ui=10.0, est=8.040285714285714, details={'was_impossible': False}), Prediction(uid='fla1706', iid='Samsung Galaxy J5 (2016)', r_ui=8.0, est=8.040285714285714, details={'was_impossible': False}), Prediction(uid='Nat_G', iid='Samsung - GT-B2710 - Telephone Portable Solid 271 Quadri-bande EDGE Bluetooth Noir/Gris', r_ui=6.0, est=8.041210856024763, details={'was_impossible': False}), Prediction(uid='Amazon Customer', iid='LG G4 H815 32GB Unlocked GSM 4G LTE Hexa-Core Android Smartphone w/ 16MP Camera - White/Gold - International Version No Warranty', r_ui=10.0, est=7.393381251049339, details={'was_impossible': False}), Prediction(uid='FranzGerd', iid='Samsung Galaxy S4 mini Smartphone (4,3 Zoll (10,9 cm) Touch-Display, 8 GB Speicher, Android 4.2) weiÃŸ', r_ui=10.0, est=8.040285714285714, details={'was_impossible': False}), Prediction(uid='Honest Face', iid='Google Nexus 5 D821 (32 GB, White)', r_ui=10.0, est=8.040285714285714, details={'was_impossible': False}), Prediction(uid='SnowdDea1', iid='Samsung Galaxy S III', r_ui=10.0, est=8.19728335303605, details={'was_impossible': False}), Prediction(uid='Alex G', iid='HTC P4000 Titan', r_ui=6.0, est=8.040285714285714, details={'was_impossible': False}), Prediction(uid='DeliciousDan ', iid='Samsung Galaxy S5 16GB (T-Mobile)', r_ui=9.0, est=8.466966873128069, details={'was_impossible': False}), Prediction(uid='seul87k', iid='Dare VX-9700', r_ui=10.0, est=8.040285714285714, details={'was_impossible': False}), Prediction(uid='Amazon Customer', iid='Apple iPhone 7 Plus Unlocked Phone 128 GB - US Version (Black)', r_ui=10.0, est=7.393381251049339, details={'was_impossible': False}), Prediction(uid='Gianluca', iid='Samsung Galaxy S7 Smartphone, 32 GB, Nero', r_ui=10.0, est=8.209390453006632, details={'was_impossible': False}), Prediction(uid='Nicole Lucifredi', iid=\"Archos 50 Helium 4G Smartphone ( 5'' )\", r_ui=10.0, est=8.040285714285714, details={'was_impossible': False}), Prediction(uid='luciano', iid='THL W100 - Telefono cellulare schermo IPS da 4.5\" quattro core MTK6589 1G RAM', r_ui=6.0, est=8.040285714285714, details={'was_impossible': False}), Prediction(uid='I Love Th??s Fuck??ng Phone', iid='Apple (48) iPhone 5 16 GB', r_ui=9.0, est=8.040285714285714, details={'was_impossible': False}), Prediction(uid='e-bit', iid='Celular Motorola EX115', r_ui=8.0, est=8.803800858726696, details={'was_impossible': False}), Prediction(uid='LAU_HARRIOTT', iid='Samsung M2310', r_ui=8.0, est=8.027042864033058, details={'was_impossible': False}), Prediction(uid='e-bit', iid='Smartphone Samsung Galaxy S7 SM-G930 32GB', r_ui=10.0, est=9.014685454792781, details={'was_impossible': False}), Prediction(uid='e-bit', iid='Smartphone Apple iPhone 6 16GB', r_ui=10.0, est=8.803800858726696, details={'was_impossible': False}), Prediction(uid='Queen Of Books \"Viva La Diva\"', iid='ZTE Z Max 2 16GB Unlocked GSM 4G LTE Quad-Core Android Smartphone w/ 8MP Camera - Black', r_ui=10.0, est=8.040285714285714, details={'was_impossible': False}), Prediction(uid='Ð¨Ð¾Ð½', iid='Nokia 5230 Navigation Edition', r_ui=6.0, est=8.19644012847805, details={'was_impossible': False}), Prediction(uid='damien.gallery', iid='Siemens A60', r_ui=8.0, est=8.040285714285714, details={'was_impossible': False}), Prediction(uid='Judes McBoo Bear', iid='Samsung Galaxy S7 Edge Factory Unlocked Phone 32 GB International Version (Black Onyx)', r_ui=2.0, est=8.482534624171075, details={'was_impossible': False}), Prediction(uid='ATIN', iid='Mi Xiaomi Mi Max Prime (Gold, 128GB)', r_ui=10.0, est=8.040285714285714, details={'was_impossible': False}), Prediction(uid='....', iid='Apple 64GB iPhone 5 Sim Free Smartphone - White', r_ui=2.0, est=8.040285714285714, details={'was_impossible': False}), Prediction(uid='Amazon Customer', iid='Lenovo Vibe K4 Note (Black, 16GB)', r_ui=6.0, est=6.1761739486320835, details={'was_impossible': False}), Prediction(uid='ÐšÐ¾Ñ€Ð±Ð°Ñ‡ Ð’Ð»Ð°Ð´Ð¸Ð¼Ð¸Ñ€', iid='Samsung S5560', r_ui=10.0, est=7.648389483772766, details={'was_impossible': False}), Prediction(uid='ashu', iid='Micromax Canvas A1 AQ4501 (White)', r_ui=8.0, est=8.040285714285714, details={'was_impossible': False}), Prediction(uid='Ã–landskille', iid='Samsung Galaxy S8+ smartphone (silver)', r_ui=8.0, est=8.204289673615271, details={'was_impossible': False}), Prediction(uid='MAZUR', iid=\"Flycool Asus ZenFone 2 (ZE551ML/ZE550ML) Film Protection d'Ã©cran en Verre TrempÃ©, Flycool(TM) Protection Ã©cran en Verre TrempÃ© pour Asus ZenFone 2 5.5 pouces\", r_ui=10.0, est=8.040285714285714, details={'was_impossible': False}), Prediction(uid='Ð”Ð¼Ð¸Ñ‚Ñ€Ð¸Ð¹', iid='Lenovo A2010 (Ð±ÐµÐ»Ñ‹Ð¹)', r_ui=9.0, est=8.006943499662617, details={'was_impossible': False}), Prediction(uid='Cruso', iid='BLU Vivo XL Smartphone - 5.5\" 4G LTE - GSM Unlocked - Midnight Blue', r_ui=10.0, est=7.54933966395119, details={'was_impossible': False}), Prediction(uid='Jackie', iid='LG Prime GS390 Feature SmartPhone (Unlocked)', r_ui=10.0, est=8.040285714285714, details={'was_impossible': False}), Prediction(uid='e-bit', iid='Smartphone LG K10 K430TV', r_ui=10.0, est=8.803800858726696, details={'was_impossible': False}), Prediction(uid='gabry', iid='BlackBerry Z10 Smartphone, Display da 4.2 Pollici, Touchscreen, Fotocamera 8 Megapixel, Memoria Ampliabile 16 GB, 4G LTE, Bianco [Germania]', r_ui=10.0, est=8.040285714285714, details={'was_impossible': False}), Prediction(uid='Ð�Ð»ÐµÐºÑ�Ð°Ð½Ð´Ñ€ Ð¦Ð°Ñ€ÑŒÐºÐ¾Ð²', iid='Nokia X1-01', r_ui=10.0, est=7.882840664806863, details={'was_impossible': False}), Prediction(uid=nan, iid='Samsung Galaxy S5 mini SM-G800F', r_ui=2.0, est=8.052756803013382, details={'was_impossible': False}), Prediction(uid='lÃ¹', iid='Huawei P9 lite Smartphone [Versione EU Ovest] Oro', r_ui=8.0, est=8.040285714285714, details={'was_impossible': False}), Prediction(uid='Ð�Ð½Ð°Ñ‚Ð¾Ð»Ð¸Ð¹78', iid='Samsung GT-S5233 Star TV', r_ui=10.0, est=8.040285714285714, details={'was_impossible': False}), Prediction(uid='huliye', iid='Nokia N81 8GB Cep Telefonu', r_ui=9.0, est=8.040285714285714, details={'was_impossible': False}), Prediction(uid='Renzo Consolati', iid='Huawei P8 Lite Smart Smartphone da 16GB, Marchio Tim, Oro', r_ui=10.0, est=8.318529926398119, details={'was_impossible': False}), Prediction(uid='Girija Nandan Jha', iid='Lenovo Vibe K4 Note (Black, 16GB)', r_ui=2.0, est=7.628517705146331, details={'was_impossible': False})]\n"
     ]
    }
   ],
   "source": [
    "print('Y PRED : ', y_pred)"
   ]
  },
  {
   "cell_type": "code",
   "execution_count": 35,
   "metadata": {},
   "outputs": [
    {
     "data": {
      "text/html": [
       "<div>\n",
       "<style scoped>\n",
       "    .dataframe tbody tr th:only-of-type {\n",
       "        vertical-align: middle;\n",
       "    }\n",
       "\n",
       "    .dataframe tbody tr th {\n",
       "        vertical-align: top;\n",
       "    }\n",
       "\n",
       "    .dataframe thead th {\n",
       "        text-align: right;\n",
       "    }\n",
       "</style>\n",
       "<table border=\"1\" class=\"dataframe\">\n",
       "  <thead>\n",
       "    <tr style=\"text-align: right;\">\n",
       "      <th></th>\n",
       "      <th>0</th>\n",
       "      <th>1</th>\n",
       "      <th>2</th>\n",
       "    </tr>\n",
       "  </thead>\n",
       "  <tbody>\n",
       "    <tr>\n",
       "      <th>0</th>\n",
       "      <td>Tameka Stanley</td>\n",
       "      <td>BLU Dash 5.5 - Unlocked Cell Phones - Retail P...</td>\n",
       "      <td>8.040286</td>\n",
       "    </tr>\n",
       "    <tr>\n",
       "      <th>1</th>\n",
       "      <td>Lechi</td>\n",
       "      <td>Lenovo Motorola Defy mini Smartphone (8,1 cm (...</td>\n",
       "      <td>8.040286</td>\n",
       "    </tr>\n",
       "    <tr>\n",
       "      <th>2</th>\n",
       "      <td>funkydancer</td>\n",
       "      <td>Samsung SGH J600</td>\n",
       "      <td>8.040286</td>\n",
       "    </tr>\n",
       "    <tr>\n",
       "      <th>3</th>\n",
       "      <td>Htou</td>\n",
       "      <td>Samsung Galaxy S7 goud, roze / 32 GB</td>\n",
       "      <td>8.040286</td>\n",
       "    </tr>\n",
       "    <tr>\n",
       "      <th>4</th>\n",
       "      <td>Brumburum</td>\n",
       "      <td>Sony Ericsson Xperia Pro (Red)</td>\n",
       "      <td>8.040286</td>\n",
       "    </tr>\n",
       "  </tbody>\n",
       "</table>\n",
       "</div>"
      ],
      "text/plain": [
       "                0                                                  1         2\n",
       "0  Tameka Stanley  BLU Dash 5.5 - Unlocked Cell Phones - Retail P...  8.040286\n",
       "1           Lechi  Lenovo Motorola Defy mini Smartphone (8,1 cm (...  8.040286\n",
       "2     funkydancer                                   Samsung SGH J600  8.040286\n",
       "3            Htou               Samsung Galaxy S7 goud, roze / 32 GB  8.040286\n",
       "4       Brumburum                     Sony Ericsson Xperia Pro (Red)  8.040286"
      ]
     },
     "execution_count": 35,
     "metadata": {},
     "output_type": "execute_result"
    }
   ],
   "source": [
    "predDFTest = pd.DataFrame([[x.uid,x.iid,x.est] for x in y_pred])\n",
    "predDFTest.head()"
   ]
  },
  {
   "cell_type": "markdown",
   "metadata": {},
   "source": [
    "#### Build a collaborative filtering model using kNNWithMeans from surprise. Ycan try both user-based and item-based model"
   ]
  },
  {
   "cell_type": "code",
   "execution_count": 36,
   "metadata": {},
   "outputs": [
    {
     "name": "stdout",
     "output_type": "stream",
     "text": [
      "Computing the cosine similarity matrix...\n",
      "Done computing similarity matrix.\n"
     ]
    },
    {
     "data": {
      "text/plain": [
       "<surprise.prediction_algorithms.knns.KNNWithMeans at 0x1d093c27a90>"
      ]
     },
     "execution_count": 36,
     "metadata": {},
     "output_type": "execute_result"
    }
   ],
   "source": [
    "# User-Based Model\n",
    "knn_model_user = KNNWithMeans(k=50, sim_options={'name': 'cosine', 'user_based': True})\n",
    "knn_model_user.fit(X)"
   ]
  },
  {
   "cell_type": "code",
   "execution_count": 37,
   "metadata": {},
   "outputs": [
    {
     "name": "stdout",
     "output_type": "stream",
     "text": [
      "Computing the cosine similarity matrix...\n",
      "Done computing similarity matrix.\n"
     ]
    },
    {
     "data": {
      "text/plain": [
       "<surprise.prediction_algorithms.knns.KNNWithMeans at 0x1d093c27a60>"
      ]
     },
     "execution_count": 37,
     "metadata": {},
     "output_type": "execute_result"
    }
   ],
   "source": [
    "# Item-Based Model\n",
    "knn_model_item = KNNWithMeans(k=50, sim_options={'name': 'cosine', 'user_based': False})\n",
    "knn_model_item.fit(X)"
   ]
  },
  {
   "cell_type": "markdown",
   "metadata": {},
   "source": [
    "#### Evaluate the collaborative model. Print RMSE value"
   ]
  },
  {
   "cell_type": "code",
   "execution_count": 38,
   "metadata": {},
   "outputs": [
    {
     "name": "stdout",
     "output_type": "stream",
     "text": [
      "User-based Model RMSE\n",
      "RMSE: 2.5849\n"
     ]
    },
    {
     "data": {
      "text/html": [
       "<div>\n",
       "<style scoped>\n",
       "    .dataframe tbody tr th:only-of-type {\n",
       "        vertical-align: middle;\n",
       "    }\n",
       "\n",
       "    .dataframe tbody tr th {\n",
       "        vertical-align: top;\n",
       "    }\n",
       "\n",
       "    .dataframe thead th {\n",
       "        text-align: right;\n",
       "    }\n",
       "</style>\n",
       "<table border=\"1\" class=\"dataframe\">\n",
       "  <thead>\n",
       "    <tr style=\"text-align: right;\">\n",
       "      <th></th>\n",
       "      <th>0</th>\n",
       "      <th>1</th>\n",
       "      <th>2</th>\n",
       "    </tr>\n",
       "  </thead>\n",
       "  <tbody>\n",
       "    <tr>\n",
       "      <th>0</th>\n",
       "      <td>Tameka Stanley</td>\n",
       "      <td>BLU Dash 5.5 - Unlocked Cell Phones - Retail P...</td>\n",
       "      <td>8.040286</td>\n",
       "    </tr>\n",
       "    <tr>\n",
       "      <th>1</th>\n",
       "      <td>Lechi</td>\n",
       "      <td>Lenovo Motorola Defy mini Smartphone (8,1 cm (...</td>\n",
       "      <td>8.040286</td>\n",
       "    </tr>\n",
       "    <tr>\n",
       "      <th>2</th>\n",
       "      <td>funkydancer</td>\n",
       "      <td>Samsung SGH J600</td>\n",
       "      <td>8.040286</td>\n",
       "    </tr>\n",
       "    <tr>\n",
       "      <th>3</th>\n",
       "      <td>Htou</td>\n",
       "      <td>Samsung Galaxy S7 goud, roze / 32 GB</td>\n",
       "      <td>8.040286</td>\n",
       "    </tr>\n",
       "    <tr>\n",
       "      <th>4</th>\n",
       "      <td>Brumburum</td>\n",
       "      <td>Sony Ericsson Xperia Pro (Red)</td>\n",
       "      <td>8.040286</td>\n",
       "    </tr>\n",
       "  </tbody>\n",
       "</table>\n",
       "</div>"
      ],
      "text/plain": [
       "                0                                                  1         2\n",
       "0  Tameka Stanley  BLU Dash 5.5 - Unlocked Cell Phones - Retail P...  8.040286\n",
       "1           Lechi  Lenovo Motorola Defy mini Smartphone (8,1 cm (...  8.040286\n",
       "2     funkydancer                                   Samsung SGH J600  8.040286\n",
       "3            Htou               Samsung Galaxy S7 goud, roze / 32 GB  8.040286\n",
       "4       Brumburum                     Sony Ericsson Xperia Pro (Red)  8.040286"
      ]
     },
     "execution_count": 38,
     "metadata": {},
     "output_type": "execute_result"
    }
   ],
   "source": [
    "y_pred_user = knn_model_user.test(y)\n",
    "y_pred_item = knn_model_item.test(y)\n",
    "\n",
    "print(\"User-based Model RMSE\")\n",
    "accuracy.rmse(y_pred_user)\n",
    "# User based model test prediction\n",
    "test_pred_user_df = pd.DataFrame([[x.uid,x.iid,x.est] for x in y_pred_user])\n",
    "test_pred_user_df.head(5)"
   ]
  },
  {
   "cell_type": "code",
   "execution_count": 39,
   "metadata": {},
   "outputs": [
    {
     "name": "stdout",
     "output_type": "stream",
     "text": [
      "Item-based Model RMSE\n",
      "RMSE: 2.6137\n"
     ]
    },
    {
     "data": {
      "text/html": [
       "<div>\n",
       "<style scoped>\n",
       "    .dataframe tbody tr th:only-of-type {\n",
       "        vertical-align: middle;\n",
       "    }\n",
       "\n",
       "    .dataframe tbody tr th {\n",
       "        vertical-align: top;\n",
       "    }\n",
       "\n",
       "    .dataframe thead th {\n",
       "        text-align: right;\n",
       "    }\n",
       "</style>\n",
       "<table border=\"1\" class=\"dataframe\">\n",
       "  <thead>\n",
       "    <tr style=\"text-align: right;\">\n",
       "      <th></th>\n",
       "      <th>0</th>\n",
       "      <th>1</th>\n",
       "      <th>2</th>\n",
       "    </tr>\n",
       "  </thead>\n",
       "  <tbody>\n",
       "    <tr>\n",
       "      <th>0</th>\n",
       "      <td>Tameka Stanley</td>\n",
       "      <td>BLU Dash 5.5 - Unlocked Cell Phones - Retail P...</td>\n",
       "      <td>8.040286</td>\n",
       "    </tr>\n",
       "    <tr>\n",
       "      <th>1</th>\n",
       "      <td>Lechi</td>\n",
       "      <td>Lenovo Motorola Defy mini Smartphone (8,1 cm (...</td>\n",
       "      <td>8.040286</td>\n",
       "    </tr>\n",
       "    <tr>\n",
       "      <th>2</th>\n",
       "      <td>funkydancer</td>\n",
       "      <td>Samsung SGH J600</td>\n",
       "      <td>8.040286</td>\n",
       "    </tr>\n",
       "    <tr>\n",
       "      <th>3</th>\n",
       "      <td>Htou</td>\n",
       "      <td>Samsung Galaxy S7 goud, roze / 32 GB</td>\n",
       "      <td>8.040286</td>\n",
       "    </tr>\n",
       "    <tr>\n",
       "      <th>4</th>\n",
       "      <td>Brumburum</td>\n",
       "      <td>Sony Ericsson Xperia Pro (Red)</td>\n",
       "      <td>8.040286</td>\n",
       "    </tr>\n",
       "  </tbody>\n",
       "</table>\n",
       "</div>"
      ],
      "text/plain": [
       "                0                                                  1         2\n",
       "0  Tameka Stanley  BLU Dash 5.5 - Unlocked Cell Phones - Retail P...  8.040286\n",
       "1           Lechi  Lenovo Motorola Defy mini Smartphone (8,1 cm (...  8.040286\n",
       "2     funkydancer                                   Samsung SGH J600  8.040286\n",
       "3            Htou               Samsung Galaxy S7 goud, roze / 32 GB  8.040286\n",
       "4       Brumburum                     Sony Ericsson Xperia Pro (Red)  8.040286"
      ]
     },
     "execution_count": 39,
     "metadata": {},
     "output_type": "execute_result"
    }
   ],
   "source": [
    "print(\"Item-based Model RMSE\")\n",
    "accuracy.rmse(y_pred_item)\n",
    "# Item based model test prediction\n",
    "test_pred_item_df = pd.DataFrame([[x.uid,x.iid,x.est] for x in y_pred_item])\n",
    "test_pred_item_df.head(5)"
   ]
  },
  {
   "cell_type": "markdown",
   "metadata": {},
   "source": [
    "#### Predict score (average rating) for test users."
   ]
  },
  {
   "cell_type": "code",
   "execution_count": 40,
   "metadata": {},
   "outputs": [
    {
     "data": {
      "text/plain": [
       "Prediction(uid='funkydancer', iid='Samsung SGH J600', r_ui=None, est=8.040285714285714, details={'was_impossible': True, 'reason': 'User and/or item is unknown.'})"
      ]
     },
     "execution_count": 40,
     "metadata": {},
     "output_type": "execute_result"
    }
   ],
   "source": [
    "#Test User 1\n",
    "\n",
    "knn_model_user.predict(uid=\"funkydancer\",iid=\"Samsung SGH J600\")"
   ]
  },
  {
   "cell_type": "code",
   "execution_count": 41,
   "metadata": {},
   "outputs": [
    {
     "data": {
      "text/plain": [
       "Prediction(uid='Brumburum', iid='Sony Ericsson Xperia Pro (Red)', r_ui=None, est=8.040285714285714, details={'was_impossible': True, 'reason': 'User and/or item is unknown.'})"
      ]
     },
     "execution_count": 41,
     "metadata": {},
     "output_type": "execute_result"
    }
   ],
   "source": [
    "# Test User 2\n",
    "\n",
    "knn_model_user.predict(uid=\"Brumburum\",iid=\"Sony Ericsson Xperia Pro (Red)\")"
   ]
  },
  {
   "cell_type": "markdown",
   "metadata": {},
   "source": [
    "#### Report your findings and inferences."
   ]
  },
  {
   "cell_type": "code",
   "execution_count": 42,
   "metadata": {},
   "outputs": [
    {
     "data": {
      "text/plain": [
       "<AxesSubplot:xlabel='score', ylabel='count'>"
      ]
     },
     "execution_count": 42,
     "metadata": {},
     "output_type": "execute_result"
    },
    {
     "data": {
      "image/png": "[encoded data removed]",
      "text/plain": [
       "<Figure size 432x288 with 1 Axes>"
      ]
     },
     "metadata": {
      "needs_background": "light"
     },
     "output_type": "display_data"
    }
   ],
   "source": [
    "sns.countplot(x= processedDF['score'])"
   ]
  },
  {
   "cell_type": "markdown",
   "metadata": {},
   "source": [
    "#### Report\n",
    "\n",
    "1. Most of the users are satisified and has provided 10 on 10 for most of the products\n",
    "2. Seconded by 8 rating\n",
    "3. Above pattern also shows the series of unhappy users on different numbers"
   ]
  },
  {
   "cell_type": "markdown",
   "metadata": {},
   "source": [
    "#### Try and recommend top 5 products for test users."
   ]
  },
  {
   "cell_type": "code",
   "execution_count": 43,
   "metadata": {},
   "outputs": [],
   "source": [
    "df_pred = pd.DataFrame(y_pred_user)"
   ]
  },
  {
   "cell_type": "code",
   "execution_count": 44,
   "metadata": {},
   "outputs": [],
   "source": [
    "def recommendations(user, n):\n",
    "    recommended_products = df_pred [df_pred['uid'] == user][['uid','iid','est']].sort_values('est', ascending=False).head(n)\n",
    "    return recommended_products"
   ]
  },
  {
   "cell_type": "markdown",
   "metadata": {},
   "source": [
    "#### Top 5 recommendation for uid= Amazon Customer"
   ]
  },
  {
   "cell_type": "code",
   "execution_count": 45,
   "metadata": {},
   "outputs": [
    {
     "data": {
      "text/html": [
       "<div>\n",
       "<style scoped>\n",
       "    .dataframe tbody tr th:only-of-type {\n",
       "        vertical-align: middle;\n",
       "    }\n",
       "\n",
       "    .dataframe tbody tr th {\n",
       "        vertical-align: top;\n",
       "    }\n",
       "\n",
       "    .dataframe thead th {\n",
       "        text-align: right;\n",
       "    }\n",
       "</style>\n",
       "<table border=\"1\" class=\"dataframe\">\n",
       "  <thead>\n",
       "    <tr style=\"text-align: right;\">\n",
       "      <th></th>\n",
       "      <th>uid</th>\n",
       "      <th>iid</th>\n",
       "      <th>est</th>\n",
       "    </tr>\n",
       "  </thead>\n",
       "  <tbody>\n",
       "    <tr>\n",
       "      <th>1326</th>\n",
       "      <td>Amazon Customer</td>\n",
       "      <td>OnePlus 3 (Soft Gold, 64 GB)</td>\n",
       "      <td>8.734446</td>\n",
       "    </tr>\n",
       "    <tr>\n",
       "      <th>1094</th>\n",
       "      <td>Amazon Customer</td>\n",
       "      <td>OnePlus 3 (Soft Gold, 64 GB)</td>\n",
       "      <td>8.734446</td>\n",
       "    </tr>\n",
       "    <tr>\n",
       "      <th>1111</th>\n",
       "      <td>Amazon Customer</td>\n",
       "      <td>Lenovo Vibe K5 (Grey, VoLTE update)</td>\n",
       "      <td>8.343340</td>\n",
       "    </tr>\n",
       "    <tr>\n",
       "      <th>954</th>\n",
       "      <td>Amazon Customer</td>\n",
       "      <td>Lenovo Vibe K5 (Grey, VoLTE update)</td>\n",
       "      <td>8.343340</td>\n",
       "    </tr>\n",
       "    <tr>\n",
       "      <th>1155</th>\n",
       "      <td>Amazon Customer</td>\n",
       "      <td>Lenovo Vibe K5 (Grey, VoLTE update)</td>\n",
       "      <td>8.343340</td>\n",
       "    </tr>\n",
       "  </tbody>\n",
       "</table>\n",
       "</div>"
      ],
      "text/plain": [
       "                  uid                                  iid       est\n",
       "1326  Amazon Customer         OnePlus 3 (Soft Gold, 64 GB)  8.734446\n",
       "1094  Amazon Customer         OnePlus 3 (Soft Gold, 64 GB)  8.734446\n",
       "1111  Amazon Customer  Lenovo Vibe K5 (Grey, VoLTE update)  8.343340\n",
       "954   Amazon Customer  Lenovo Vibe K5 (Grey, VoLTE update)  8.343340\n",
       "1155  Amazon Customer  Lenovo Vibe K5 (Grey, VoLTE update)  8.343340"
      ]
     },
     "execution_count": 45,
     "metadata": {},
     "output_type": "execute_result"
    }
   ],
   "source": [
    "recommendations('Amazon Customer',5)"
   ]
  },
  {
   "cell_type": "markdown",
   "metadata": {},
   "source": [
    "#### Try cross validation techniques to get better results."
   ]
  },
  {
   "cell_type": "code",
   "execution_count": 46,
   "metadata": {},
   "outputs": [
    {
     "name": "stdout",
     "output_type": "stream",
     "text": [
      "Evaluating RMSE, MAE of algorithm SVD on 5 split(s).\n",
      "\n",
      "                  Fold 1  Fold 2  Fold 3  Fold 4  Fold 5  Mean    Std     \n",
      "RMSE (testset)    2.5860  2.6008  2.4674  2.4999  2.5402  2.5389  0.0504  \n",
      "MAE (testset)     1.9689  1.9808  1.8913  1.9292  1.9752  1.9491  0.0341  \n",
      "Fit time          0.28    0.26    0.25    0.22    0.27    0.26    0.02    \n",
      "Test time         0.00    0.00    0.00    0.02    0.00    0.00    0.01    \n"
     ]
    },
    {
     "data": {
      "text/plain": [
       "{'test_rmse': array([2.58595397, 2.60083707, 2.46739247, 2.49993725, 2.54022309]),\n",
       " 'test_mae': array([1.96885569, 1.98082546, 1.89134484, 1.92918072, 1.97520635]),\n",
       " 'fit_time': (0.2815690040588379,\n",
       "  0.26403117179870605,\n",
       "  0.2542545795440674,\n",
       "  0.21999597549438477,\n",
       "  0.27053332328796387),\n",
       " 'test_time': (0.0, 0.0010457038879394531, 0.0, 0.016148805618286133, 0.0)}"
      ]
     },
     "execution_count": 46,
     "metadata": {},
     "output_type": "execute_result"
    }
   ],
   "source": [
    "cross_validate(svd_model, userProductData, measures=['RMSE', 'MAE'], cv=5, verbose=True)"
   ]
  },
  {
   "cell_type": "markdown",
   "metadata": {},
   "source": [
    "### In what business scenario you should use popularity based Recommendation Systems?\n",
    "\n",
    "1) OTT platform - Recommending the trending movies/web series to user.\n",
    "\n",
    "2) Food delivery - Top selling food in poarticular location or frequently ordered food.\n",
    "\n",
    "3) Shopping site/ecommerce - To recommend top selling product to customers."
   ]
  },
  {
   "cell_type": "markdown",
   "metadata": {},
   "source": [
    "### In what business scenario you should use CF based Recommendation Systems?\n",
    "\n",
    "In the same OTT and shopping platforms if the recommendation involves the paterren of user vs item and the likeness and choice the CF based recommendation with be the best fit."
   ]
  },
  {
   "cell_type": "markdown",
   "metadata": {},
   "source": [
    "### What other possible methods can you think of which can further improve the recommendation for different users ?\n",
    "\n",
    "1) Other than collaborative filtering content based will be a good option where in similar products and recommended combos can added.\n",
    "\n",
    "2) Vidoe ranking in case of OTT or any vidoe platforms\n",
    "\n",
    "3) Knowledge-based Recommender systems"
   ]
  }
 ],
 "metadata": {
  "kernelspec": {
   "display_name": "Python 3",
   "language": "python",
   "name": "python3"
  },
  "language_info": {
   "codemirror_mode": {
    "name": "ipython",
    "version": 3
   },
   "file_extension": ".py",
   "mimetype": "text/x-python",
   "name": "python",
   "nbconvert_exporter": "python",
   "pygments_lexer": "ipython3",
   "version": "3.8.5"
  }
 },
 "nbformat": 4,
 "nbformat_minor": 4
}
